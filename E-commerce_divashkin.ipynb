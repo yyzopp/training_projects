{
 "cells": [
  {
   "cell_type": "markdown",
   "metadata": {},
   "source": [
    "Продакт-менеджер Василий попросил вас проанализировать совершенные покупки и ответить на следующие вопросы:\n",
    "\n",
    "1. Сколько у нас пользователей, которые совершили покупку только один раз?\n",
    "\n",
    "2. Сколько заказов в месяц в среднем не доставляется по разным причинам (вывести детализацию по причинам)?\n",
    "\n",
    "3. По каждому товару определить, в какой день недели товар чаще всего покупается.\n",
    "\n",
    "4. Сколько у каждого из пользователей в среднем покупок в неделю (по месяцам)? Не стоит забывать, что внутри месяца может быть не целое количество недель. Например, в ноябре 2021 года 4,28 недели. И внутри метрики это нужно учесть.\n",
    "\n",
    "5. Используя pandas, проведи когортный анализ пользователей. В период с января по декабрь выяви когорту с самым высоким retention на 3й месяц. Описание подхода можно найти тут.\n",
    "6. Часто для качественного анализа аудитории использую подходы, основанные на сегментации. Используя python, построй RFM-сегментацию пользователей, чтобы качественно оценить свою аудиторию. В кластеризации можешь выбрать следующие метрики: R - время от последней покупки пользователя до текущей даты, F - суммарное количество покупок у пользователя за всё время, M - сумма покупок за всё время. Подробно опиши, как ты создавал кластеры. Для каждого RFM-сегмента построй границы метрик recency, frequency и monetary для интерпретации этих кластеров. Пример такого описания: RFM-сегмент 132 (recency=1, frequency=3, monetary=2) имеет границы метрик recency от 130 до 500 дней, frequency от 2 до 5 заказов в неделю, monetary от 1780 до 3560 рублей в неделю."
   ]
  },
  {
   "cell_type": "code",
   "execution_count": 71,
   "metadata": {},
   "outputs": [],
   "source": [
    "import pandas as pd\n",
    "pd.options.mode.chained_assignment = None  # default='warn'\n",
    "import seaborn as sns\n",
    "import plotly.express as px\n",
    "import numpy as np\n",
    "import matplotlib.pyplot as plt\n",
    "from operator import attrgetter\n",
    "from datetime import timedelta"
   ]
  },
  {
   "cell_type": "code",
   "execution_count": 72,
   "metadata": {},
   "outputs": [],
   "source": [
    "df = pd.read_csv('/mnt/HC_Volume_18315164/home-jupyter/jupyter-d-ivashkin-23/olist_customers_dataset.csv')\n",
    "# датасет с инофрмацией о пользователях \n",
    "df1 = pd.read_csv('/mnt/HC_Volume_18315164/home-jupyter/jupyter-d-ivashkin-23/olist_orders_dataset.csv', \n",
    "                  parse_dates=['order_purchase_timestamp', \n",
    "                               'order_approved_at', \n",
    "                               'order_delivered_carrier_date', \n",
    "                               'order_delivered_customer_date', \n",
    "                               'order_estimated_delivery_date'])\n",
    "# датасет с информацие о статусе заказов\n",
    "df2= pd.read_csv('/mnt/HC_Volume_18315164/home-jupyter/jupyter-d-ivashkin-23/olist_order_items_dataset.csv', \n",
    "                 parse_dates=['shipping_limit_date'])\n",
    "# датасет с информацией о заказах"
   ]
  },
  {
   "cell_type": "markdown",
   "metadata": {},
   "source": [
    "1. Сколько у нас пользователей, которые совершили покупку только один раз?"
   ]
  },
  {
   "cell_type": "code",
   "execution_count": 73,
   "metadata": {},
   "outputs": [],
   "source": [
    "orders = df.merge(df1)\n",
    "#объединяем датасеты для подсчёта количества покупок уникальных пользователей"
   ]
  },
  {
   "cell_type": "code",
   "execution_count": 74,
   "metadata": {
    "scrolled": true
   },
   "outputs": [
    {
     "data": {
      "text/html": [
       "<div>\n",
       "<style scoped>\n",
       "    .dataframe tbody tr th:only-of-type {\n",
       "        vertical-align: middle;\n",
       "    }\n",
       "\n",
       "    .dataframe tbody tr th {\n",
       "        vertical-align: top;\n",
       "    }\n",
       "\n",
       "    .dataframe thead th {\n",
       "        text-align: right;\n",
       "    }\n",
       "</style>\n",
       "<table border=\"1\" class=\"dataframe\">\n",
       "  <thead>\n",
       "    <tr style=\"text-align: right;\">\n",
       "      <th></th>\n",
       "      <th>customer_id</th>\n",
       "      <th>customer_unique_id</th>\n",
       "      <th>customer_zip_code_prefix</th>\n",
       "      <th>customer_city</th>\n",
       "      <th>customer_state</th>\n",
       "      <th>order_id</th>\n",
       "      <th>order_status</th>\n",
       "      <th>order_purchase_timestamp</th>\n",
       "      <th>order_approved_at</th>\n",
       "      <th>order_delivered_carrier_date</th>\n",
       "      <th>order_delivered_customer_date</th>\n",
       "      <th>order_estimated_delivery_date</th>\n",
       "    </tr>\n",
       "  </thead>\n",
       "  <tbody>\n",
       "    <tr>\n",
       "      <th>0</th>\n",
       "      <td>06b8999e2fba1a1fbc88172c00ba8bc7</td>\n",
       "      <td>861eff4711a542e4b93843c6dd7febb0</td>\n",
       "      <td>14409</td>\n",
       "      <td>franca</td>\n",
       "      <td>SP</td>\n",
       "      <td>00e7ee1b050b8499577073aeb2a297a1</td>\n",
       "      <td>delivered</td>\n",
       "      <td>2017-05-16 15:05:35</td>\n",
       "      <td>2017-05-16 15:22:12</td>\n",
       "      <td>2017-05-23 10:47:57</td>\n",
       "      <td>2017-05-25 10:35:35</td>\n",
       "      <td>2017-06-05</td>\n",
       "    </tr>\n",
       "    <tr>\n",
       "      <th>1</th>\n",
       "      <td>18955e83d337fd6b2def6b18a428ac77</td>\n",
       "      <td>290c77bc529b7ac935b93aa66c333dc3</td>\n",
       "      <td>9790</td>\n",
       "      <td>sao bernardo do campo</td>\n",
       "      <td>SP</td>\n",
       "      <td>29150127e6685892b6eab3eec79f59c7</td>\n",
       "      <td>delivered</td>\n",
       "      <td>2018-01-12 20:48:24</td>\n",
       "      <td>2018-01-12 20:58:32</td>\n",
       "      <td>2018-01-15 17:14:59</td>\n",
       "      <td>2018-01-29 12:41:19</td>\n",
       "      <td>2018-02-06</td>\n",
       "    </tr>\n",
       "    <tr>\n",
       "      <th>2</th>\n",
       "      <td>4e7b3e00288586ebd08712fdd0374a03</td>\n",
       "      <td>060e732b5b29e8181a18229c7b0b2b5e</td>\n",
       "      <td>1151</td>\n",
       "      <td>sao paulo</td>\n",
       "      <td>SP</td>\n",
       "      <td>b2059ed67ce144a36e2aa97d2c9e9ad2</td>\n",
       "      <td>delivered</td>\n",
       "      <td>2018-05-19 16:07:45</td>\n",
       "      <td>2018-05-20 16:19:10</td>\n",
       "      <td>2018-06-11 14:31:00</td>\n",
       "      <td>2018-06-14 17:58:51</td>\n",
       "      <td>2018-06-13</td>\n",
       "    </tr>\n",
       "    <tr>\n",
       "      <th>3</th>\n",
       "      <td>b2b6027bc5c5109e529d4dc6358b12c3</td>\n",
       "      <td>259dac757896d24d7702b9acbbff3f3c</td>\n",
       "      <td>8775</td>\n",
       "      <td>mogi das cruzes</td>\n",
       "      <td>SP</td>\n",
       "      <td>951670f92359f4fe4a63112aa7306eba</td>\n",
       "      <td>delivered</td>\n",
       "      <td>2018-03-13 16:06:38</td>\n",
       "      <td>2018-03-13 17:29:19</td>\n",
       "      <td>2018-03-27 23:22:42</td>\n",
       "      <td>2018-03-28 16:04:25</td>\n",
       "      <td>2018-04-10</td>\n",
       "    </tr>\n",
       "    <tr>\n",
       "      <th>4</th>\n",
       "      <td>4f2d8ab171c80ec8364f7c12e35b23ad</td>\n",
       "      <td>345ecd01c38d18a9036ed96c73b8d066</td>\n",
       "      <td>13056</td>\n",
       "      <td>campinas</td>\n",
       "      <td>SP</td>\n",
       "      <td>6b7d50bd145f6fc7f33cebabd7e49d0f</td>\n",
       "      <td>delivered</td>\n",
       "      <td>2018-07-29 09:51:30</td>\n",
       "      <td>2018-07-29 10:10:09</td>\n",
       "      <td>2018-07-30 15:16:00</td>\n",
       "      <td>2018-08-09 20:55:48</td>\n",
       "      <td>2018-08-15</td>\n",
       "    </tr>\n",
       "  </tbody>\n",
       "</table>\n",
       "</div>"
      ],
      "text/plain": [
       "                        customer_id                customer_unique_id  \\\n",
       "0  06b8999e2fba1a1fbc88172c00ba8bc7  861eff4711a542e4b93843c6dd7febb0   \n",
       "1  18955e83d337fd6b2def6b18a428ac77  290c77bc529b7ac935b93aa66c333dc3   \n",
       "2  4e7b3e00288586ebd08712fdd0374a03  060e732b5b29e8181a18229c7b0b2b5e   \n",
       "3  b2b6027bc5c5109e529d4dc6358b12c3  259dac757896d24d7702b9acbbff3f3c   \n",
       "4  4f2d8ab171c80ec8364f7c12e35b23ad  345ecd01c38d18a9036ed96c73b8d066   \n",
       "\n",
       "   customer_zip_code_prefix          customer_city customer_state  \\\n",
       "0                     14409                 franca             SP   \n",
       "1                      9790  sao bernardo do campo             SP   \n",
       "2                      1151              sao paulo             SP   \n",
       "3                      8775        mogi das cruzes             SP   \n",
       "4                     13056               campinas             SP   \n",
       "\n",
       "                           order_id order_status order_purchase_timestamp  \\\n",
       "0  00e7ee1b050b8499577073aeb2a297a1    delivered      2017-05-16 15:05:35   \n",
       "1  29150127e6685892b6eab3eec79f59c7    delivered      2018-01-12 20:48:24   \n",
       "2  b2059ed67ce144a36e2aa97d2c9e9ad2    delivered      2018-05-19 16:07:45   \n",
       "3  951670f92359f4fe4a63112aa7306eba    delivered      2018-03-13 16:06:38   \n",
       "4  6b7d50bd145f6fc7f33cebabd7e49d0f    delivered      2018-07-29 09:51:30   \n",
       "\n",
       "    order_approved_at order_delivered_carrier_date  \\\n",
       "0 2017-05-16 15:22:12          2017-05-23 10:47:57   \n",
       "1 2018-01-12 20:58:32          2018-01-15 17:14:59   \n",
       "2 2018-05-20 16:19:10          2018-06-11 14:31:00   \n",
       "3 2018-03-13 17:29:19          2018-03-27 23:22:42   \n",
       "4 2018-07-29 10:10:09          2018-07-30 15:16:00   \n",
       "\n",
       "  order_delivered_customer_date order_estimated_delivery_date  \n",
       "0           2017-05-25 10:35:35                    2017-06-05  \n",
       "1           2018-01-29 12:41:19                    2018-02-06  \n",
       "2           2018-06-14 17:58:51                    2018-06-13  \n",
       "3           2018-03-28 16:04:25                    2018-04-10  \n",
       "4           2018-08-09 20:55:48                    2018-08-15  "
      ]
     },
     "execution_count": 74,
     "metadata": {},
     "output_type": "execute_result"
    }
   ],
   "source": [
    "orders.head()"
   ]
  },
  {
   "cell_type": "code",
   "execution_count": 75,
   "metadata": {
    "scrolled": true
   },
   "outputs": [
    {
     "data": {
      "text/plain": [
       "customer_id                              object\n",
       "customer_unique_id                       object\n",
       "customer_zip_code_prefix                  int64\n",
       "customer_city                            object\n",
       "customer_state                           object\n",
       "order_id                                 object\n",
       "order_status                             object\n",
       "order_purchase_timestamp         datetime64[ns]\n",
       "order_approved_at                datetime64[ns]\n",
       "order_delivered_carrier_date     datetime64[ns]\n",
       "order_delivered_customer_date    datetime64[ns]\n",
       "order_estimated_delivery_date    datetime64[ns]\n",
       "dtype: object"
      ]
     },
     "execution_count": 75,
     "metadata": {},
     "output_type": "execute_result"
    }
   ],
   "source": [
    "orders.dtypes"
   ]
  },
  {
   "cell_type": "markdown",
   "metadata": {},
   "source": [
    "\"Покупкой\" будем считать заказы со статусами 'delivered', 'approved', 'processing' (все статусы до этого момента предполагают,\n",
    "что пользователь не успел оплатить покупку, эта возможность у него появляется только после присвоения заказу статуса 'invoiced') или с существующей датой  в \"order_delivered_customer_date\" (на случай, если произошла техническая ошибка и статус заказа не поменялся)"
   ]
  },
  {
   "cell_type": "code",
   "execution_count": 76,
   "metadata": {},
   "outputs": [],
   "source": [
    "sells = orders \\\n",
    "    .query('order_status == [\"processing\", \"shipped\", \"delivered\"] or order_delivered_customer_date!=\"\"')"
   ]
  },
  {
   "cell_type": "code",
   "execution_count": 77,
   "metadata": {
    "scrolled": true
   },
   "outputs": [
    {
     "data": {
      "text/plain": [
       "91820"
      ]
     },
     "execution_count": 77,
     "metadata": {},
     "output_type": "execute_result"
    }
   ],
   "source": [
    "only_one_unique_purchase = sells.groupby('customer_unique_id', as_index=False) \\\n",
    "    .agg({'customer_id':'count'}) \\\n",
    "    .rename(columns={'customer_id':'purch_num'}) \\\n",
    "    .query('purch_num == 1')\n",
    "only_one_unique_purchase.purch_num.sum()"
   ]
  },
  {
   "cell_type": "markdown",
   "metadata": {},
   "source": [
    "Ответ - 91820 пользователей совершили покупку всего 1 раз"
   ]
  },
  {
   "cell_type": "markdown",
   "metadata": {},
   "source": [
    "2. Сколько заказов в месяц в среднем не доставляется по разным причинам (вывести детализацию по причинам)?"
   ]
  },
  {
   "cell_type": "code",
   "execution_count": 78,
   "metadata": {
    "scrolled": true
   },
   "outputs": [
    {
     "data": {
      "text/html": [
       "<div>\n",
       "<style scoped>\n",
       "    .dataframe tbody tr th:only-of-type {\n",
       "        vertical-align: middle;\n",
       "    }\n",
       "\n",
       "    .dataframe tbody tr th {\n",
       "        vertical-align: top;\n",
       "    }\n",
       "\n",
       "    .dataframe thead th {\n",
       "        text-align: right;\n",
       "    }\n",
       "</style>\n",
       "<table border=\"1\" class=\"dataframe\">\n",
       "  <thead>\n",
       "    <tr style=\"text-align: right;\">\n",
       "      <th></th>\n",
       "      <th>month</th>\n",
       "      <th>order_status</th>\n",
       "      <th>num_cancelled</th>\n",
       "    </tr>\n",
       "  </thead>\n",
       "  <tbody>\n",
       "    <tr>\n",
       "      <th>0</th>\n",
       "      <td>2016-09</td>\n",
       "      <td>canceled</td>\n",
       "      <td>1</td>\n",
       "    </tr>\n",
       "    <tr>\n",
       "      <th>1</th>\n",
       "      <td>2016-10</td>\n",
       "      <td>canceled</td>\n",
       "      <td>3</td>\n",
       "    </tr>\n",
       "    <tr>\n",
       "      <th>2</th>\n",
       "      <td>2016-10</td>\n",
       "      <td>shipped</td>\n",
       "      <td>1</td>\n",
       "    </tr>\n",
       "    <tr>\n",
       "      <th>3</th>\n",
       "      <td>2016-11</td>\n",
       "      <td>canceled</td>\n",
       "      <td>14</td>\n",
       "    </tr>\n",
       "    <tr>\n",
       "      <th>4</th>\n",
       "      <td>2016-11</td>\n",
       "      <td>invoiced</td>\n",
       "      <td>9</td>\n",
       "    </tr>\n",
       "  </tbody>\n",
       "</table>\n",
       "</div>"
      ],
      "text/plain": [
       "     month order_status  num_cancelled\n",
       "0  2016-09     canceled              1\n",
       "1  2016-10     canceled              3\n",
       "2  2016-10      shipped              1\n",
       "3  2016-11     canceled             14\n",
       "4  2016-11     invoiced              9"
      ]
     },
     "execution_count": 78,
     "metadata": {},
     "output_type": "execute_result"
    }
   ],
   "source": [
    "not_sold = orders.query('order_status != \"delivered\"')\n",
    "not_sold['month'] = not_sold.order_estimated_delivery_date.dt.strftime('%Y-%m')\n",
    "not_sold['order_estimated_delivery_date'] = not_sold.order_estimated_delivery_date.dt.to_period('M')\n",
    "not_sold = not_sold \\\n",
    "    .groupby(['month',\n",
    "              'order_estimated_delivery_date',\n",
    "              'order_status'], as_index=False) \\\n",
    "    .agg({'order_id':'count'}) \\\n",
    "    .rename(columns={'order_id':'num_cancelled'}) \\\n",
    "    .groupby(['month','order_status'], as_index=False) \\\n",
    "    .agg({'num_cancelled':'mean'})\n",
    "not_sold.head()"
   ]
  },
  {
   "cell_type": "code",
   "execution_count": 79,
   "metadata": {},
   "outputs": [
    {
     "data": {
      "application/vnd.plotly.v1+json": {
       "config": {
        "plotlyServerURL": "https://plot.ly"
       },
       "data": [
        {
         "hovertemplate": "Детализация по причинам=Отменён<br>Месяц=%{x}<br>Кол-во отменённых заказов=%{y}<extra></extra>",
         "legendgroup": "Отменён",
         "line": {
          "color": "#636efa",
          "dash": "solid"
         },
         "mode": "lines",
         "name": "Отменён",
         "orientation": "v",
         "showlegend": true,
         "type": "scatter",
         "x": [
          "2016-09",
          "2016-10",
          "2016-11",
          "2016-12",
          "2017-02",
          "2017-03",
          "2017-04",
          "2017-05",
          "2017-06",
          "2017-07",
          "2017-08",
          "2017-09",
          "2017-10",
          "2017-11",
          "2017-12",
          "2018-01",
          "2018-02",
          "2018-03",
          "2018-04",
          "2018-05",
          "2018-06",
          "2018-07",
          "2018-08",
          "2018-09",
          "2018-10",
          "2018-11"
         ],
         "xaxis": "x",
         "y": [
          1,
          3,
          14,
          8,
          2,
          26,
          22,
          23,
          29,
          21,
          29,
          26,
          18,
          35,
          27,
          7,
          32,
          88,
          17,
          26,
          11,
          26,
          72,
          49,
          12,
          1
         ],
         "yaxis": "y"
        },
        {
         "hovertemplate": "Детализация по причинам=Отгружен со склада<br>Месяц=%{x}<br>Кол-во отменённых заказов=%{y}<extra></extra>",
         "legendgroup": "Отгружен со склада",
         "line": {
          "color": "#EF553B",
          "dash": "solid"
         },
         "mode": "lines",
         "name": "Отгружен со склада",
         "orientation": "v",
         "showlegend": true,
         "type": "scatter",
         "x": [
          "2016-10",
          "2016-11",
          "2016-12",
          "2017-02",
          "2017-03",
          "2017-04",
          "2017-05",
          "2017-06",
          "2017-07",
          "2017-08",
          "2017-09",
          "2017-10",
          "2017-11",
          "2017-12",
          "2018-01",
          "2018-02",
          "2018-03",
          "2018-04",
          "2018-05",
          "2018-06",
          "2018-07",
          "2018-08",
          "2018-09"
         ],
         "xaxis": "x",
         "y": [
          1,
          1,
          7,
          6,
          41,
          35,
          60,
          52,
          51,
          48,
          49,
          33,
          37,
          75,
          51,
          58,
          83,
          126,
          112,
          36,
          51,
          90,
          4
         ],
         "yaxis": "y"
        },
        {
         "hovertemplate": "Детализация по причинам=Выставлен счёт<br>Месяц=%{x}<br>Кол-во отменённых заказов=%{y}<extra></extra>",
         "legendgroup": "Выставлен счёт",
         "line": {
          "color": "#00cc96",
          "dash": "solid"
         },
         "mode": "lines",
         "name": "Выставлен счёт",
         "orientation": "v",
         "showlegend": true,
         "type": "scatter",
         "x": [
          "2016-11",
          "2016-12",
          "2017-02",
          "2017-03",
          "2017-04",
          "2017-05",
          "2017-06",
          "2017-07",
          "2017-08",
          "2017-09",
          "2017-10",
          "2017-11",
          "2017-12",
          "2018-01",
          "2018-02",
          "2018-03",
          "2018-04",
          "2018-05",
          "2018-06",
          "2018-07",
          "2018-08"
         ],
         "xaxis": "x",
         "y": [
          9,
          9,
          1,
          21,
          5,
          19,
          11,
          10,
          11,
          21,
          17,
          13,
          38,
          10,
          11,
          11,
          24,
          12,
          24,
          3,
          34
         ],
         "yaxis": "y"
        },
        {
         "hovertemplate": "Детализация по причинам=Недоступен<br>Месяц=%{x}<br>Кол-во отменённых заказов=%{y}<extra></extra>",
         "legendgroup": "Недоступен",
         "line": {
          "color": "#ab63fa",
          "dash": "solid"
         },
         "mode": "lines",
         "name": "Недоступен",
         "orientation": "v",
         "showlegend": true,
         "type": "scatter",
         "x": [
          "2016-11",
          "2016-12",
          "2017-02",
          "2017-03",
          "2017-04",
          "2017-05",
          "2017-06",
          "2017-07",
          "2017-08",
          "2017-09",
          "2017-10",
          "2017-11",
          "2017-12",
          "2018-01",
          "2018-02",
          "2018-03",
          "2018-04",
          "2018-05",
          "2018-06",
          "2018-07",
          "2018-08"
         ],
         "xaxis": "x",
         "y": [
          5,
          2,
          2,
          66,
          19,
          16,
          29,
          34,
          43,
          35,
          40,
          72,
          69,
          44,
          40,
          34,
          11,
          12,
          7,
          7,
          22
         ],
         "yaxis": "y"
        },
        {
         "hovertemplate": "Детализация по причинам=В процессе сборки заказа<br>Месяц=%{x}<br>Кол-во отменённых заказов=%{y}<extra></extra>",
         "legendgroup": "В процессе сборки заказа",
         "line": {
          "color": "#FFA15A",
          "dash": "solid"
         },
         "mode": "lines",
         "name": "В процессе сборки заказа",
         "orientation": "v",
         "showlegend": true,
         "type": "scatter",
         "x": [
          "2016-12",
          "2017-02",
          "2017-03",
          "2017-04",
          "2017-05",
          "2017-06",
          "2017-07",
          "2017-08",
          "2017-09",
          "2017-10",
          "2017-11",
          "2017-12",
          "2018-01",
          "2018-02",
          "2018-03",
          "2018-04",
          "2018-05",
          "2018-06",
          "2018-08"
         ],
         "xaxis": "x",
         "y": [
          2,
          1,
          38,
          23,
          12,
          22,
          13,
          13,
          17,
          25,
          17,
          28,
          28,
          34,
          6,
          10,
          6,
          5,
          1
         ],
         "yaxis": "y"
        },
        {
         "hovertemplate": "Детализация по причинам=Подтверждён<br>Месяц=%{x}<br>Кол-во отменённых заказов=%{y}<extra></extra>",
         "legendgroup": "Подтверждён",
         "line": {
          "color": "#19d3f3",
          "dash": "solid"
         },
         "mode": "lines",
         "name": "Подтверждён",
         "orientation": "v",
         "showlegend": true,
         "type": "scatter",
         "x": [
          "2017-03",
          "2017-05"
         ],
         "xaxis": "x",
         "y": [
          1,
          1
         ],
         "yaxis": "y"
        },
        {
         "hovertemplate": "Детализация по причинам=Cоздан<br>Месяц=%{x}<br>Кол-во отменённых заказов=%{y}<extra></extra>",
         "legendgroup": "Cоздан",
         "line": {
          "color": "#FF6692",
          "dash": "solid"
         },
         "mode": "lines",
         "name": "Cоздан",
         "orientation": "v",
         "showlegend": true,
         "type": "scatter",
         "x": [
          "2017-12",
          "2018-01",
          "2018-03"
         ],
         "xaxis": "x",
         "y": [
          2,
          2,
          1
         ],
         "yaxis": "y"
        }
       ],
       "layout": {
        "legend": {
         "title": {
          "text": "Детализация по причинам"
         },
         "tracegroupgap": 0
        },
        "template": {
         "data": {
          "bar": [
           {
            "error_x": {
             "color": "#2a3f5f"
            },
            "error_y": {
             "color": "#2a3f5f"
            },
            "marker": {
             "line": {
              "color": "#E5ECF6",
              "width": 0.5
             }
            },
            "type": "bar"
           }
          ],
          "barpolar": [
           {
            "marker": {
             "line": {
              "color": "#E5ECF6",
              "width": 0.5
             }
            },
            "type": "barpolar"
           }
          ],
          "carpet": [
           {
            "aaxis": {
             "endlinecolor": "#2a3f5f",
             "gridcolor": "white",
             "linecolor": "white",
             "minorgridcolor": "white",
             "startlinecolor": "#2a3f5f"
            },
            "baxis": {
             "endlinecolor": "#2a3f5f",
             "gridcolor": "white",
             "linecolor": "white",
             "minorgridcolor": "white",
             "startlinecolor": "#2a3f5f"
            },
            "type": "carpet"
           }
          ],
          "choropleth": [
           {
            "colorbar": {
             "outlinewidth": 0,
             "ticks": ""
            },
            "type": "choropleth"
           }
          ],
          "contour": [
           {
            "colorbar": {
             "outlinewidth": 0,
             "ticks": ""
            },
            "colorscale": [
             [
              0,
              "#0d0887"
             ],
             [
              0.1111111111111111,
              "#46039f"
             ],
             [
              0.2222222222222222,
              "#7201a8"
             ],
             [
              0.3333333333333333,
              "#9c179e"
             ],
             [
              0.4444444444444444,
              "#bd3786"
             ],
             [
              0.5555555555555556,
              "#d8576b"
             ],
             [
              0.6666666666666666,
              "#ed7953"
             ],
             [
              0.7777777777777778,
              "#fb9f3a"
             ],
             [
              0.8888888888888888,
              "#fdca26"
             ],
             [
              1,
              "#f0f921"
             ]
            ],
            "type": "contour"
           }
          ],
          "contourcarpet": [
           {
            "colorbar": {
             "outlinewidth": 0,
             "ticks": ""
            },
            "type": "contourcarpet"
           }
          ],
          "heatmap": [
           {
            "colorbar": {
             "outlinewidth": 0,
             "ticks": ""
            },
            "colorscale": [
             [
              0,
              "#0d0887"
             ],
             [
              0.1111111111111111,
              "#46039f"
             ],
             [
              0.2222222222222222,
              "#7201a8"
             ],
             [
              0.3333333333333333,
              "#9c179e"
             ],
             [
              0.4444444444444444,
              "#bd3786"
             ],
             [
              0.5555555555555556,
              "#d8576b"
             ],
             [
              0.6666666666666666,
              "#ed7953"
             ],
             [
              0.7777777777777778,
              "#fb9f3a"
             ],
             [
              0.8888888888888888,
              "#fdca26"
             ],
             [
              1,
              "#f0f921"
             ]
            ],
            "type": "heatmap"
           }
          ],
          "heatmapgl": [
           {
            "colorbar": {
             "outlinewidth": 0,
             "ticks": ""
            },
            "colorscale": [
             [
              0,
              "#0d0887"
             ],
             [
              0.1111111111111111,
              "#46039f"
             ],
             [
              0.2222222222222222,
              "#7201a8"
             ],
             [
              0.3333333333333333,
              "#9c179e"
             ],
             [
              0.4444444444444444,
              "#bd3786"
             ],
             [
              0.5555555555555556,
              "#d8576b"
             ],
             [
              0.6666666666666666,
              "#ed7953"
             ],
             [
              0.7777777777777778,
              "#fb9f3a"
             ],
             [
              0.8888888888888888,
              "#fdca26"
             ],
             [
              1,
              "#f0f921"
             ]
            ],
            "type": "heatmapgl"
           }
          ],
          "histogram": [
           {
            "marker": {
             "colorbar": {
              "outlinewidth": 0,
              "ticks": ""
             }
            },
            "type": "histogram"
           }
          ],
          "histogram2d": [
           {
            "colorbar": {
             "outlinewidth": 0,
             "ticks": ""
            },
            "colorscale": [
             [
              0,
              "#0d0887"
             ],
             [
              0.1111111111111111,
              "#46039f"
             ],
             [
              0.2222222222222222,
              "#7201a8"
             ],
             [
              0.3333333333333333,
              "#9c179e"
             ],
             [
              0.4444444444444444,
              "#bd3786"
             ],
             [
              0.5555555555555556,
              "#d8576b"
             ],
             [
              0.6666666666666666,
              "#ed7953"
             ],
             [
              0.7777777777777778,
              "#fb9f3a"
             ],
             [
              0.8888888888888888,
              "#fdca26"
             ],
             [
              1,
              "#f0f921"
             ]
            ],
            "type": "histogram2d"
           }
          ],
          "histogram2dcontour": [
           {
            "colorbar": {
             "outlinewidth": 0,
             "ticks": ""
            },
            "colorscale": [
             [
              0,
              "#0d0887"
             ],
             [
              0.1111111111111111,
              "#46039f"
             ],
             [
              0.2222222222222222,
              "#7201a8"
             ],
             [
              0.3333333333333333,
              "#9c179e"
             ],
             [
              0.4444444444444444,
              "#bd3786"
             ],
             [
              0.5555555555555556,
              "#d8576b"
             ],
             [
              0.6666666666666666,
              "#ed7953"
             ],
             [
              0.7777777777777778,
              "#fb9f3a"
             ],
             [
              0.8888888888888888,
              "#fdca26"
             ],
             [
              1,
              "#f0f921"
             ]
            ],
            "type": "histogram2dcontour"
           }
          ],
          "mesh3d": [
           {
            "colorbar": {
             "outlinewidth": 0,
             "ticks": ""
            },
            "type": "mesh3d"
           }
          ],
          "parcoords": [
           {
            "line": {
             "colorbar": {
              "outlinewidth": 0,
              "ticks": ""
             }
            },
            "type": "parcoords"
           }
          ],
          "pie": [
           {
            "automargin": true,
            "type": "pie"
           }
          ],
          "scatter": [
           {
            "marker": {
             "colorbar": {
              "outlinewidth": 0,
              "ticks": ""
             }
            },
            "type": "scatter"
           }
          ],
          "scatter3d": [
           {
            "line": {
             "colorbar": {
              "outlinewidth": 0,
              "ticks": ""
             }
            },
            "marker": {
             "colorbar": {
              "outlinewidth": 0,
              "ticks": ""
             }
            },
            "type": "scatter3d"
           }
          ],
          "scattercarpet": [
           {
            "marker": {
             "colorbar": {
              "outlinewidth": 0,
              "ticks": ""
             }
            },
            "type": "scattercarpet"
           }
          ],
          "scattergeo": [
           {
            "marker": {
             "colorbar": {
              "outlinewidth": 0,
              "ticks": ""
             }
            },
            "type": "scattergeo"
           }
          ],
          "scattergl": [
           {
            "marker": {
             "colorbar": {
              "outlinewidth": 0,
              "ticks": ""
             }
            },
            "type": "scattergl"
           }
          ],
          "scattermapbox": [
           {
            "marker": {
             "colorbar": {
              "outlinewidth": 0,
              "ticks": ""
             }
            },
            "type": "scattermapbox"
           }
          ],
          "scatterpolar": [
           {
            "marker": {
             "colorbar": {
              "outlinewidth": 0,
              "ticks": ""
             }
            },
            "type": "scatterpolar"
           }
          ],
          "scatterpolargl": [
           {
            "marker": {
             "colorbar": {
              "outlinewidth": 0,
              "ticks": ""
             }
            },
            "type": "scatterpolargl"
           }
          ],
          "scatterternary": [
           {
            "marker": {
             "colorbar": {
              "outlinewidth": 0,
              "ticks": ""
             }
            },
            "type": "scatterternary"
           }
          ],
          "surface": [
           {
            "colorbar": {
             "outlinewidth": 0,
             "ticks": ""
            },
            "colorscale": [
             [
              0,
              "#0d0887"
             ],
             [
              0.1111111111111111,
              "#46039f"
             ],
             [
              0.2222222222222222,
              "#7201a8"
             ],
             [
              0.3333333333333333,
              "#9c179e"
             ],
             [
              0.4444444444444444,
              "#bd3786"
             ],
             [
              0.5555555555555556,
              "#d8576b"
             ],
             [
              0.6666666666666666,
              "#ed7953"
             ],
             [
              0.7777777777777778,
              "#fb9f3a"
             ],
             [
              0.8888888888888888,
              "#fdca26"
             ],
             [
              1,
              "#f0f921"
             ]
            ],
            "type": "surface"
           }
          ],
          "table": [
           {
            "cells": {
             "fill": {
              "color": "#EBF0F8"
             },
             "line": {
              "color": "white"
             }
            },
            "header": {
             "fill": {
              "color": "#C8D4E3"
             },
             "line": {
              "color": "white"
             }
            },
            "type": "table"
           }
          ]
         },
         "layout": {
          "annotationdefaults": {
           "arrowcolor": "#2a3f5f",
           "arrowhead": 0,
           "arrowwidth": 1
          },
          "coloraxis": {
           "colorbar": {
            "outlinewidth": 0,
            "ticks": ""
           }
          },
          "colorscale": {
           "diverging": [
            [
             0,
             "#8e0152"
            ],
            [
             0.1,
             "#c51b7d"
            ],
            [
             0.2,
             "#de77ae"
            ],
            [
             0.3,
             "#f1b6da"
            ],
            [
             0.4,
             "#fde0ef"
            ],
            [
             0.5,
             "#f7f7f7"
            ],
            [
             0.6,
             "#e6f5d0"
            ],
            [
             0.7,
             "#b8e186"
            ],
            [
             0.8,
             "#7fbc41"
            ],
            [
             0.9,
             "#4d9221"
            ],
            [
             1,
             "#276419"
            ]
           ],
           "sequential": [
            [
             0,
             "#0d0887"
            ],
            [
             0.1111111111111111,
             "#46039f"
            ],
            [
             0.2222222222222222,
             "#7201a8"
            ],
            [
             0.3333333333333333,
             "#9c179e"
            ],
            [
             0.4444444444444444,
             "#bd3786"
            ],
            [
             0.5555555555555556,
             "#d8576b"
            ],
            [
             0.6666666666666666,
             "#ed7953"
            ],
            [
             0.7777777777777778,
             "#fb9f3a"
            ],
            [
             0.8888888888888888,
             "#fdca26"
            ],
            [
             1,
             "#f0f921"
            ]
           ],
           "sequentialminus": [
            [
             0,
             "#0d0887"
            ],
            [
             0.1111111111111111,
             "#46039f"
            ],
            [
             0.2222222222222222,
             "#7201a8"
            ],
            [
             0.3333333333333333,
             "#9c179e"
            ],
            [
             0.4444444444444444,
             "#bd3786"
            ],
            [
             0.5555555555555556,
             "#d8576b"
            ],
            [
             0.6666666666666666,
             "#ed7953"
            ],
            [
             0.7777777777777778,
             "#fb9f3a"
            ],
            [
             0.8888888888888888,
             "#fdca26"
            ],
            [
             1,
             "#f0f921"
            ]
           ]
          },
          "colorway": [
           "#636efa",
           "#EF553B",
           "#00cc96",
           "#ab63fa",
           "#FFA15A",
           "#19d3f3",
           "#FF6692",
           "#B6E880",
           "#FF97FF",
           "#FECB52"
          ],
          "font": {
           "color": "#2a3f5f"
          },
          "geo": {
           "bgcolor": "white",
           "lakecolor": "white",
           "landcolor": "#E5ECF6",
           "showlakes": true,
           "showland": true,
           "subunitcolor": "white"
          },
          "hoverlabel": {
           "align": "left"
          },
          "hovermode": "closest",
          "mapbox": {
           "style": "light"
          },
          "paper_bgcolor": "white",
          "plot_bgcolor": "#E5ECF6",
          "polar": {
           "angularaxis": {
            "gridcolor": "white",
            "linecolor": "white",
            "ticks": ""
           },
           "bgcolor": "#E5ECF6",
           "radialaxis": {
            "gridcolor": "white",
            "linecolor": "white",
            "ticks": ""
           }
          },
          "scene": {
           "xaxis": {
            "backgroundcolor": "#E5ECF6",
            "gridcolor": "white",
            "gridwidth": 2,
            "linecolor": "white",
            "showbackground": true,
            "ticks": "",
            "zerolinecolor": "white"
           },
           "yaxis": {
            "backgroundcolor": "#E5ECF6",
            "gridcolor": "white",
            "gridwidth": 2,
            "linecolor": "white",
            "showbackground": true,
            "ticks": "",
            "zerolinecolor": "white"
           },
           "zaxis": {
            "backgroundcolor": "#E5ECF6",
            "gridcolor": "white",
            "gridwidth": 2,
            "linecolor": "white",
            "showbackground": true,
            "ticks": "",
            "zerolinecolor": "white"
           }
          },
          "shapedefaults": {
           "line": {
            "color": "#2a3f5f"
           }
          },
          "ternary": {
           "aaxis": {
            "gridcolor": "white",
            "linecolor": "white",
            "ticks": ""
           },
           "baxis": {
            "gridcolor": "white",
            "linecolor": "white",
            "ticks": ""
           },
           "bgcolor": "#E5ECF6",
           "caxis": {
            "gridcolor": "white",
            "linecolor": "white",
            "ticks": ""
           }
          },
          "title": {
           "x": 0.05
          },
          "xaxis": {
           "automargin": true,
           "gridcolor": "white",
           "linecolor": "white",
           "ticks": "",
           "title": {
            "standoff": 15
           },
           "zerolinecolor": "white",
           "zerolinewidth": 2
          },
          "yaxis": {
           "automargin": true,
           "gridcolor": "white",
           "linecolor": "white",
           "ticks": "",
           "title": {
            "standoff": 15
           },
           "zerolinecolor": "white",
           "zerolinewidth": 2
          }
         }
        },
        "title": {
         "text": "Среднее кол-во отменённых заказов в месяц"
        },
        "xaxis": {
         "anchor": "y",
         "domain": [
          0,
          1
         ],
         "title": {
          "text": "Месяц"
         }
        },
        "yaxis": {
         "anchor": "x",
         "domain": [
          0,
          1
         ],
         "title": {
          "text": "Кол-во отменённых заказов"
         }
        }
       }
      },
      "text/html": [
       "<div>\n",
       "        \n",
       "        \n",
       "            <div id=\"739db386-8751-48e4-97d8-d36cf1217528\" class=\"plotly-graph-div\" style=\"height:525px; width:100%;\"></div>\n",
       "            <script type=\"text/javascript\">\n",
       "                require([\"plotly\"], function(Plotly) {\n",
       "                    window.PLOTLYENV=window.PLOTLYENV || {};\n",
       "                    \n",
       "                if (document.getElementById(\"739db386-8751-48e4-97d8-d36cf1217528\")) {\n",
       "                    Plotly.newPlot(\n",
       "                        '739db386-8751-48e4-97d8-d36cf1217528',\n",
       "                        [{\"hovertemplate\": \"\\u0414\\u0435\\u0442\\u0430\\u043b\\u0438\\u0437\\u0430\\u0446\\u0438\\u044f \\u043f\\u043e \\u043f\\u0440\\u0438\\u0447\\u0438\\u043d\\u0430\\u043c=\\u041e\\u0442\\u043c\\u0435\\u043d\\u0451\\u043d<br>\\u041c\\u0435\\u0441\\u044f\\u0446=%{x}<br>\\u041a\\u043e\\u043b-\\u0432\\u043e \\u043e\\u0442\\u043c\\u0435\\u043d\\u0451\\u043d\\u043d\\u044b\\u0445 \\u0437\\u0430\\u043a\\u0430\\u0437\\u043e\\u0432=%{y}<extra></extra>\", \"legendgroup\": \"\\u041e\\u0442\\u043c\\u0435\\u043d\\u0451\\u043d\", \"line\": {\"color\": \"#636efa\", \"dash\": \"solid\"}, \"mode\": \"lines\", \"name\": \"\\u041e\\u0442\\u043c\\u0435\\u043d\\u0451\\u043d\", \"orientation\": \"v\", \"showlegend\": true, \"type\": \"scatter\", \"x\": [\"2016-09\", \"2016-10\", \"2016-11\", \"2016-12\", \"2017-02\", \"2017-03\", \"2017-04\", \"2017-05\", \"2017-06\", \"2017-07\", \"2017-08\", \"2017-09\", \"2017-10\", \"2017-11\", \"2017-12\", \"2018-01\", \"2018-02\", \"2018-03\", \"2018-04\", \"2018-05\", \"2018-06\", \"2018-07\", \"2018-08\", \"2018-09\", \"2018-10\", \"2018-11\"], \"xaxis\": \"x\", \"y\": [1, 3, 14, 8, 2, 26, 22, 23, 29, 21, 29, 26, 18, 35, 27, 7, 32, 88, 17, 26, 11, 26, 72, 49, 12, 1], \"yaxis\": \"y\"}, {\"hovertemplate\": \"\\u0414\\u0435\\u0442\\u0430\\u043b\\u0438\\u0437\\u0430\\u0446\\u0438\\u044f \\u043f\\u043e \\u043f\\u0440\\u0438\\u0447\\u0438\\u043d\\u0430\\u043c=\\u041e\\u0442\\u0433\\u0440\\u0443\\u0436\\u0435\\u043d \\u0441\\u043e \\u0441\\u043a\\u043b\\u0430\\u0434\\u0430<br>\\u041c\\u0435\\u0441\\u044f\\u0446=%{x}<br>\\u041a\\u043e\\u043b-\\u0432\\u043e \\u043e\\u0442\\u043c\\u0435\\u043d\\u0451\\u043d\\u043d\\u044b\\u0445 \\u0437\\u0430\\u043a\\u0430\\u0437\\u043e\\u0432=%{y}<extra></extra>\", \"legendgroup\": \"\\u041e\\u0442\\u0433\\u0440\\u0443\\u0436\\u0435\\u043d \\u0441\\u043e \\u0441\\u043a\\u043b\\u0430\\u0434\\u0430\", \"line\": {\"color\": \"#EF553B\", \"dash\": \"solid\"}, \"mode\": \"lines\", \"name\": \"\\u041e\\u0442\\u0433\\u0440\\u0443\\u0436\\u0435\\u043d \\u0441\\u043e \\u0441\\u043a\\u043b\\u0430\\u0434\\u0430\", \"orientation\": \"v\", \"showlegend\": true, \"type\": \"scatter\", \"x\": [\"2016-10\", \"2016-11\", \"2016-12\", \"2017-02\", \"2017-03\", \"2017-04\", \"2017-05\", \"2017-06\", \"2017-07\", \"2017-08\", \"2017-09\", \"2017-10\", \"2017-11\", \"2017-12\", \"2018-01\", \"2018-02\", \"2018-03\", \"2018-04\", \"2018-05\", \"2018-06\", \"2018-07\", \"2018-08\", \"2018-09\"], \"xaxis\": \"x\", \"y\": [1, 1, 7, 6, 41, 35, 60, 52, 51, 48, 49, 33, 37, 75, 51, 58, 83, 126, 112, 36, 51, 90, 4], \"yaxis\": \"y\"}, {\"hovertemplate\": \"\\u0414\\u0435\\u0442\\u0430\\u043b\\u0438\\u0437\\u0430\\u0446\\u0438\\u044f \\u043f\\u043e \\u043f\\u0440\\u0438\\u0447\\u0438\\u043d\\u0430\\u043c=\\u0412\\u044b\\u0441\\u0442\\u0430\\u0432\\u043b\\u0435\\u043d \\u0441\\u0447\\u0451\\u0442<br>\\u041c\\u0435\\u0441\\u044f\\u0446=%{x}<br>\\u041a\\u043e\\u043b-\\u0432\\u043e \\u043e\\u0442\\u043c\\u0435\\u043d\\u0451\\u043d\\u043d\\u044b\\u0445 \\u0437\\u0430\\u043a\\u0430\\u0437\\u043e\\u0432=%{y}<extra></extra>\", \"legendgroup\": \"\\u0412\\u044b\\u0441\\u0442\\u0430\\u0432\\u043b\\u0435\\u043d \\u0441\\u0447\\u0451\\u0442\", \"line\": {\"color\": \"#00cc96\", \"dash\": \"solid\"}, \"mode\": \"lines\", \"name\": \"\\u0412\\u044b\\u0441\\u0442\\u0430\\u0432\\u043b\\u0435\\u043d \\u0441\\u0447\\u0451\\u0442\", \"orientation\": \"v\", \"showlegend\": true, \"type\": \"scatter\", \"x\": [\"2016-11\", \"2016-12\", \"2017-02\", \"2017-03\", \"2017-04\", \"2017-05\", \"2017-06\", \"2017-07\", \"2017-08\", \"2017-09\", \"2017-10\", \"2017-11\", \"2017-12\", \"2018-01\", \"2018-02\", \"2018-03\", \"2018-04\", \"2018-05\", \"2018-06\", \"2018-07\", \"2018-08\"], \"xaxis\": \"x\", \"y\": [9, 9, 1, 21, 5, 19, 11, 10, 11, 21, 17, 13, 38, 10, 11, 11, 24, 12, 24, 3, 34], \"yaxis\": \"y\"}, {\"hovertemplate\": \"\\u0414\\u0435\\u0442\\u0430\\u043b\\u0438\\u0437\\u0430\\u0446\\u0438\\u044f \\u043f\\u043e \\u043f\\u0440\\u0438\\u0447\\u0438\\u043d\\u0430\\u043c=\\u041d\\u0435\\u0434\\u043e\\u0441\\u0442\\u0443\\u043f\\u0435\\u043d<br>\\u041c\\u0435\\u0441\\u044f\\u0446=%{x}<br>\\u041a\\u043e\\u043b-\\u0432\\u043e \\u043e\\u0442\\u043c\\u0435\\u043d\\u0451\\u043d\\u043d\\u044b\\u0445 \\u0437\\u0430\\u043a\\u0430\\u0437\\u043e\\u0432=%{y}<extra></extra>\", \"legendgroup\": \"\\u041d\\u0435\\u0434\\u043e\\u0441\\u0442\\u0443\\u043f\\u0435\\u043d\", \"line\": {\"color\": \"#ab63fa\", \"dash\": \"solid\"}, \"mode\": \"lines\", \"name\": \"\\u041d\\u0435\\u0434\\u043e\\u0441\\u0442\\u0443\\u043f\\u0435\\u043d\", \"orientation\": \"v\", \"showlegend\": true, \"type\": \"scatter\", \"x\": [\"2016-11\", \"2016-12\", \"2017-02\", \"2017-03\", \"2017-04\", \"2017-05\", \"2017-06\", \"2017-07\", \"2017-08\", \"2017-09\", \"2017-10\", \"2017-11\", \"2017-12\", \"2018-01\", \"2018-02\", \"2018-03\", \"2018-04\", \"2018-05\", \"2018-06\", \"2018-07\", \"2018-08\"], \"xaxis\": \"x\", \"y\": [5, 2, 2, 66, 19, 16, 29, 34, 43, 35, 40, 72, 69, 44, 40, 34, 11, 12, 7, 7, 22], \"yaxis\": \"y\"}, {\"hovertemplate\": \"\\u0414\\u0435\\u0442\\u0430\\u043b\\u0438\\u0437\\u0430\\u0446\\u0438\\u044f \\u043f\\u043e \\u043f\\u0440\\u0438\\u0447\\u0438\\u043d\\u0430\\u043c=\\u0412 \\u043f\\u0440\\u043e\\u0446\\u0435\\u0441\\u0441\\u0435 \\u0441\\u0431\\u043e\\u0440\\u043a\\u0438 \\u0437\\u0430\\u043a\\u0430\\u0437\\u0430<br>\\u041c\\u0435\\u0441\\u044f\\u0446=%{x}<br>\\u041a\\u043e\\u043b-\\u0432\\u043e \\u043e\\u0442\\u043c\\u0435\\u043d\\u0451\\u043d\\u043d\\u044b\\u0445 \\u0437\\u0430\\u043a\\u0430\\u0437\\u043e\\u0432=%{y}<extra></extra>\", \"legendgroup\": \"\\u0412 \\u043f\\u0440\\u043e\\u0446\\u0435\\u0441\\u0441\\u0435 \\u0441\\u0431\\u043e\\u0440\\u043a\\u0438 \\u0437\\u0430\\u043a\\u0430\\u0437\\u0430\", \"line\": {\"color\": \"#FFA15A\", \"dash\": \"solid\"}, \"mode\": \"lines\", \"name\": \"\\u0412 \\u043f\\u0440\\u043e\\u0446\\u0435\\u0441\\u0441\\u0435 \\u0441\\u0431\\u043e\\u0440\\u043a\\u0438 \\u0437\\u0430\\u043a\\u0430\\u0437\\u0430\", \"orientation\": \"v\", \"showlegend\": true, \"type\": \"scatter\", \"x\": [\"2016-12\", \"2017-02\", \"2017-03\", \"2017-04\", \"2017-05\", \"2017-06\", \"2017-07\", \"2017-08\", \"2017-09\", \"2017-10\", \"2017-11\", \"2017-12\", \"2018-01\", \"2018-02\", \"2018-03\", \"2018-04\", \"2018-05\", \"2018-06\", \"2018-08\"], \"xaxis\": \"x\", \"y\": [2, 1, 38, 23, 12, 22, 13, 13, 17, 25, 17, 28, 28, 34, 6, 10, 6, 5, 1], \"yaxis\": \"y\"}, {\"hovertemplate\": \"\\u0414\\u0435\\u0442\\u0430\\u043b\\u0438\\u0437\\u0430\\u0446\\u0438\\u044f \\u043f\\u043e \\u043f\\u0440\\u0438\\u0447\\u0438\\u043d\\u0430\\u043c=\\u041f\\u043e\\u0434\\u0442\\u0432\\u0435\\u0440\\u0436\\u0434\\u0451\\u043d<br>\\u041c\\u0435\\u0441\\u044f\\u0446=%{x}<br>\\u041a\\u043e\\u043b-\\u0432\\u043e \\u043e\\u0442\\u043c\\u0435\\u043d\\u0451\\u043d\\u043d\\u044b\\u0445 \\u0437\\u0430\\u043a\\u0430\\u0437\\u043e\\u0432=%{y}<extra></extra>\", \"legendgroup\": \"\\u041f\\u043e\\u0434\\u0442\\u0432\\u0435\\u0440\\u0436\\u0434\\u0451\\u043d\", \"line\": {\"color\": \"#19d3f3\", \"dash\": \"solid\"}, \"mode\": \"lines\", \"name\": \"\\u041f\\u043e\\u0434\\u0442\\u0432\\u0435\\u0440\\u0436\\u0434\\u0451\\u043d\", \"orientation\": \"v\", \"showlegend\": true, \"type\": \"scatter\", \"x\": [\"2017-03\", \"2017-05\"], \"xaxis\": \"x\", \"y\": [1, 1], \"yaxis\": \"y\"}, {\"hovertemplate\": \"\\u0414\\u0435\\u0442\\u0430\\u043b\\u0438\\u0437\\u0430\\u0446\\u0438\\u044f \\u043f\\u043e \\u043f\\u0440\\u0438\\u0447\\u0438\\u043d\\u0430\\u043c=C\\u043e\\u0437\\u0434\\u0430\\u043d<br>\\u041c\\u0435\\u0441\\u044f\\u0446=%{x}<br>\\u041a\\u043e\\u043b-\\u0432\\u043e \\u043e\\u0442\\u043c\\u0435\\u043d\\u0451\\u043d\\u043d\\u044b\\u0445 \\u0437\\u0430\\u043a\\u0430\\u0437\\u043e\\u0432=%{y}<extra></extra>\", \"legendgroup\": \"C\\u043e\\u0437\\u0434\\u0430\\u043d\", \"line\": {\"color\": \"#FF6692\", \"dash\": \"solid\"}, \"mode\": \"lines\", \"name\": \"C\\u043e\\u0437\\u0434\\u0430\\u043d\", \"orientation\": \"v\", \"showlegend\": true, \"type\": \"scatter\", \"x\": [\"2017-12\", \"2018-01\", \"2018-03\"], \"xaxis\": \"x\", \"y\": [2, 2, 1], \"yaxis\": \"y\"}],\n",
       "                        {\"legend\": {\"title\": {\"text\": \"\\u0414\\u0435\\u0442\\u0430\\u043b\\u0438\\u0437\\u0430\\u0446\\u0438\\u044f \\u043f\\u043e \\u043f\\u0440\\u0438\\u0447\\u0438\\u043d\\u0430\\u043c\"}, \"tracegroupgap\": 0}, \"template\": {\"data\": {\"bar\": [{\"error_x\": {\"color\": \"#2a3f5f\"}, \"error_y\": {\"color\": \"#2a3f5f\"}, \"marker\": {\"line\": {\"color\": \"#E5ECF6\", \"width\": 0.5}}, \"type\": \"bar\"}], \"barpolar\": [{\"marker\": {\"line\": {\"color\": \"#E5ECF6\", \"width\": 0.5}}, \"type\": \"barpolar\"}], \"carpet\": [{\"aaxis\": {\"endlinecolor\": \"#2a3f5f\", \"gridcolor\": \"white\", \"linecolor\": \"white\", \"minorgridcolor\": \"white\", \"startlinecolor\": \"#2a3f5f\"}, \"baxis\": {\"endlinecolor\": \"#2a3f5f\", \"gridcolor\": \"white\", \"linecolor\": \"white\", \"minorgridcolor\": \"white\", \"startlinecolor\": \"#2a3f5f\"}, \"type\": \"carpet\"}], \"choropleth\": [{\"colorbar\": {\"outlinewidth\": 0, \"ticks\": \"\"}, \"type\": \"choropleth\"}], \"contour\": [{\"colorbar\": {\"outlinewidth\": 0, \"ticks\": \"\"}, \"colorscale\": [[0.0, \"#0d0887\"], [0.1111111111111111, \"#46039f\"], [0.2222222222222222, \"#7201a8\"], [0.3333333333333333, \"#9c179e\"], [0.4444444444444444, \"#bd3786\"], [0.5555555555555556, \"#d8576b\"], [0.6666666666666666, \"#ed7953\"], [0.7777777777777778, \"#fb9f3a\"], [0.8888888888888888, \"#fdca26\"], [1.0, \"#f0f921\"]], \"type\": \"contour\"}], \"contourcarpet\": [{\"colorbar\": {\"outlinewidth\": 0, \"ticks\": \"\"}, \"type\": \"contourcarpet\"}], \"heatmap\": [{\"colorbar\": {\"outlinewidth\": 0, \"ticks\": \"\"}, \"colorscale\": [[0.0, \"#0d0887\"], [0.1111111111111111, \"#46039f\"], [0.2222222222222222, \"#7201a8\"], [0.3333333333333333, \"#9c179e\"], [0.4444444444444444, \"#bd3786\"], [0.5555555555555556, \"#d8576b\"], [0.6666666666666666, \"#ed7953\"], [0.7777777777777778, \"#fb9f3a\"], [0.8888888888888888, \"#fdca26\"], [1.0, \"#f0f921\"]], \"type\": \"heatmap\"}], \"heatmapgl\": [{\"colorbar\": {\"outlinewidth\": 0, \"ticks\": \"\"}, \"colorscale\": [[0.0, \"#0d0887\"], [0.1111111111111111, \"#46039f\"], [0.2222222222222222, \"#7201a8\"], [0.3333333333333333, \"#9c179e\"], [0.4444444444444444, \"#bd3786\"], [0.5555555555555556, \"#d8576b\"], [0.6666666666666666, \"#ed7953\"], [0.7777777777777778, \"#fb9f3a\"], [0.8888888888888888, \"#fdca26\"], [1.0, \"#f0f921\"]], \"type\": \"heatmapgl\"}], \"histogram\": [{\"marker\": {\"colorbar\": {\"outlinewidth\": 0, \"ticks\": \"\"}}, \"type\": \"histogram\"}], \"histogram2d\": [{\"colorbar\": {\"outlinewidth\": 0, \"ticks\": \"\"}, \"colorscale\": [[0.0, \"#0d0887\"], [0.1111111111111111, \"#46039f\"], [0.2222222222222222, \"#7201a8\"], [0.3333333333333333, \"#9c179e\"], [0.4444444444444444, \"#bd3786\"], [0.5555555555555556, \"#d8576b\"], [0.6666666666666666, \"#ed7953\"], [0.7777777777777778, \"#fb9f3a\"], [0.8888888888888888, \"#fdca26\"], [1.0, \"#f0f921\"]], \"type\": \"histogram2d\"}], \"histogram2dcontour\": [{\"colorbar\": {\"outlinewidth\": 0, \"ticks\": \"\"}, \"colorscale\": [[0.0, \"#0d0887\"], [0.1111111111111111, \"#46039f\"], [0.2222222222222222, \"#7201a8\"], [0.3333333333333333, \"#9c179e\"], [0.4444444444444444, \"#bd3786\"], [0.5555555555555556, \"#d8576b\"], [0.6666666666666666, \"#ed7953\"], [0.7777777777777778, \"#fb9f3a\"], [0.8888888888888888, \"#fdca26\"], [1.0, \"#f0f921\"]], \"type\": \"histogram2dcontour\"}], \"mesh3d\": [{\"colorbar\": {\"outlinewidth\": 0, \"ticks\": \"\"}, \"type\": \"mesh3d\"}], \"parcoords\": [{\"line\": {\"colorbar\": {\"outlinewidth\": 0, \"ticks\": \"\"}}, \"type\": \"parcoords\"}], \"pie\": [{\"automargin\": true, \"type\": \"pie\"}], \"scatter\": [{\"marker\": {\"colorbar\": {\"outlinewidth\": 0, \"ticks\": \"\"}}, \"type\": \"scatter\"}], \"scatter3d\": [{\"line\": {\"colorbar\": {\"outlinewidth\": 0, \"ticks\": \"\"}}, \"marker\": {\"colorbar\": {\"outlinewidth\": 0, \"ticks\": \"\"}}, \"type\": \"scatter3d\"}], \"scattercarpet\": [{\"marker\": {\"colorbar\": {\"outlinewidth\": 0, \"ticks\": \"\"}}, \"type\": \"scattercarpet\"}], \"scattergeo\": [{\"marker\": {\"colorbar\": {\"outlinewidth\": 0, \"ticks\": \"\"}}, \"type\": \"scattergeo\"}], \"scattergl\": [{\"marker\": {\"colorbar\": {\"outlinewidth\": 0, \"ticks\": \"\"}}, \"type\": \"scattergl\"}], \"scattermapbox\": [{\"marker\": {\"colorbar\": {\"outlinewidth\": 0, \"ticks\": \"\"}}, \"type\": \"scattermapbox\"}], \"scatterpolar\": [{\"marker\": {\"colorbar\": {\"outlinewidth\": 0, \"ticks\": \"\"}}, \"type\": \"scatterpolar\"}], \"scatterpolargl\": [{\"marker\": {\"colorbar\": {\"outlinewidth\": 0, \"ticks\": \"\"}}, \"type\": \"scatterpolargl\"}], \"scatterternary\": [{\"marker\": {\"colorbar\": {\"outlinewidth\": 0, \"ticks\": \"\"}}, \"type\": \"scatterternary\"}], \"surface\": [{\"colorbar\": {\"outlinewidth\": 0, \"ticks\": \"\"}, \"colorscale\": [[0.0, \"#0d0887\"], [0.1111111111111111, \"#46039f\"], [0.2222222222222222, \"#7201a8\"], [0.3333333333333333, \"#9c179e\"], [0.4444444444444444, \"#bd3786\"], [0.5555555555555556, \"#d8576b\"], [0.6666666666666666, \"#ed7953\"], [0.7777777777777778, \"#fb9f3a\"], [0.8888888888888888, \"#fdca26\"], [1.0, \"#f0f921\"]], \"type\": \"surface\"}], \"table\": [{\"cells\": {\"fill\": {\"color\": \"#EBF0F8\"}, \"line\": {\"color\": \"white\"}}, \"header\": {\"fill\": {\"color\": \"#C8D4E3\"}, \"line\": {\"color\": \"white\"}}, \"type\": \"table\"}]}, \"layout\": {\"annotationdefaults\": {\"arrowcolor\": \"#2a3f5f\", \"arrowhead\": 0, \"arrowwidth\": 1}, \"coloraxis\": {\"colorbar\": {\"outlinewidth\": 0, \"ticks\": \"\"}}, \"colorscale\": {\"diverging\": [[0, \"#8e0152\"], [0.1, \"#c51b7d\"], [0.2, \"#de77ae\"], [0.3, \"#f1b6da\"], [0.4, \"#fde0ef\"], [0.5, \"#f7f7f7\"], [0.6, \"#e6f5d0\"], [0.7, \"#b8e186\"], [0.8, \"#7fbc41\"], [0.9, \"#4d9221\"], [1, \"#276419\"]], \"sequential\": [[0.0, \"#0d0887\"], [0.1111111111111111, \"#46039f\"], [0.2222222222222222, \"#7201a8\"], [0.3333333333333333, \"#9c179e\"], [0.4444444444444444, \"#bd3786\"], [0.5555555555555556, \"#d8576b\"], [0.6666666666666666, \"#ed7953\"], [0.7777777777777778, \"#fb9f3a\"], [0.8888888888888888, \"#fdca26\"], [1.0, \"#f0f921\"]], \"sequentialminus\": [[0.0, \"#0d0887\"], [0.1111111111111111, \"#46039f\"], [0.2222222222222222, \"#7201a8\"], [0.3333333333333333, \"#9c179e\"], [0.4444444444444444, \"#bd3786\"], [0.5555555555555556, \"#d8576b\"], [0.6666666666666666, \"#ed7953\"], [0.7777777777777778, \"#fb9f3a\"], [0.8888888888888888, \"#fdca26\"], [1.0, \"#f0f921\"]]}, \"colorway\": [\"#636efa\", \"#EF553B\", \"#00cc96\", \"#ab63fa\", \"#FFA15A\", \"#19d3f3\", \"#FF6692\", \"#B6E880\", \"#FF97FF\", \"#FECB52\"], \"font\": {\"color\": \"#2a3f5f\"}, \"geo\": {\"bgcolor\": \"white\", \"lakecolor\": \"white\", \"landcolor\": \"#E5ECF6\", \"showlakes\": true, \"showland\": true, \"subunitcolor\": \"white\"}, \"hoverlabel\": {\"align\": \"left\"}, \"hovermode\": \"closest\", \"mapbox\": {\"style\": \"light\"}, \"paper_bgcolor\": \"white\", \"plot_bgcolor\": \"#E5ECF6\", \"polar\": {\"angularaxis\": {\"gridcolor\": \"white\", \"linecolor\": \"white\", \"ticks\": \"\"}, \"bgcolor\": \"#E5ECF6\", \"radialaxis\": {\"gridcolor\": \"white\", \"linecolor\": \"white\", \"ticks\": \"\"}}, \"scene\": {\"xaxis\": {\"backgroundcolor\": \"#E5ECF6\", \"gridcolor\": \"white\", \"gridwidth\": 2, \"linecolor\": \"white\", \"showbackground\": true, \"ticks\": \"\", \"zerolinecolor\": \"white\"}, \"yaxis\": {\"backgroundcolor\": \"#E5ECF6\", \"gridcolor\": \"white\", \"gridwidth\": 2, \"linecolor\": \"white\", \"showbackground\": true, \"ticks\": \"\", \"zerolinecolor\": \"white\"}, \"zaxis\": {\"backgroundcolor\": \"#E5ECF6\", \"gridcolor\": \"white\", \"gridwidth\": 2, \"linecolor\": \"white\", \"showbackground\": true, \"ticks\": \"\", \"zerolinecolor\": \"white\"}}, \"shapedefaults\": {\"line\": {\"color\": \"#2a3f5f\"}}, \"ternary\": {\"aaxis\": {\"gridcolor\": \"white\", \"linecolor\": \"white\", \"ticks\": \"\"}, \"baxis\": {\"gridcolor\": \"white\", \"linecolor\": \"white\", \"ticks\": \"\"}, \"bgcolor\": \"#E5ECF6\", \"caxis\": {\"gridcolor\": \"white\", \"linecolor\": \"white\", \"ticks\": \"\"}}, \"title\": {\"x\": 0.05}, \"xaxis\": {\"automargin\": true, \"gridcolor\": \"white\", \"linecolor\": \"white\", \"ticks\": \"\", \"title\": {\"standoff\": 15}, \"zerolinecolor\": \"white\", \"zerolinewidth\": 2}, \"yaxis\": {\"automargin\": true, \"gridcolor\": \"white\", \"linecolor\": \"white\", \"ticks\": \"\", \"title\": {\"standoff\": 15}, \"zerolinecolor\": \"white\", \"zerolinewidth\": 2}}}, \"title\": {\"text\": \"\\u0421\\u0440\\u0435\\u0434\\u043d\\u0435\\u0435 \\u043a\\u043e\\u043b-\\u0432\\u043e \\u043e\\u0442\\u043c\\u0435\\u043d\\u0451\\u043d\\u043d\\u044b\\u0445 \\u0437\\u0430\\u043a\\u0430\\u0437\\u043e\\u0432 \\u0432 \\u043c\\u0435\\u0441\\u044f\\u0446\"}, \"xaxis\": {\"anchor\": \"y\", \"domain\": [0.0, 1.0], \"title\": {\"text\": \"\\u041c\\u0435\\u0441\\u044f\\u0446\"}}, \"yaxis\": {\"anchor\": \"x\", \"domain\": [0.0, 1.0], \"title\": {\"text\": \"\\u041a\\u043e\\u043b-\\u0432\\u043e \\u043e\\u0442\\u043c\\u0435\\u043d\\u0451\\u043d\\u043d\\u044b\\u0445 \\u0437\\u0430\\u043a\\u0430\\u0437\\u043e\\u0432\"}}},\n",
       "                        {\"responsive\": true}\n",
       "                    ).then(function(){\n",
       "                            \n",
       "var gd = document.getElementById('739db386-8751-48e4-97d8-d36cf1217528');\n",
       "var x = new MutationObserver(function (mutations, observer) {{\n",
       "        var display = window.getComputedStyle(gd).display;\n",
       "        if (!display || display === 'none') {{\n",
       "            console.log([gd, 'removed!']);\n",
       "            Plotly.purge(gd);\n",
       "            observer.disconnect();\n",
       "        }}\n",
       "}});\n",
       "\n",
       "// Listen for the removal of the full notebook cells\n",
       "var notebookContainer = gd.closest('#notebook-container');\n",
       "if (notebookContainer) {{\n",
       "    x.observe(notebookContainer, {childList: true});\n",
       "}}\n",
       "\n",
       "// Listen for the clearing of the current output cell\n",
       "var outputEl = gd.closest('.output');\n",
       "if (outputEl) {{\n",
       "    x.observe(outputEl, {childList: true});\n",
       "}}\n",
       "\n",
       "                        })\n",
       "                };\n",
       "                });\n",
       "            </script>\n",
       "        </div>"
      ]
     },
     "metadata": {},
     "output_type": "display_data"
    }
   ],
   "source": [
    "#График, демонстрирующий сколько заказов в месяц в среднем не доставляется по разным причинам\n",
    "fig = px.line(not_sold, x=\"month\", y=\"num_cancelled\", color='order_status' , labels={\n",
    "                     \"num_cancelled\":'Кол-во отменённых заказов',\n",
    "                     \"month\": 'Месяц',\n",
    "                     'order_status':'Детализация по причинам'\n",
    "                 },\n",
    "                title=\"Среднее кол-во отменённых заказов в месяц\")\n",
    "newnames = {'canceled':'Отменён', \n",
    "            'created': 'Cоздан', \n",
    "            'approved':'Подтверждён', \n",
    "            'invoiced':'Выставлен счёт', \n",
    "            'processing':'В процессе сборки заказа', \n",
    "            'shipped':'Отгружен со склада',\n",
    "            'unavailable':'Недоступен'}\n",
    "fig.for_each_trace(lambda t: t.update(name = newnames[t.name],\n",
    "                                      legendgroup = newnames[t.name],\n",
    "                                      hovertemplate = t.hovertemplate.replace(t.name, newnames[t.name])\n",
    "                                     )\n",
    "                  )\n",
    "fig.show()"
   ]
  },
  {
   "cell_type": "markdown",
   "metadata": {},
   "source": [
    "3. По каждому товару определить, в какой день недели товар чаще всего покупается."
   ]
  },
  {
   "cell_type": "code",
   "execution_count": 80,
   "metadata": {},
   "outputs": [
    {
     "data": {
      "text/html": [
       "<div>\n",
       "<style scoped>\n",
       "    .dataframe tbody tr th:only-of-type {\n",
       "        vertical-align: middle;\n",
       "    }\n",
       "\n",
       "    .dataframe tbody tr th {\n",
       "        vertical-align: top;\n",
       "    }\n",
       "\n",
       "    .dataframe thead th {\n",
       "        text-align: right;\n",
       "    }\n",
       "</style>\n",
       "<table border=\"1\" class=\"dataframe\">\n",
       "  <thead>\n",
       "    <tr style=\"text-align: right;\">\n",
       "      <th></th>\n",
       "      <th>order_id</th>\n",
       "      <th>customer_id</th>\n",
       "      <th>order_status</th>\n",
       "      <th>order_purchase_timestamp</th>\n",
       "      <th>order_approved_at</th>\n",
       "      <th>order_delivered_carrier_date</th>\n",
       "      <th>order_delivered_customer_date</th>\n",
       "      <th>order_estimated_delivery_date</th>\n",
       "      <th>order_item_id</th>\n",
       "      <th>product_id</th>\n",
       "      <th>seller_id</th>\n",
       "      <th>shipping_limit_date</th>\n",
       "      <th>price</th>\n",
       "      <th>freight_value</th>\n",
       "    </tr>\n",
       "  </thead>\n",
       "  <tbody>\n",
       "    <tr>\n",
       "      <th>0</th>\n",
       "      <td>e481f51cbdc54678b7cc49136f2d6af7</td>\n",
       "      <td>9ef432eb6251297304e76186b10a928d</td>\n",
       "      <td>delivered</td>\n",
       "      <td>2017-10-02 10:56:33</td>\n",
       "      <td>2017-10-02 11:07:15</td>\n",
       "      <td>2017-10-04 19:55:00</td>\n",
       "      <td>2017-10-10 21:25:13</td>\n",
       "      <td>2017-10-18</td>\n",
       "      <td>1</td>\n",
       "      <td>87285b34884572647811a353c7ac498a</td>\n",
       "      <td>3504c0cb71d7fa48d967e0e4c94d59d9</td>\n",
       "      <td>2017-10-06 11:07:15</td>\n",
       "      <td>29.99</td>\n",
       "      <td>8.72</td>\n",
       "    </tr>\n",
       "    <tr>\n",
       "      <th>1</th>\n",
       "      <td>53cdb2fc8bc7dce0b6741e2150273451</td>\n",
       "      <td>b0830fb4747a6c6d20dea0b8c802d7ef</td>\n",
       "      <td>delivered</td>\n",
       "      <td>2018-07-24 20:41:37</td>\n",
       "      <td>2018-07-26 03:24:27</td>\n",
       "      <td>2018-07-26 14:31:00</td>\n",
       "      <td>2018-08-07 15:27:45</td>\n",
       "      <td>2018-08-13</td>\n",
       "      <td>1</td>\n",
       "      <td>595fac2a385ac33a80bd5114aec74eb8</td>\n",
       "      <td>289cdb325fb7e7f891c38608bf9e0962</td>\n",
       "      <td>2018-07-30 03:24:27</td>\n",
       "      <td>118.70</td>\n",
       "      <td>22.76</td>\n",
       "    </tr>\n",
       "    <tr>\n",
       "      <th>2</th>\n",
       "      <td>47770eb9100c2d0c44946d9cf07ec65d</td>\n",
       "      <td>41ce2a54c0b03bf3443c3d931a367089</td>\n",
       "      <td>delivered</td>\n",
       "      <td>2018-08-08 08:38:49</td>\n",
       "      <td>2018-08-08 08:55:23</td>\n",
       "      <td>2018-08-08 13:50:00</td>\n",
       "      <td>2018-08-17 18:06:29</td>\n",
       "      <td>2018-09-04</td>\n",
       "      <td>1</td>\n",
       "      <td>aa4383b373c6aca5d8797843e5594415</td>\n",
       "      <td>4869f7a5dfa277a7dca6462dcf3b52b2</td>\n",
       "      <td>2018-08-13 08:55:23</td>\n",
       "      <td>159.90</td>\n",
       "      <td>19.22</td>\n",
       "    </tr>\n",
       "    <tr>\n",
       "      <th>3</th>\n",
       "      <td>949d5b44dbf5de918fe9c16f97b45f8a</td>\n",
       "      <td>f88197465ea7920adcdbec7375364d82</td>\n",
       "      <td>delivered</td>\n",
       "      <td>2017-11-18 19:28:06</td>\n",
       "      <td>2017-11-18 19:45:59</td>\n",
       "      <td>2017-11-22 13:39:59</td>\n",
       "      <td>2017-12-02 00:28:42</td>\n",
       "      <td>2017-12-15</td>\n",
       "      <td>1</td>\n",
       "      <td>d0b61bfb1de832b15ba9d266ca96e5b0</td>\n",
       "      <td>66922902710d126a0e7d26b0e3805106</td>\n",
       "      <td>2017-11-23 19:45:59</td>\n",
       "      <td>45.00</td>\n",
       "      <td>27.20</td>\n",
       "    </tr>\n",
       "    <tr>\n",
       "      <th>4</th>\n",
       "      <td>ad21c59c0840e6cb83a9ceb5573f8159</td>\n",
       "      <td>8ab97904e6daea8866dbdbc4fb7aad2c</td>\n",
       "      <td>delivered</td>\n",
       "      <td>2018-02-13 21:18:39</td>\n",
       "      <td>2018-02-13 22:20:29</td>\n",
       "      <td>2018-02-14 19:46:34</td>\n",
       "      <td>2018-02-16 18:17:02</td>\n",
       "      <td>2018-02-26</td>\n",
       "      <td>1</td>\n",
       "      <td>65266b2da20d04dbe00c5c2d3bb7859e</td>\n",
       "      <td>2c9e548be18521d1c43cde1c582c6de8</td>\n",
       "      <td>2018-02-19 20:31:37</td>\n",
       "      <td>19.90</td>\n",
       "      <td>8.72</td>\n",
       "    </tr>\n",
       "  </tbody>\n",
       "</table>\n",
       "</div>"
      ],
      "text/plain": [
       "                           order_id                       customer_id  \\\n",
       "0  e481f51cbdc54678b7cc49136f2d6af7  9ef432eb6251297304e76186b10a928d   \n",
       "1  53cdb2fc8bc7dce0b6741e2150273451  b0830fb4747a6c6d20dea0b8c802d7ef   \n",
       "2  47770eb9100c2d0c44946d9cf07ec65d  41ce2a54c0b03bf3443c3d931a367089   \n",
       "3  949d5b44dbf5de918fe9c16f97b45f8a  f88197465ea7920adcdbec7375364d82   \n",
       "4  ad21c59c0840e6cb83a9ceb5573f8159  8ab97904e6daea8866dbdbc4fb7aad2c   \n",
       "\n",
       "  order_status order_purchase_timestamp   order_approved_at  \\\n",
       "0    delivered      2017-10-02 10:56:33 2017-10-02 11:07:15   \n",
       "1    delivered      2018-07-24 20:41:37 2018-07-26 03:24:27   \n",
       "2    delivered      2018-08-08 08:38:49 2018-08-08 08:55:23   \n",
       "3    delivered      2017-11-18 19:28:06 2017-11-18 19:45:59   \n",
       "4    delivered      2018-02-13 21:18:39 2018-02-13 22:20:29   \n",
       "\n",
       "  order_delivered_carrier_date order_delivered_customer_date  \\\n",
       "0          2017-10-04 19:55:00           2017-10-10 21:25:13   \n",
       "1          2018-07-26 14:31:00           2018-08-07 15:27:45   \n",
       "2          2018-08-08 13:50:00           2018-08-17 18:06:29   \n",
       "3          2017-11-22 13:39:59           2017-12-02 00:28:42   \n",
       "4          2018-02-14 19:46:34           2018-02-16 18:17:02   \n",
       "\n",
       "  order_estimated_delivery_date  order_item_id  \\\n",
       "0                    2017-10-18              1   \n",
       "1                    2018-08-13              1   \n",
       "2                    2018-09-04              1   \n",
       "3                    2017-12-15              1   \n",
       "4                    2018-02-26              1   \n",
       "\n",
       "                         product_id                         seller_id  \\\n",
       "0  87285b34884572647811a353c7ac498a  3504c0cb71d7fa48d967e0e4c94d59d9   \n",
       "1  595fac2a385ac33a80bd5114aec74eb8  289cdb325fb7e7f891c38608bf9e0962   \n",
       "2  aa4383b373c6aca5d8797843e5594415  4869f7a5dfa277a7dca6462dcf3b52b2   \n",
       "3  d0b61bfb1de832b15ba9d266ca96e5b0  66922902710d126a0e7d26b0e3805106   \n",
       "4  65266b2da20d04dbe00c5c2d3bb7859e  2c9e548be18521d1c43cde1c582c6de8   \n",
       "\n",
       "  shipping_limit_date   price  freight_value  \n",
       "0 2017-10-06 11:07:15   29.99           8.72  \n",
       "1 2018-07-30 03:24:27  118.70          22.76  \n",
       "2 2018-08-13 08:55:23  159.90          19.22  \n",
       "3 2017-11-23 19:45:59   45.00          27.20  \n",
       "4 2018-02-19 20:31:37   19.90           8.72  "
      ]
     },
     "execution_count": 80,
     "metadata": {},
     "output_type": "execute_result"
    }
   ],
   "source": [
    "goods = df1.merge(df2)\n",
    "#объединяем датасеты для задачи\n",
    "goods.head()"
   ]
  },
  {
   "cell_type": "markdown",
   "metadata": {
    "scrolled": true
   },
   "source": [
    "Получаем список, в какой день недели какой товар лучше продаётся. \n",
    "Так как на маленьком количестве покупок (<5) случается одинаковое количество покупок, то пренебрегаем этим фактом (т.к. число достаточно незначительное) и берём первое значение дня недели."
   ]
  },
  {
   "cell_type": "code",
   "execution_count": 81,
   "metadata": {},
   "outputs": [
    {
     "name": "stdout",
     "output_type": "stream",
     "text": [
      "product_id\n",
      "00066f42aeeb9f3007548bb9d3f33c38       Sunday\n",
      "00088930e925c41fd95ebfe695fd2655      Tuesday\n",
      "0009406fd7479715e4bef61dd91f2462     Thursday\n",
      "000b8f95fcb9e0096488278317764d19       Friday\n",
      "000d9be29b5207b54e86aa1b1ac54872      Tuesday\n",
      "                                      ...    \n",
      "fff6177642830a9a94a0f2cba5e476d1     Saturday\n",
      "fff81cc3158d2725c0655ab9ba0f712c       Monday\n",
      "fff9553ac224cec9d15d49f5a263411f       Friday\n",
      "fffdb2d0ec8d6a61f0a0a0db3f25b441      Tuesday\n",
      "fffe9eeff12fcbd74a2f2b007dde0c58    Wednesday\n",
      "Name: max_dayofweek, Length: 32614, dtype: object\n"
     ]
    }
   ],
   "source": [
    "goods_by_day = goods.query('order_status == [\"processing\", \"shipped\", \"delivered\"] or order_delivered_customer_date!=\"\"')\n",
    "goods_by_day['dayofweek'] = pd.DatetimeIndex(goods_by_day['order_purchase_timestamp']).day_name()\n",
    "goods_by_day = goods_by_day \\\n",
    "    .groupby(['dayofweek',\n",
    "              'order_purchase_timestamp',\n",
    "              'product_id'], as_index=False) \\\n",
    "    .agg({'order_id':'count'}) \\\n",
    "    .rename(columns={'order_id':\n",
    "                     'num_sold'}) \\\n",
    "    .groupby(['product_id','dayofweek'], as_index=False) \\\n",
    "    .agg({'num_sold':\n",
    "          'sum'}) \\\n",
    "    .pivot(index='product_id', \n",
    "           columns='dayofweek', \n",
    "           values='num_sold') \\\n",
    "    .fillna(0)\n",
    "goods_by_day['max_dayofweek']=goods_by_day.idxmax(axis=1)\n",
    "print(goods_by_day.max_dayofweek)"
   ]
  },
  {
   "cell_type": "markdown",
   "metadata": {},
   "source": [
    "4. Сколько у каждого из пользователей в среднем покупок в неделю (по месяцам)? Не стоит забывать, что внутри месяца может быть не целое количество недель. Например, в ноябре 2021 года 4,28 недели. И внутри метрики это нужно учесть. "
   ]
  },
  {
   "cell_type": "code",
   "execution_count": 82,
   "metadata": {},
   "outputs": [
    {
     "data": {
      "text/html": [
       "<div>\n",
       "<style scoped>\n",
       "    .dataframe tbody tr th:only-of-type {\n",
       "        vertical-align: middle;\n",
       "    }\n",
       "\n",
       "    .dataframe tbody tr th {\n",
       "        vertical-align: top;\n",
       "    }\n",
       "\n",
       "    .dataframe thead th {\n",
       "        text-align: right;\n",
       "    }\n",
       "</style>\n",
       "<table border=\"1\" class=\"dataframe\">\n",
       "  <thead>\n",
       "    <tr style=\"text-align: right;\">\n",
       "      <th></th>\n",
       "      <th>customer_id</th>\n",
       "      <th>customer_unique_id</th>\n",
       "      <th>customer_zip_code_prefix</th>\n",
       "      <th>customer_city</th>\n",
       "      <th>customer_state</th>\n",
       "      <th>order_id</th>\n",
       "      <th>order_status</th>\n",
       "      <th>order_purchase_timestamp</th>\n",
       "      <th>order_approved_at</th>\n",
       "      <th>order_delivered_carrier_date</th>\n",
       "      <th>order_delivered_customer_date</th>\n",
       "      <th>order_estimated_delivery_date</th>\n",
       "    </tr>\n",
       "  </thead>\n",
       "  <tbody>\n",
       "    <tr>\n",
       "      <th>0</th>\n",
       "      <td>06b8999e2fba1a1fbc88172c00ba8bc7</td>\n",
       "      <td>861eff4711a542e4b93843c6dd7febb0</td>\n",
       "      <td>14409</td>\n",
       "      <td>franca</td>\n",
       "      <td>SP</td>\n",
       "      <td>00e7ee1b050b8499577073aeb2a297a1</td>\n",
       "      <td>delivered</td>\n",
       "      <td>2017-05-16 15:05:35</td>\n",
       "      <td>2017-05-16 15:22:12</td>\n",
       "      <td>2017-05-23 10:47:57</td>\n",
       "      <td>2017-05-25 10:35:35</td>\n",
       "      <td>2017-06-05</td>\n",
       "    </tr>\n",
       "    <tr>\n",
       "      <th>1</th>\n",
       "      <td>18955e83d337fd6b2def6b18a428ac77</td>\n",
       "      <td>290c77bc529b7ac935b93aa66c333dc3</td>\n",
       "      <td>9790</td>\n",
       "      <td>sao bernardo do campo</td>\n",
       "      <td>SP</td>\n",
       "      <td>29150127e6685892b6eab3eec79f59c7</td>\n",
       "      <td>delivered</td>\n",
       "      <td>2018-01-12 20:48:24</td>\n",
       "      <td>2018-01-12 20:58:32</td>\n",
       "      <td>2018-01-15 17:14:59</td>\n",
       "      <td>2018-01-29 12:41:19</td>\n",
       "      <td>2018-02-06</td>\n",
       "    </tr>\n",
       "    <tr>\n",
       "      <th>2</th>\n",
       "      <td>4e7b3e00288586ebd08712fdd0374a03</td>\n",
       "      <td>060e732b5b29e8181a18229c7b0b2b5e</td>\n",
       "      <td>1151</td>\n",
       "      <td>sao paulo</td>\n",
       "      <td>SP</td>\n",
       "      <td>b2059ed67ce144a36e2aa97d2c9e9ad2</td>\n",
       "      <td>delivered</td>\n",
       "      <td>2018-05-19 16:07:45</td>\n",
       "      <td>2018-05-20 16:19:10</td>\n",
       "      <td>2018-06-11 14:31:00</td>\n",
       "      <td>2018-06-14 17:58:51</td>\n",
       "      <td>2018-06-13</td>\n",
       "    </tr>\n",
       "    <tr>\n",
       "      <th>3</th>\n",
       "      <td>b2b6027bc5c5109e529d4dc6358b12c3</td>\n",
       "      <td>259dac757896d24d7702b9acbbff3f3c</td>\n",
       "      <td>8775</td>\n",
       "      <td>mogi das cruzes</td>\n",
       "      <td>SP</td>\n",
       "      <td>951670f92359f4fe4a63112aa7306eba</td>\n",
       "      <td>delivered</td>\n",
       "      <td>2018-03-13 16:06:38</td>\n",
       "      <td>2018-03-13 17:29:19</td>\n",
       "      <td>2018-03-27 23:22:42</td>\n",
       "      <td>2018-03-28 16:04:25</td>\n",
       "      <td>2018-04-10</td>\n",
       "    </tr>\n",
       "    <tr>\n",
       "      <th>4</th>\n",
       "      <td>4f2d8ab171c80ec8364f7c12e35b23ad</td>\n",
       "      <td>345ecd01c38d18a9036ed96c73b8d066</td>\n",
       "      <td>13056</td>\n",
       "      <td>campinas</td>\n",
       "      <td>SP</td>\n",
       "      <td>6b7d50bd145f6fc7f33cebabd7e49d0f</td>\n",
       "      <td>delivered</td>\n",
       "      <td>2018-07-29 09:51:30</td>\n",
       "      <td>2018-07-29 10:10:09</td>\n",
       "      <td>2018-07-30 15:16:00</td>\n",
       "      <td>2018-08-09 20:55:48</td>\n",
       "      <td>2018-08-15</td>\n",
       "    </tr>\n",
       "  </tbody>\n",
       "</table>\n",
       "</div>"
      ],
      "text/plain": [
       "                        customer_id                customer_unique_id  \\\n",
       "0  06b8999e2fba1a1fbc88172c00ba8bc7  861eff4711a542e4b93843c6dd7febb0   \n",
       "1  18955e83d337fd6b2def6b18a428ac77  290c77bc529b7ac935b93aa66c333dc3   \n",
       "2  4e7b3e00288586ebd08712fdd0374a03  060e732b5b29e8181a18229c7b0b2b5e   \n",
       "3  b2b6027bc5c5109e529d4dc6358b12c3  259dac757896d24d7702b9acbbff3f3c   \n",
       "4  4f2d8ab171c80ec8364f7c12e35b23ad  345ecd01c38d18a9036ed96c73b8d066   \n",
       "\n",
       "   customer_zip_code_prefix          customer_city customer_state  \\\n",
       "0                     14409                 franca             SP   \n",
       "1                      9790  sao bernardo do campo             SP   \n",
       "2                      1151              sao paulo             SP   \n",
       "3                      8775        mogi das cruzes             SP   \n",
       "4                     13056               campinas             SP   \n",
       "\n",
       "                           order_id order_status order_purchase_timestamp  \\\n",
       "0  00e7ee1b050b8499577073aeb2a297a1    delivered      2017-05-16 15:05:35   \n",
       "1  29150127e6685892b6eab3eec79f59c7    delivered      2018-01-12 20:48:24   \n",
       "2  b2059ed67ce144a36e2aa97d2c9e9ad2    delivered      2018-05-19 16:07:45   \n",
       "3  951670f92359f4fe4a63112aa7306eba    delivered      2018-03-13 16:06:38   \n",
       "4  6b7d50bd145f6fc7f33cebabd7e49d0f    delivered      2018-07-29 09:51:30   \n",
       "\n",
       "    order_approved_at order_delivered_carrier_date  \\\n",
       "0 2017-05-16 15:22:12          2017-05-23 10:47:57   \n",
       "1 2018-01-12 20:58:32          2018-01-15 17:14:59   \n",
       "2 2018-05-20 16:19:10          2018-06-11 14:31:00   \n",
       "3 2018-03-13 17:29:19          2018-03-27 23:22:42   \n",
       "4 2018-07-29 10:10:09          2018-07-30 15:16:00   \n",
       "\n",
       "  order_delivered_customer_date order_estimated_delivery_date  \n",
       "0           2017-05-25 10:35:35                    2017-06-05  \n",
       "1           2018-01-29 12:41:19                    2018-02-06  \n",
       "2           2018-06-14 17:58:51                    2018-06-13  \n",
       "3           2018-03-28 16:04:25                    2018-04-10  \n",
       "4           2018-08-09 20:55:48                    2018-08-15  "
      ]
     },
     "execution_count": 82,
     "metadata": {},
     "output_type": "execute_result"
    }
   ],
   "source": [
    "sells.head()"
   ]
  },
  {
   "cell_type": "code",
   "execution_count": 83,
   "metadata": {
    "scrolled": true
   },
   "outputs": [
    {
     "data": {
      "text/html": [
       "<div>\n",
       "<style scoped>\n",
       "    .dataframe tbody tr th:only-of-type {\n",
       "        vertical-align: middle;\n",
       "    }\n",
       "\n",
       "    .dataframe tbody tr th {\n",
       "        vertical-align: top;\n",
       "    }\n",
       "\n",
       "    .dataframe thead th {\n",
       "        text-align: right;\n",
       "    }\n",
       "</style>\n",
       "<table border=\"1\" class=\"dataframe\">\n",
       "  <thead>\n",
       "    <tr style=\"text-align: right;\">\n",
       "      <th></th>\n",
       "      <th>customer_unique_id</th>\n",
       "      <th>weekly_mean</th>\n",
       "    </tr>\n",
       "  </thead>\n",
       "  <tbody>\n",
       "    <tr>\n",
       "      <th>0</th>\n",
       "      <td>0000366f3b9a7992bf8c76cfdf3221e2</td>\n",
       "      <td>0.225806</td>\n",
       "    </tr>\n",
       "    <tr>\n",
       "      <th>1</th>\n",
       "      <td>0000b849f77a49e4a4ce2b2a4ca5be3f</td>\n",
       "      <td>0.225806</td>\n",
       "    </tr>\n",
       "    <tr>\n",
       "      <th>2</th>\n",
       "      <td>0000f46a3911fa3c0805444483337064</td>\n",
       "      <td>0.233333</td>\n",
       "    </tr>\n",
       "    <tr>\n",
       "      <th>3</th>\n",
       "      <td>0000f6ccb0745a6a4b88665a16c9f078</td>\n",
       "      <td>0.233333</td>\n",
       "    </tr>\n",
       "    <tr>\n",
       "      <th>4</th>\n",
       "      <td>0004aac84e0df4da2b147fca70cf8255</td>\n",
       "      <td>0.225806</td>\n",
       "    </tr>\n",
       "    <tr>\n",
       "      <th>...</th>\n",
       "      <td>...</td>\n",
       "      <td>...</td>\n",
       "    </tr>\n",
       "    <tr>\n",
       "      <th>96746</th>\n",
       "      <td>fffcf5a5ff07b0908bd4e2dbc735a684</td>\n",
       "      <td>0.225806</td>\n",
       "    </tr>\n",
       "    <tr>\n",
       "      <th>96747</th>\n",
       "      <td>fffea47cd6d3cc0a88bd621562a9d061</td>\n",
       "      <td>0.225806</td>\n",
       "    </tr>\n",
       "    <tr>\n",
       "      <th>96748</th>\n",
       "      <td>ffff371b4d645b6ecea244b27531430a</td>\n",
       "      <td>0.225806</td>\n",
       "    </tr>\n",
       "    <tr>\n",
       "      <th>96749</th>\n",
       "      <td>ffff5962728ec6157033ef9805bacc48</td>\n",
       "      <td>0.225806</td>\n",
       "    </tr>\n",
       "    <tr>\n",
       "      <th>96750</th>\n",
       "      <td>ffffd2657e2aad2907e67c3e9daecbeb</td>\n",
       "      <td>0.225806</td>\n",
       "    </tr>\n",
       "  </tbody>\n",
       "</table>\n",
       "<p>96751 rows × 2 columns</p>\n",
       "</div>"
      ],
      "text/plain": [
       "                     customer_unique_id  weekly_mean\n",
       "0      0000366f3b9a7992bf8c76cfdf3221e2     0.225806\n",
       "1      0000b849f77a49e4a4ce2b2a4ca5be3f     0.225806\n",
       "2      0000f46a3911fa3c0805444483337064     0.233333\n",
       "3      0000f6ccb0745a6a4b88665a16c9f078     0.233333\n",
       "4      0004aac84e0df4da2b147fca70cf8255     0.225806\n",
       "...                                 ...          ...\n",
       "96746  fffcf5a5ff07b0908bd4e2dbc735a684     0.225806\n",
       "96747  fffea47cd6d3cc0a88bd621562a9d061     0.225806\n",
       "96748  ffff371b4d645b6ecea244b27531430a     0.225806\n",
       "96749  ffff5962728ec6157033ef9805bacc48     0.225806\n",
       "96750  ffffd2657e2aad2907e67c3e9daecbeb     0.225806\n",
       "\n",
       "[96751 rows x 2 columns]"
      ]
     },
     "execution_count": 83,
     "metadata": {},
     "output_type": "execute_result"
    }
   ],
   "source": [
    "purchases = sells\n",
    "purchases['num_of_weeks'] = (purchases.order_estimated_delivery_date.dt.days_in_month) / 7\n",
    "purchases['month'] = pd.DatetimeIndex(purchases['order_purchase_timestamp']).month\n",
    "purchases_by_month = purchases \\\n",
    "    .groupby(['customer_unique_id',\n",
    "              'month', \n",
    "              'num_of_weeks'], as_index=False) \\\n",
    "    .agg({'customer_id':\n",
    "          'count'}) \\\n",
    "    .rename(columns={'customer_id':\n",
    "                     'num_purchases'})\n",
    "purchases_by_month['weekly_mean'] = (purchases_by_month.num_purchases \n",
    "                                     / purchases_by_month.num_of_weeks)\n",
    "purchases_by_week = purchases_by_month[['customer_unique_id', 'weekly_mean']]\n",
    "purchases_by_week"
   ]
  },
  {
   "cell_type": "markdown",
   "metadata": {},
   "source": [
    "5. Используя pandas, проведи когортный анализ пользователей. В период с января по декабрь выяви когорту с самым высоким retention на 3й месяц."
   ]
  },
  {
   "cell_type": "code",
   "execution_count": 84,
   "metadata": {},
   "outputs": [],
   "source": [
    "cohort_df = sells.dropna(axis='index', how='any', subset=['order_approved_at'])"
   ]
  },
  {
   "cell_type": "code",
   "execution_count": 85,
   "metadata": {
    "scrolled": false
   },
   "outputs": [],
   "source": [
    "cohort_df[\"cohort\"] = cohort_df.groupby('customer_unique_id')['order_approved_at'].transform('min')"
   ]
  },
  {
   "cell_type": "code",
   "execution_count": 86,
   "metadata": {},
   "outputs": [],
   "source": [
    "cohort_df.order_purchase_timestamp = cohort_df.order_purchase_timestamp.dt.strftime('%Y-%m')\n",
    "cohort_df.order_approved_at = cohort_df.order_approved_at.dt.strftime('%Y-%m')\n",
    "cohort_df.cohort = cohort_df.cohort.dt.strftime('%Y-%m')"
   ]
  },
  {
   "cell_type": "code",
   "execution_count": 87,
   "metadata": {},
   "outputs": [
    {
     "data": {
      "text/html": [
       "<div>\n",
       "<style scoped>\n",
       "    .dataframe tbody tr th:only-of-type {\n",
       "        vertical-align: middle;\n",
       "    }\n",
       "\n",
       "    .dataframe tbody tr th {\n",
       "        vertical-align: top;\n",
       "    }\n",
       "\n",
       "    .dataframe thead th {\n",
       "        text-align: right;\n",
       "    }\n",
       "</style>\n",
       "<table border=\"1\" class=\"dataframe\">\n",
       "  <thead>\n",
       "    <tr style=\"text-align: right;\">\n",
       "      <th></th>\n",
       "      <th>customer_id</th>\n",
       "      <th>customer_unique_id</th>\n",
       "      <th>customer_zip_code_prefix</th>\n",
       "      <th>customer_city</th>\n",
       "      <th>customer_state</th>\n",
       "      <th>order_id</th>\n",
       "      <th>order_status</th>\n",
       "      <th>order_purchase_timestamp</th>\n",
       "      <th>order_approved_at</th>\n",
       "      <th>order_delivered_carrier_date</th>\n",
       "      <th>order_delivered_customer_date</th>\n",
       "      <th>order_estimated_delivery_date</th>\n",
       "      <th>num_of_weeks</th>\n",
       "      <th>month</th>\n",
       "      <th>cohort</th>\n",
       "    </tr>\n",
       "  </thead>\n",
       "  <tbody>\n",
       "    <tr>\n",
       "      <th>0</th>\n",
       "      <td>06b8999e2fba1a1fbc88172c00ba8bc7</td>\n",
       "      <td>861eff4711a542e4b93843c6dd7febb0</td>\n",
       "      <td>14409</td>\n",
       "      <td>franca</td>\n",
       "      <td>SP</td>\n",
       "      <td>00e7ee1b050b8499577073aeb2a297a1</td>\n",
       "      <td>delivered</td>\n",
       "      <td>2017-05</td>\n",
       "      <td>2017-05</td>\n",
       "      <td>2017-05-23 10:47:57</td>\n",
       "      <td>2017-05-25 10:35:35</td>\n",
       "      <td>2017-06-05</td>\n",
       "      <td>4.285714</td>\n",
       "      <td>5</td>\n",
       "      <td>2017-05</td>\n",
       "    </tr>\n",
       "    <tr>\n",
       "      <th>1</th>\n",
       "      <td>18955e83d337fd6b2def6b18a428ac77</td>\n",
       "      <td>290c77bc529b7ac935b93aa66c333dc3</td>\n",
       "      <td>9790</td>\n",
       "      <td>sao bernardo do campo</td>\n",
       "      <td>SP</td>\n",
       "      <td>29150127e6685892b6eab3eec79f59c7</td>\n",
       "      <td>delivered</td>\n",
       "      <td>2018-01</td>\n",
       "      <td>2018-01</td>\n",
       "      <td>2018-01-15 17:14:59</td>\n",
       "      <td>2018-01-29 12:41:19</td>\n",
       "      <td>2018-02-06</td>\n",
       "      <td>4.000000</td>\n",
       "      <td>1</td>\n",
       "      <td>2018-01</td>\n",
       "    </tr>\n",
       "    <tr>\n",
       "      <th>2</th>\n",
       "      <td>4e7b3e00288586ebd08712fdd0374a03</td>\n",
       "      <td>060e732b5b29e8181a18229c7b0b2b5e</td>\n",
       "      <td>1151</td>\n",
       "      <td>sao paulo</td>\n",
       "      <td>SP</td>\n",
       "      <td>b2059ed67ce144a36e2aa97d2c9e9ad2</td>\n",
       "      <td>delivered</td>\n",
       "      <td>2018-05</td>\n",
       "      <td>2018-05</td>\n",
       "      <td>2018-06-11 14:31:00</td>\n",
       "      <td>2018-06-14 17:58:51</td>\n",
       "      <td>2018-06-13</td>\n",
       "      <td>4.285714</td>\n",
       "      <td>5</td>\n",
       "      <td>2018-05</td>\n",
       "    </tr>\n",
       "    <tr>\n",
       "      <th>3</th>\n",
       "      <td>b2b6027bc5c5109e529d4dc6358b12c3</td>\n",
       "      <td>259dac757896d24d7702b9acbbff3f3c</td>\n",
       "      <td>8775</td>\n",
       "      <td>mogi das cruzes</td>\n",
       "      <td>SP</td>\n",
       "      <td>951670f92359f4fe4a63112aa7306eba</td>\n",
       "      <td>delivered</td>\n",
       "      <td>2018-03</td>\n",
       "      <td>2018-03</td>\n",
       "      <td>2018-03-27 23:22:42</td>\n",
       "      <td>2018-03-28 16:04:25</td>\n",
       "      <td>2018-04-10</td>\n",
       "      <td>4.285714</td>\n",
       "      <td>3</td>\n",
       "      <td>2018-03</td>\n",
       "    </tr>\n",
       "    <tr>\n",
       "      <th>4</th>\n",
       "      <td>4f2d8ab171c80ec8364f7c12e35b23ad</td>\n",
       "      <td>345ecd01c38d18a9036ed96c73b8d066</td>\n",
       "      <td>13056</td>\n",
       "      <td>campinas</td>\n",
       "      <td>SP</td>\n",
       "      <td>6b7d50bd145f6fc7f33cebabd7e49d0f</td>\n",
       "      <td>delivered</td>\n",
       "      <td>2018-07</td>\n",
       "      <td>2018-07</td>\n",
       "      <td>2018-07-30 15:16:00</td>\n",
       "      <td>2018-08-09 20:55:48</td>\n",
       "      <td>2018-08-15</td>\n",
       "      <td>4.428571</td>\n",
       "      <td>7</td>\n",
       "      <td>2018-07</td>\n",
       "    </tr>\n",
       "  </tbody>\n",
       "</table>\n",
       "</div>"
      ],
      "text/plain": [
       "                        customer_id                customer_unique_id  \\\n",
       "0  06b8999e2fba1a1fbc88172c00ba8bc7  861eff4711a542e4b93843c6dd7febb0   \n",
       "1  18955e83d337fd6b2def6b18a428ac77  290c77bc529b7ac935b93aa66c333dc3   \n",
       "2  4e7b3e00288586ebd08712fdd0374a03  060e732b5b29e8181a18229c7b0b2b5e   \n",
       "3  b2b6027bc5c5109e529d4dc6358b12c3  259dac757896d24d7702b9acbbff3f3c   \n",
       "4  4f2d8ab171c80ec8364f7c12e35b23ad  345ecd01c38d18a9036ed96c73b8d066   \n",
       "\n",
       "   customer_zip_code_prefix          customer_city customer_state  \\\n",
       "0                     14409                 franca             SP   \n",
       "1                      9790  sao bernardo do campo             SP   \n",
       "2                      1151              sao paulo             SP   \n",
       "3                      8775        mogi das cruzes             SP   \n",
       "4                     13056               campinas             SP   \n",
       "\n",
       "                           order_id order_status order_purchase_timestamp  \\\n",
       "0  00e7ee1b050b8499577073aeb2a297a1    delivered                  2017-05   \n",
       "1  29150127e6685892b6eab3eec79f59c7    delivered                  2018-01   \n",
       "2  b2059ed67ce144a36e2aa97d2c9e9ad2    delivered                  2018-05   \n",
       "3  951670f92359f4fe4a63112aa7306eba    delivered                  2018-03   \n",
       "4  6b7d50bd145f6fc7f33cebabd7e49d0f    delivered                  2018-07   \n",
       "\n",
       "  order_approved_at order_delivered_carrier_date  \\\n",
       "0           2017-05          2017-05-23 10:47:57   \n",
       "1           2018-01          2018-01-15 17:14:59   \n",
       "2           2018-05          2018-06-11 14:31:00   \n",
       "3           2018-03          2018-03-27 23:22:42   \n",
       "4           2018-07          2018-07-30 15:16:00   \n",
       "\n",
       "  order_delivered_customer_date order_estimated_delivery_date  num_of_weeks  \\\n",
       "0           2017-05-25 10:35:35                    2017-06-05      4.285714   \n",
       "1           2018-01-29 12:41:19                    2018-02-06      4.000000   \n",
       "2           2018-06-14 17:58:51                    2018-06-13      4.285714   \n",
       "3           2018-03-28 16:04:25                    2018-04-10      4.285714   \n",
       "4           2018-08-09 20:55:48                    2018-08-15      4.428571   \n",
       "\n",
       "   month   cohort  \n",
       "0      5  2017-05  \n",
       "1      1  2018-01  \n",
       "2      5  2018-05  \n",
       "3      3  2018-03  \n",
       "4      7  2018-07  "
      ]
     },
     "execution_count": 87,
     "metadata": {},
     "output_type": "execute_result"
    }
   ],
   "source": [
    "cohort_df.head()"
   ]
  },
  {
   "cell_type": "code",
   "execution_count": 88,
   "metadata": {},
   "outputs": [
    {
     "data": {
      "text/html": [
       "<div>\n",
       "<style scoped>\n",
       "    .dataframe tbody tr th:only-of-type {\n",
       "        vertical-align: middle;\n",
       "    }\n",
       "\n",
       "    .dataframe tbody tr th {\n",
       "        vertical-align: top;\n",
       "    }\n",
       "\n",
       "    .dataframe thead th {\n",
       "        text-align: right;\n",
       "    }\n",
       "</style>\n",
       "<table border=\"1\" class=\"dataframe\">\n",
       "  <thead>\n",
       "    <tr style=\"text-align: right;\">\n",
       "      <th></th>\n",
       "      <th>cohort</th>\n",
       "      <th>order_approved_at</th>\n",
       "      <th>customer_unique_id</th>\n",
       "    </tr>\n",
       "  </thead>\n",
       "  <tbody>\n",
       "    <tr>\n",
       "      <th>0</th>\n",
       "      <td>2017-01</td>\n",
       "      <td>2017-01</td>\n",
       "      <td>705</td>\n",
       "    </tr>\n",
       "    <tr>\n",
       "      <th>1</th>\n",
       "      <td>2017-01</td>\n",
       "      <td>2017-02</td>\n",
       "      <td>4</td>\n",
       "    </tr>\n",
       "    <tr>\n",
       "      <th>2</th>\n",
       "      <td>2017-01</td>\n",
       "      <td>2017-03</td>\n",
       "      <td>2</td>\n",
       "    </tr>\n",
       "    <tr>\n",
       "      <th>3</th>\n",
       "      <td>2017-01</td>\n",
       "      <td>2017-04</td>\n",
       "      <td>1</td>\n",
       "    </tr>\n",
       "    <tr>\n",
       "      <th>4</th>\n",
       "      <td>2017-01</td>\n",
       "      <td>2017-05</td>\n",
       "      <td>3</td>\n",
       "    </tr>\n",
       "  </tbody>\n",
       "</table>\n",
       "</div>"
      ],
      "text/plain": [
       "    cohort order_approved_at  customer_unique_id\n",
       "0  2017-01           2017-01                 705\n",
       "1  2017-01           2017-02                   4\n",
       "2  2017-01           2017-03                   2\n",
       "3  2017-01           2017-04                   1\n",
       "4  2017-01           2017-05                   3"
      ]
     },
     "execution_count": 88,
     "metadata": {},
     "output_type": "execute_result"
    }
   ],
   "source": [
    "cohort_df_1 = cohort_df \\\n",
    "    .query(\"'2017-01' <= cohort <= '2017-12'\") \\\n",
    "    .groupby([\"cohort\", \"order_approved_at\"], as_index=False) \\\n",
    "    .agg({\"customer_unique_id\": \"nunique\"})\n",
    "cohort_df_1.head()"
   ]
  },
  {
   "cell_type": "code",
   "execution_count": 89,
   "metadata": {},
   "outputs": [],
   "source": [
    "cohort_df_1[\"cohort\"] = pd.to_datetime(cohort_df_1[\"cohort\"]).dt.to_period(\"m\")\n",
    "cohort_df_1[\"order_approved_at\"] = pd.to_datetime(cohort_df_1[\"order_approved_at\"]).dt.to_period(\"m\")"
   ]
  },
  {
   "cell_type": "code",
   "execution_count": 90,
   "metadata": {
    "scrolled": true
   },
   "outputs": [],
   "source": [
    "cohort_df_1['period'] = (cohort_df_1.order_approved_at \n",
    "                         - cohort_df_1.cohort) \\\n",
    "                            .apply(attrgetter(\"n\"))"
   ]
  },
  {
   "cell_type": "code",
   "execution_count": 91,
   "metadata": {},
   "outputs": [],
   "source": [
    "cohort_df_1_p = cohort_df_1.pivot(index='cohort', \n",
    "                                  columns = 'period', \n",
    "                                  values = 'customer_unique_id')"
   ]
  },
  {
   "cell_type": "code",
   "execution_count": 92,
   "metadata": {},
   "outputs": [],
   "source": [
    "base = cohort_df_1_p[0]\n",
    "#вводим единицу для расчёта retention"
   ]
  },
  {
   "cell_type": "code",
   "execution_count": 93,
   "metadata": {},
   "outputs": [],
   "source": [
    "retention = cohort_df_1_p.divide(base, axis=0).round(4)"
   ]
  },
  {
   "cell_type": "code",
   "execution_count": 94,
   "metadata": {
    "scrolled": false
   },
   "outputs": [
    {
     "data": {
      "text/html": [
       "<style  type=\"text/css\" >\n",
       "#T_e7e5466c_06a8_11ed_bdbb_96000040dfb6row0_col0,#T_e7e5466c_06a8_11ed_bdbb_96000040dfb6row0_col18,#T_e7e5466c_06a8_11ed_bdbb_96000040dfb6row1_col0,#T_e7e5466c_06a8_11ed_bdbb_96000040dfb6row1_col5,#T_e7e5466c_06a8_11ed_bdbb_96000040dfb6row1_col8,#T_e7e5466c_06a8_11ed_bdbb_96000040dfb6row1_col10,#T_e7e5466c_06a8_11ed_bdbb_96000040dfb6row1_col15,#T_e7e5466c_06a8_11ed_bdbb_96000040dfb6row1_col16,#T_e7e5466c_06a8_11ed_bdbb_96000040dfb6row2_col0,#T_e7e5466c_06a8_11ed_bdbb_96000040dfb6row2_col17,#T_e7e5466c_06a8_11ed_bdbb_96000040dfb6row3_col0,#T_e7e5466c_06a8_11ed_bdbb_96000040dfb6row3_col2,#T_e7e5466c_06a8_11ed_bdbb_96000040dfb6row3_col12,#T_e7e5466c_06a8_11ed_bdbb_96000040dfb6row3_col13,#T_e7e5466c_06a8_11ed_bdbb_96000040dfb6row3_col14,#T_e7e5466c_06a8_11ed_bdbb_96000040dfb6row4_col0,#T_e7e5466c_06a8_11ed_bdbb_96000040dfb6row5_col0,#T_e7e5466c_06a8_11ed_bdbb_96000040dfb6row6_col0,#T_e7e5466c_06a8_11ed_bdbb_96000040dfb6row7_col0,#T_e7e5466c_06a8_11ed_bdbb_96000040dfb6row8_col0,#T_e7e5466c_06a8_11ed_bdbb_96000040dfb6row8_col11,#T_e7e5466c_06a8_11ed_bdbb_96000040dfb6row9_col0,#T_e7e5466c_06a8_11ed_bdbb_96000040dfb6row9_col3,#T_e7e5466c_06a8_11ed_bdbb_96000040dfb6row10_col0,#T_e7e5466c_06a8_11ed_bdbb_96000040dfb6row10_col4,#T_e7e5466c_06a8_11ed_bdbb_96000040dfb6row10_col6,#T_e7e5466c_06a8_11ed_bdbb_96000040dfb6row10_col9,#T_e7e5466c_06a8_11ed_bdbb_96000040dfb6row11_col0,#T_e7e5466c_06a8_11ed_bdbb_96000040dfb6row11_col1,#T_e7e5466c_06a8_11ed_bdbb_96000040dfb6row11_col7{\n",
       "            background-color:  #440154;\n",
       "            color:  #f1f1f1;\n",
       "        }#T_e7e5466c_06a8_11ed_bdbb_96000040dfb6row0_col1{\n",
       "            background-color:  #58c765;\n",
       "            color:  #000000;\n",
       "        }#T_e7e5466c_06a8_11ed_bdbb_96000040dfb6row0_col2{\n",
       "            background-color:  #3e4989;\n",
       "            color:  #f1f1f1;\n",
       "        }#T_e7e5466c_06a8_11ed_bdbb_96000040dfb6row0_col3{\n",
       "            background-color:  #453882;\n",
       "            color:  #f1f1f1;\n",
       "        }#T_e7e5466c_06a8_11ed_bdbb_96000040dfb6row0_col4,#T_e7e5466c_06a8_11ed_bdbb_96000040dfb6row0_col6,#T_e7e5466c_06a8_11ed_bdbb_96000040dfb6row0_col12,#T_e7e5466c_06a8_11ed_bdbb_96000040dfb6row0_col13,#T_e7e5466c_06a8_11ed_bdbb_96000040dfb6row0_col16,#T_e7e5466c_06a8_11ed_bdbb_96000040dfb6row0_col17,#T_e7e5466c_06a8_11ed_bdbb_96000040dfb6row2_col10,#T_e7e5466c_06a8_11ed_bdbb_96000040dfb6row2_col15,#T_e7e5466c_06a8_11ed_bdbb_96000040dfb6row3_col8,#T_e7e5466c_06a8_11ed_bdbb_96000040dfb6row4_col3,#T_e7e5466c_06a8_11ed_bdbb_96000040dfb6row4_col6,#T_e7e5466c_06a8_11ed_bdbb_96000040dfb6row4_col9,#T_e7e5466c_06a8_11ed_bdbb_96000040dfb6row4_col14,#T_e7e5466c_06a8_11ed_bdbb_96000040dfb6row4_col15,#T_e7e5466c_06a8_11ed_bdbb_96000040dfb6row5_col11,#T_e7e5466c_06a8_11ed_bdbb_96000040dfb6row7_col5,#T_e7e5466c_06a8_11ed_bdbb_96000040dfb6row8_col2,#T_e7e5466c_06a8_11ed_bdbb_96000040dfb6row9_col1,#T_e7e5466c_06a8_11ed_bdbb_96000040dfb6row9_col7{\n",
       "            background-color:  #fde725;\n",
       "            color:  #000000;\n",
       "        }#T_e7e5466c_06a8_11ed_bdbb_96000040dfb6row0_col5{\n",
       "            background-color:  #471365;\n",
       "            color:  #f1f1f1;\n",
       "        }#T_e7e5466c_06a8_11ed_bdbb_96000040dfb6row0_col7,#T_e7e5466c_06a8_11ed_bdbb_96000040dfb6row3_col5,#T_e7e5466c_06a8_11ed_bdbb_96000040dfb6row4_col7{\n",
       "            background-color:  #306a8e;\n",
       "            color:  #f1f1f1;\n",
       "        }#T_e7e5466c_06a8_11ed_bdbb_96000040dfb6row0_col8{\n",
       "            background-color:  #38598c;\n",
       "            color:  #f1f1f1;\n",
       "        }#T_e7e5466c_06a8_11ed_bdbb_96000040dfb6row0_col9,#T_e7e5466c_06a8_11ed_bdbb_96000040dfb6row3_col17,#T_e7e5466c_06a8_11ed_bdbb_96000040dfb6row4_col16,#T_e7e5466c_06a8_11ed_bdbb_96000040dfb6row4_col17,#T_e7e5466c_06a8_11ed_bdbb_96000040dfb6row5_col15,#T_e7e5466c_06a8_11ed_bdbb_96000040dfb6row5_col16,#T_e7e5466c_06a8_11ed_bdbb_96000040dfb6row5_col17,#T_e7e5466c_06a8_11ed_bdbb_96000040dfb6row6_col14,#T_e7e5466c_06a8_11ed_bdbb_96000040dfb6row6_col15,#T_e7e5466c_06a8_11ed_bdbb_96000040dfb6row6_col16,#T_e7e5466c_06a8_11ed_bdbb_96000040dfb6row6_col17,#T_e7e5466c_06a8_11ed_bdbb_96000040dfb6row7_col13,#T_e7e5466c_06a8_11ed_bdbb_96000040dfb6row7_col14,#T_e7e5466c_06a8_11ed_bdbb_96000040dfb6row7_col15,#T_e7e5466c_06a8_11ed_bdbb_96000040dfb6row7_col16,#T_e7e5466c_06a8_11ed_bdbb_96000040dfb6row7_col17,#T_e7e5466c_06a8_11ed_bdbb_96000040dfb6row8_col12,#T_e7e5466c_06a8_11ed_bdbb_96000040dfb6row8_col13,#T_e7e5466c_06a8_11ed_bdbb_96000040dfb6row8_col14,#T_e7e5466c_06a8_11ed_bdbb_96000040dfb6row8_col15,#T_e7e5466c_06a8_11ed_bdbb_96000040dfb6row8_col16,#T_e7e5466c_06a8_11ed_bdbb_96000040dfb6row8_col17,#T_e7e5466c_06a8_11ed_bdbb_96000040dfb6row9_col11,#T_e7e5466c_06a8_11ed_bdbb_96000040dfb6row9_col12,#T_e7e5466c_06a8_11ed_bdbb_96000040dfb6row9_col13,#T_e7e5466c_06a8_11ed_bdbb_96000040dfb6row9_col14,#T_e7e5466c_06a8_11ed_bdbb_96000040dfb6row9_col15,#T_e7e5466c_06a8_11ed_bdbb_96000040dfb6row9_col16,#T_e7e5466c_06a8_11ed_bdbb_96000040dfb6row9_col17,#T_e7e5466c_06a8_11ed_bdbb_96000040dfb6row10_col10,#T_e7e5466c_06a8_11ed_bdbb_96000040dfb6row10_col11,#T_e7e5466c_06a8_11ed_bdbb_96000040dfb6row10_col12,#T_e7e5466c_06a8_11ed_bdbb_96000040dfb6row10_col13,#T_e7e5466c_06a8_11ed_bdbb_96000040dfb6row10_col14,#T_e7e5466c_06a8_11ed_bdbb_96000040dfb6row10_col15,#T_e7e5466c_06a8_11ed_bdbb_96000040dfb6row10_col16,#T_e7e5466c_06a8_11ed_bdbb_96000040dfb6row10_col17,#T_e7e5466c_06a8_11ed_bdbb_96000040dfb6row11_col9,#T_e7e5466c_06a8_11ed_bdbb_96000040dfb6row11_col10,#T_e7e5466c_06a8_11ed_bdbb_96000040dfb6row11_col11,#T_e7e5466c_06a8_11ed_bdbb_96000040dfb6row11_col12,#T_e7e5466c_06a8_11ed_bdbb_96000040dfb6row11_col13,#T_e7e5466c_06a8_11ed_bdbb_96000040dfb6row11_col14,#T_e7e5466c_06a8_11ed_bdbb_96000040dfb6row11_col15,#T_e7e5466c_06a8_11ed_bdbb_96000040dfb6row11_col16,#T_e7e5466c_06a8_11ed_bdbb_96000040dfb6row11_col17{\n",
       "            background-color:  #000000;\n",
       "            color:  #f1f1f1;\n",
       "            background-color:  white;\n",
       "        }#T_e7e5466c_06a8_11ed_bdbb_96000040dfb6row0_col10,#T_e7e5466c_06a8_11ed_bdbb_96000040dfb6row4_col10{\n",
       "            background-color:  #42be71;\n",
       "            color:  #000000;\n",
       "        }#T_e7e5466c_06a8_11ed_bdbb_96000040dfb6row0_col11{\n",
       "            background-color:  #5ec962;\n",
       "            color:  #000000;\n",
       "        }#T_e7e5466c_06a8_11ed_bdbb_96000040dfb6row0_col14{\n",
       "            background-color:  #25858e;\n",
       "            color:  #000000;\n",
       "        }#T_e7e5466c_06a8_11ed_bdbb_96000040dfb6row0_col15{\n",
       "            background-color:  #23898e;\n",
       "            color:  #000000;\n",
       "        }#T_e7e5466c_06a8_11ed_bdbb_96000040dfb6row1_col1{\n",
       "            background-color:  #46085c;\n",
       "            color:  #f1f1f1;\n",
       "        }#T_e7e5466c_06a8_11ed_bdbb_96000040dfb6row1_col2,#T_e7e5466c_06a8_11ed_bdbb_96000040dfb6row3_col11{\n",
       "            background-color:  #481b6d;\n",
       "            color:  #f1f1f1;\n",
       "        }#T_e7e5466c_06a8_11ed_bdbb_96000040dfb6row1_col3{\n",
       "            background-color:  #365d8d;\n",
       "            color:  #f1f1f1;\n",
       "        }#T_e7e5466c_06a8_11ed_bdbb_96000040dfb6row1_col4,#T_e7e5466c_06a8_11ed_bdbb_96000040dfb6row8_col4{\n",
       "            background-color:  #e2e418;\n",
       "            color:  #000000;\n",
       "        }#T_e7e5466c_06a8_11ed_bdbb_96000040dfb6row1_col6,#T_e7e5466c_06a8_11ed_bdbb_96000040dfb6row8_col5{\n",
       "            background-color:  #2d708e;\n",
       "            color:  #f1f1f1;\n",
       "        }#T_e7e5466c_06a8_11ed_bdbb_96000040dfb6row1_col7{\n",
       "            background-color:  #24868e;\n",
       "            color:  #000000;\n",
       "        }#T_e7e5466c_06a8_11ed_bdbb_96000040dfb6row1_col9,#T_e7e5466c_06a8_11ed_bdbb_96000040dfb6row7_col3{\n",
       "            background-color:  #20a386;\n",
       "            color:  #000000;\n",
       "        }#T_e7e5466c_06a8_11ed_bdbb_96000040dfb6row1_col11{\n",
       "            background-color:  #89d548;\n",
       "            color:  #000000;\n",
       "        }#T_e7e5466c_06a8_11ed_bdbb_96000040dfb6row1_col12{\n",
       "            background-color:  #472a7a;\n",
       "            color:  #f1f1f1;\n",
       "        }#T_e7e5466c_06a8_11ed_bdbb_96000040dfb6row1_col13,#T_e7e5466c_06a8_11ed_bdbb_96000040dfb6row7_col11{\n",
       "            background-color:  #2e6e8e;\n",
       "            color:  #f1f1f1;\n",
       "        }#T_e7e5466c_06a8_11ed_bdbb_96000040dfb6row1_col14{\n",
       "            background-color:  #38588c;\n",
       "            color:  #f1f1f1;\n",
       "        }#T_e7e5466c_06a8_11ed_bdbb_96000040dfb6row1_col17,#T_e7e5466c_06a8_11ed_bdbb_96000040dfb6row9_col2{\n",
       "            background-color:  #355e8d;\n",
       "            color:  #f1f1f1;\n",
       "        }#T_e7e5466c_06a8_11ed_bdbb_96000040dfb6row1_col18,#T_e7e5466c_06a8_11ed_bdbb_96000040dfb6row2_col18,#T_e7e5466c_06a8_11ed_bdbb_96000040dfb6row3_col18,#T_e7e5466c_06a8_11ed_bdbb_96000040dfb6row4_col18,#T_e7e5466c_06a8_11ed_bdbb_96000040dfb6row5_col18,#T_e7e5466c_06a8_11ed_bdbb_96000040dfb6row6_col18,#T_e7e5466c_06a8_11ed_bdbb_96000040dfb6row7_col18,#T_e7e5466c_06a8_11ed_bdbb_96000040dfb6row8_col18,#T_e7e5466c_06a8_11ed_bdbb_96000040dfb6row9_col18,#T_e7e5466c_06a8_11ed_bdbb_96000040dfb6row10_col18,#T_e7e5466c_06a8_11ed_bdbb_96000040dfb6row11_col18{\n",
       "            background-color:  #440154;\n",
       "            color:  #f1f1f1;\n",
       "            background-color:  white;\n",
       "        }#T_e7e5466c_06a8_11ed_bdbb_96000040dfb6row2_col1,#T_e7e5466c_06a8_11ed_bdbb_96000040dfb6row6_col13{\n",
       "            background-color:  #21a585;\n",
       "            color:  #000000;\n",
       "        }#T_e7e5466c_06a8_11ed_bdbb_96000040dfb6row2_col2,#T_e7e5466c_06a8_11ed_bdbb_96000040dfb6row5_col2,#T_e7e5466c_06a8_11ed_bdbb_96000040dfb6row11_col8{\n",
       "            background-color:  #228c8d;\n",
       "            color:  #000000;\n",
       "        }#T_e7e5466c_06a8_11ed_bdbb_96000040dfb6row2_col3{\n",
       "            background-color:  #93d741;\n",
       "            color:  #000000;\n",
       "        }#T_e7e5466c_06a8_11ed_bdbb_96000040dfb6row2_col4,#T_e7e5466c_06a8_11ed_bdbb_96000040dfb6row6_col1,#T_e7e5466c_06a8_11ed_bdbb_96000040dfb6row8_col10{\n",
       "            background-color:  #2fb47c;\n",
       "            color:  #000000;\n",
       "        }#T_e7e5466c_06a8_11ed_bdbb_96000040dfb6row2_col5,#T_e7e5466c_06a8_11ed_bdbb_96000040dfb6row10_col5{\n",
       "            background-color:  #482374;\n",
       "            color:  #f1f1f1;\n",
       "        }#T_e7e5466c_06a8_11ed_bdbb_96000040dfb6row2_col6,#T_e7e5466c_06a8_11ed_bdbb_96000040dfb6row11_col6{\n",
       "            background-color:  #482475;\n",
       "            color:  #f1f1f1;\n",
       "        }#T_e7e5466c_06a8_11ed_bdbb_96000040dfb6row2_col7{\n",
       "            background-color:  #8ed645;\n",
       "            color:  #000000;\n",
       "        }#T_e7e5466c_06a8_11ed_bdbb_96000040dfb6row2_col8{\n",
       "            background-color:  #a2da37;\n",
       "            color:  #000000;\n",
       "        }#T_e7e5466c_06a8_11ed_bdbb_96000040dfb6row2_col9{\n",
       "            background-color:  #39558c;\n",
       "            color:  #f1f1f1;\n",
       "        }#T_e7e5466c_06a8_11ed_bdbb_96000040dfb6row2_col11,#T_e7e5466c_06a8_11ed_bdbb_96000040dfb6row3_col15,#T_e7e5466c_06a8_11ed_bdbb_96000040dfb6row5_col12{\n",
       "            background-color:  #433d84;\n",
       "            color:  #f1f1f1;\n",
       "        }#T_e7e5466c_06a8_11ed_bdbb_96000040dfb6row2_col12{\n",
       "            background-color:  #375b8d;\n",
       "            color:  #f1f1f1;\n",
       "        }#T_e7e5466c_06a8_11ed_bdbb_96000040dfb6row2_col13,#T_e7e5466c_06a8_11ed_bdbb_96000040dfb6row7_col8{\n",
       "            background-color:  #404588;\n",
       "            color:  #f1f1f1;\n",
       "        }#T_e7e5466c_06a8_11ed_bdbb_96000040dfb6row2_col14,#T_e7e5466c_06a8_11ed_bdbb_96000040dfb6row6_col6{\n",
       "            background-color:  #2ab07f;\n",
       "            color:  #000000;\n",
       "        }#T_e7e5466c_06a8_11ed_bdbb_96000040dfb6row2_col16{\n",
       "            background-color:  #482173;\n",
       "            color:  #f1f1f1;\n",
       "        }#T_e7e5466c_06a8_11ed_bdbb_96000040dfb6row3_col1,#T_e7e5466c_06a8_11ed_bdbb_96000040dfb6row7_col4{\n",
       "            background-color:  #8bd646;\n",
       "            color:  #000000;\n",
       "        }#T_e7e5466c_06a8_11ed_bdbb_96000040dfb6row3_col3,#T_e7e5466c_06a8_11ed_bdbb_96000040dfb6row3_col4,#T_e7e5466c_06a8_11ed_bdbb_96000040dfb6row5_col4{\n",
       "            background-color:  #3a548c;\n",
       "            color:  #f1f1f1;\n",
       "        }#T_e7e5466c_06a8_11ed_bdbb_96000040dfb6row3_col6,#T_e7e5466c_06a8_11ed_bdbb_96000040dfb6row5_col6{\n",
       "            background-color:  #54c568;\n",
       "            color:  #000000;\n",
       "        }#T_e7e5466c_06a8_11ed_bdbb_96000040dfb6row3_col7{\n",
       "            background-color:  #3dbc74;\n",
       "            color:  #000000;\n",
       "        }#T_e7e5466c_06a8_11ed_bdbb_96000040dfb6row3_col9,#T_e7e5466c_06a8_11ed_bdbb_96000040dfb6row7_col9,#T_e7e5466c_06a8_11ed_bdbb_96000040dfb6row8_col9{\n",
       "            background-color:  #1f968b;\n",
       "            color:  #000000;\n",
       "        }#T_e7e5466c_06a8_11ed_bdbb_96000040dfb6row3_col10{\n",
       "            background-color:  #26818e;\n",
       "            color:  #000000;\n",
       "        }#T_e7e5466c_06a8_11ed_bdbb_96000040dfb6row3_col16{\n",
       "            background-color:  #32648e;\n",
       "            color:  #f1f1f1;\n",
       "        }#T_e7e5466c_06a8_11ed_bdbb_96000040dfb6row4_col1{\n",
       "            background-color:  #38b977;\n",
       "            color:  #000000;\n",
       "        }#T_e7e5466c_06a8_11ed_bdbb_96000040dfb6row4_col2,#T_e7e5466c_06a8_11ed_bdbb_96000040dfb6row4_col11{\n",
       "            background-color:  #e7e419;\n",
       "            color:  #000000;\n",
       "        }#T_e7e5466c_06a8_11ed_bdbb_96000040dfb6row4_col4,#T_e7e5466c_06a8_11ed_bdbb_96000040dfb6row5_col1{\n",
       "            background-color:  #228b8d;\n",
       "            color:  #000000;\n",
       "        }#T_e7e5466c_06a8_11ed_bdbb_96000040dfb6row4_col5{\n",
       "            background-color:  #1f998a;\n",
       "            color:  #000000;\n",
       "        }#T_e7e5466c_06a8_11ed_bdbb_96000040dfb6row4_col8{\n",
       "            background-color:  #3fbc73;\n",
       "            color:  #000000;\n",
       "        }#T_e7e5466c_06a8_11ed_bdbb_96000040dfb6row4_col12,#T_e7e5466c_06a8_11ed_bdbb_96000040dfb6row5_col8{\n",
       "            background-color:  #3c4f8a;\n",
       "            color:  #f1f1f1;\n",
       "        }#T_e7e5466c_06a8_11ed_bdbb_96000040dfb6row4_col13{\n",
       "            background-color:  #481467;\n",
       "            color:  #f1f1f1;\n",
       "        }#T_e7e5466c_06a8_11ed_bdbb_96000040dfb6row5_col3{\n",
       "            background-color:  #eae51a;\n",
       "            color:  #000000;\n",
       "        }#T_e7e5466c_06a8_11ed_bdbb_96000040dfb6row5_col5{\n",
       "            background-color:  #228d8d;\n",
       "            color:  #000000;\n",
       "        }#T_e7e5466c_06a8_11ed_bdbb_96000040dfb6row5_col7{\n",
       "            background-color:  #22a884;\n",
       "            color:  #000000;\n",
       "        }#T_e7e5466c_06a8_11ed_bdbb_96000040dfb6row5_col9{\n",
       "            background-color:  #95d840;\n",
       "            color:  #000000;\n",
       "        }#T_e7e5466c_06a8_11ed_bdbb_96000040dfb6row5_col10{\n",
       "            background-color:  #a8db34;\n",
       "            color:  #000000;\n",
       "        }#T_e7e5466c_06a8_11ed_bdbb_96000040dfb6row5_col13{\n",
       "            background-color:  #3d4d8a;\n",
       "            color:  #f1f1f1;\n",
       "        }#T_e7e5466c_06a8_11ed_bdbb_96000040dfb6row5_col14{\n",
       "            background-color:  #c2df23;\n",
       "            color:  #000000;\n",
       "        }#T_e7e5466c_06a8_11ed_bdbb_96000040dfb6row6_col2{\n",
       "            background-color:  #2d718e;\n",
       "            color:  #f1f1f1;\n",
       "        }#T_e7e5466c_06a8_11ed_bdbb_96000040dfb6row6_col3{\n",
       "            background-color:  #32658e;\n",
       "            color:  #f1f1f1;\n",
       "        }#T_e7e5466c_06a8_11ed_bdbb_96000040dfb6row6_col4{\n",
       "            background-color:  #24aa83;\n",
       "            color:  #000000;\n",
       "        }#T_e7e5466c_06a8_11ed_bdbb_96000040dfb6row6_col5{\n",
       "            background-color:  #443a83;\n",
       "            color:  #f1f1f1;\n",
       "        }#T_e7e5466c_06a8_11ed_bdbb_96000040dfb6row6_col7{\n",
       "            background-color:  #3a538b;\n",
       "            color:  #f1f1f1;\n",
       "        }#T_e7e5466c_06a8_11ed_bdbb_96000040dfb6row6_col8{\n",
       "            background-color:  #25838e;\n",
       "            color:  #000000;\n",
       "        }#T_e7e5466c_06a8_11ed_bdbb_96000040dfb6row6_col9,#T_e7e5466c_06a8_11ed_bdbb_96000040dfb6row8_col8{\n",
       "            background-color:  #bade28;\n",
       "            color:  #000000;\n",
       "        }#T_e7e5466c_06a8_11ed_bdbb_96000040dfb6row6_col10,#T_e7e5466c_06a8_11ed_bdbb_96000040dfb6row9_col10{\n",
       "            background-color:  #2a768e;\n",
       "            color:  #f1f1f1;\n",
       "        }#T_e7e5466c_06a8_11ed_bdbb_96000040dfb6row6_col11{\n",
       "            background-color:  #73d056;\n",
       "            color:  #000000;\n",
       "        }#T_e7e5466c_06a8_11ed_bdbb_96000040dfb6row6_col12{\n",
       "            background-color:  #472f7d;\n",
       "            color:  #f1f1f1;\n",
       "        }#T_e7e5466c_06a8_11ed_bdbb_96000040dfb6row7_col1{\n",
       "            background-color:  #f1e51d;\n",
       "            color:  #000000;\n",
       "        }#T_e7e5466c_06a8_11ed_bdbb_96000040dfb6row7_col2{\n",
       "            background-color:  #1f948c;\n",
       "            color:  #000000;\n",
       "        }#T_e7e5466c_06a8_11ed_bdbb_96000040dfb6row7_col6{\n",
       "            background-color:  #23888e;\n",
       "            color:  #000000;\n",
       "        }#T_e7e5466c_06a8_11ed_bdbb_96000040dfb6row7_col7{\n",
       "            background-color:  #4ac16d;\n",
       "            color:  #000000;\n",
       "        }#T_e7e5466c_06a8_11ed_bdbb_96000040dfb6row7_col10{\n",
       "            background-color:  #1f958b;\n",
       "            color:  #000000;\n",
       "        }#T_e7e5466c_06a8_11ed_bdbb_96000040dfb6row7_col12{\n",
       "            background-color:  #443983;\n",
       "            color:  #f1f1f1;\n",
       "        }#T_e7e5466c_06a8_11ed_bdbb_96000040dfb6row8_col1{\n",
       "            background-color:  #d5e21a;\n",
       "            color:  #000000;\n",
       "        }#T_e7e5466c_06a8_11ed_bdbb_96000040dfb6row8_col3{\n",
       "            background-color:  #7fd34e;\n",
       "            color:  #000000;\n",
       "        }#T_e7e5466c_06a8_11ed_bdbb_96000040dfb6row8_col6{\n",
       "            background-color:  #355f8d;\n",
       "            color:  #f1f1f1;\n",
       "        }#T_e7e5466c_06a8_11ed_bdbb_96000040dfb6row8_col7{\n",
       "            background-color:  #1fa187;\n",
       "            color:  #000000;\n",
       "        }#T_e7e5466c_06a8_11ed_bdbb_96000040dfb6row9_col4,#T_e7e5466c_06a8_11ed_bdbb_96000040dfb6row11_col4{\n",
       "            background-color:  #472e7c;\n",
       "            color:  #f1f1f1;\n",
       "        }#T_e7e5466c_06a8_11ed_bdbb_96000040dfb6row9_col5{\n",
       "            background-color:  #46337f;\n",
       "            color:  #f1f1f1;\n",
       "        }#T_e7e5466c_06a8_11ed_bdbb_96000040dfb6row9_col6{\n",
       "            background-color:  #2a788e;\n",
       "            color:  #000000;\n",
       "        }#T_e7e5466c_06a8_11ed_bdbb_96000040dfb6row9_col8{\n",
       "            background-color:  #63cb5f;\n",
       "            color:  #000000;\n",
       "        }#T_e7e5466c_06a8_11ed_bdbb_96000040dfb6row9_col9{\n",
       "            background-color:  #56c667;\n",
       "            color:  #000000;\n",
       "        }#T_e7e5466c_06a8_11ed_bdbb_96000040dfb6row10_col1{\n",
       "            background-color:  #4cc26c;\n",
       "            color:  #000000;\n",
       "        }#T_e7e5466c_06a8_11ed_bdbb_96000040dfb6row10_col2{\n",
       "            background-color:  #21a685;\n",
       "            color:  #000000;\n",
       "        }#T_e7e5466c_06a8_11ed_bdbb_96000040dfb6row10_col3{\n",
       "            background-color:  #3e4a89;\n",
       "            color:  #f1f1f1;\n",
       "        }#T_e7e5466c_06a8_11ed_bdbb_96000040dfb6row10_col7{\n",
       "            background-color:  #20938c;\n",
       "            color:  #000000;\n",
       "        }#T_e7e5466c_06a8_11ed_bdbb_96000040dfb6row10_col8{\n",
       "            background-color:  #443b84;\n",
       "            color:  #f1f1f1;\n",
       "        }#T_e7e5466c_06a8_11ed_bdbb_96000040dfb6row11_col2{\n",
       "            background-color:  #423f85;\n",
       "            color:  #f1f1f1;\n",
       "        }#T_e7e5466c_06a8_11ed_bdbb_96000040dfb6row11_col3{\n",
       "            background-color:  #3aba76;\n",
       "            color:  #000000;\n",
       "        }#T_e7e5466c_06a8_11ed_bdbb_96000040dfb6row11_col5{\n",
       "            background-color:  #424186;\n",
       "            color:  #f1f1f1;\n",
       "        }</style><table id=\"T_e7e5466c_06a8_11ed_bdbb_96000040dfb6\" ><caption>User retention by cohort</caption><thead>    <tr>        <th class=\"index_name level0\" >period</th>        <th class=\"col_heading level0 col0\" >0</th>        <th class=\"col_heading level0 col1\" >1</th>        <th class=\"col_heading level0 col2\" >2</th>        <th class=\"col_heading level0 col3\" >3</th>        <th class=\"col_heading level0 col4\" >4</th>        <th class=\"col_heading level0 col5\" >5</th>        <th class=\"col_heading level0 col6\" >6</th>        <th class=\"col_heading level0 col7\" >7</th>        <th class=\"col_heading level0 col8\" >8</th>        <th class=\"col_heading level0 col9\" >9</th>        <th class=\"col_heading level0 col10\" >10</th>        <th class=\"col_heading level0 col11\" >11</th>        <th class=\"col_heading level0 col12\" >12</th>        <th class=\"col_heading level0 col13\" >13</th>        <th class=\"col_heading level0 col14\" >14</th>        <th class=\"col_heading level0 col15\" >15</th>        <th class=\"col_heading level0 col16\" >16</th>        <th class=\"col_heading level0 col17\" >17</th>        <th class=\"col_heading level0 col18\" >19</th>    </tr>    <tr>        <th class=\"index_name level0\" >cohort</th>        <th class=\"blank\" ></th>        <th class=\"blank\" ></th>        <th class=\"blank\" ></th>        <th class=\"blank\" ></th>        <th class=\"blank\" ></th>        <th class=\"blank\" ></th>        <th class=\"blank\" ></th>        <th class=\"blank\" ></th>        <th class=\"blank\" ></th>        <th class=\"blank\" ></th>        <th class=\"blank\" ></th>        <th class=\"blank\" ></th>        <th class=\"blank\" ></th>        <th class=\"blank\" ></th>        <th class=\"blank\" ></th>        <th class=\"blank\" ></th>        <th class=\"blank\" ></th>        <th class=\"blank\" ></th>        <th class=\"blank\" ></th>    </tr></thead><tbody>\n",
       "                <tr>\n",
       "                        <th id=\"T_e7e5466c_06a8_11ed_bdbb_96000040dfb6level0_row0\" class=\"row_heading level0 row0\" >2017-01</th>\n",
       "                        <td id=\"T_e7e5466c_06a8_11ed_bdbb_96000040dfb6row0_col0\" class=\"data row0 col0\" >100.00%</td>\n",
       "                        <td id=\"T_e7e5466c_06a8_11ed_bdbb_96000040dfb6row0_col1\" class=\"data row0 col1\" >0.57%</td>\n",
       "                        <td id=\"T_e7e5466c_06a8_11ed_bdbb_96000040dfb6row0_col2\" class=\"data row0 col2\" >0.28%</td>\n",
       "                        <td id=\"T_e7e5466c_06a8_11ed_bdbb_96000040dfb6row0_col3\" class=\"data row0 col3\" >0.14%</td>\n",
       "                        <td id=\"T_e7e5466c_06a8_11ed_bdbb_96000040dfb6row0_col4\" class=\"data row0 col4\" >0.43%</td>\n",
       "                        <td id=\"T_e7e5466c_06a8_11ed_bdbb_96000040dfb6row0_col5\" class=\"data row0 col5\" >0.14%</td>\n",
       "                        <td id=\"T_e7e5466c_06a8_11ed_bdbb_96000040dfb6row0_col6\" class=\"data row0 col6\" >0.43%</td>\n",
       "                        <td id=\"T_e7e5466c_06a8_11ed_bdbb_96000040dfb6row0_col7\" class=\"data row0 col7\" >0.14%</td>\n",
       "                        <td id=\"T_e7e5466c_06a8_11ed_bdbb_96000040dfb6row0_col8\" class=\"data row0 col8\" >0.14%</td>\n",
       "                        <td id=\"T_e7e5466c_06a8_11ed_bdbb_96000040dfb6row0_col9\" class=\"data row0 col9\" ></td>\n",
       "                        <td id=\"T_e7e5466c_06a8_11ed_bdbb_96000040dfb6row0_col10\" class=\"data row0 col10\" >0.28%</td>\n",
       "                        <td id=\"T_e7e5466c_06a8_11ed_bdbb_96000040dfb6row0_col11\" class=\"data row0 col11\" >0.28%</td>\n",
       "                        <td id=\"T_e7e5466c_06a8_11ed_bdbb_96000040dfb6row0_col12\" class=\"data row0 col12\" >0.71%</td>\n",
       "                        <td id=\"T_e7e5466c_06a8_11ed_bdbb_96000040dfb6row0_col13\" class=\"data row0 col13\" >0.43%</td>\n",
       "                        <td id=\"T_e7e5466c_06a8_11ed_bdbb_96000040dfb6row0_col14\" class=\"data row0 col14\" >0.14%</td>\n",
       "                        <td id=\"T_e7e5466c_06a8_11ed_bdbb_96000040dfb6row0_col15\" class=\"data row0 col15\" >0.14%</td>\n",
       "                        <td id=\"T_e7e5466c_06a8_11ed_bdbb_96000040dfb6row0_col16\" class=\"data row0 col16\" >0.28%</td>\n",
       "                        <td id=\"T_e7e5466c_06a8_11ed_bdbb_96000040dfb6row0_col17\" class=\"data row0 col17\" >0.43%</td>\n",
       "                        <td id=\"T_e7e5466c_06a8_11ed_bdbb_96000040dfb6row0_col18\" class=\"data row0 col18\" >0.14%</td>\n",
       "            </tr>\n",
       "            <tr>\n",
       "                        <th id=\"T_e7e5466c_06a8_11ed_bdbb_96000040dfb6level0_row1\" class=\"row_heading level0 row1\" >2017-02</th>\n",
       "                        <td id=\"T_e7e5466c_06a8_11ed_bdbb_96000040dfb6row1_col0\" class=\"data row1 col0\" >100.00%</td>\n",
       "                        <td id=\"T_e7e5466c_06a8_11ed_bdbb_96000040dfb6row1_col1\" class=\"data row1 col1\" >0.24%</td>\n",
       "                        <td id=\"T_e7e5466c_06a8_11ed_bdbb_96000040dfb6row1_col2\" class=\"data row1 col2\" >0.24%</td>\n",
       "                        <td id=\"T_e7e5466c_06a8_11ed_bdbb_96000040dfb6row1_col3\" class=\"data row1 col3\" >0.18%</td>\n",
       "                        <td id=\"T_e7e5466c_06a8_11ed_bdbb_96000040dfb6row1_col4\" class=\"data row1 col4\" >0.42%</td>\n",
       "                        <td id=\"T_e7e5466c_06a8_11ed_bdbb_96000040dfb6row1_col5\" class=\"data row1 col5\" >0.12%</td>\n",
       "                        <td id=\"T_e7e5466c_06a8_11ed_bdbb_96000040dfb6row1_col6\" class=\"data row1 col6\" >0.24%</td>\n",
       "                        <td id=\"T_e7e5466c_06a8_11ed_bdbb_96000040dfb6row1_col7\" class=\"data row1 col7\" >0.18%</td>\n",
       "                        <td id=\"T_e7e5466c_06a8_11ed_bdbb_96000040dfb6row1_col8\" class=\"data row1 col8\" >0.06%</td>\n",
       "                        <td id=\"T_e7e5466c_06a8_11ed_bdbb_96000040dfb6row1_col9\" class=\"data row1 col9\" >0.18%</td>\n",
       "                        <td id=\"T_e7e5466c_06a8_11ed_bdbb_96000040dfb6row1_col10\" class=\"data row1 col10\" >0.12%</td>\n",
       "                        <td id=\"T_e7e5466c_06a8_11ed_bdbb_96000040dfb6row1_col11\" class=\"data row1 col11\" >0.30%</td>\n",
       "                        <td id=\"T_e7e5466c_06a8_11ed_bdbb_96000040dfb6row1_col12\" class=\"data row1 col12\" >0.12%</td>\n",
       "                        <td id=\"T_e7e5466c_06a8_11ed_bdbb_96000040dfb6row1_col13\" class=\"data row1 col13\" >0.18%</td>\n",
       "                        <td id=\"T_e7e5466c_06a8_11ed_bdbb_96000040dfb6row1_col14\" class=\"data row1 col14\" >0.12%</td>\n",
       "                        <td id=\"T_e7e5466c_06a8_11ed_bdbb_96000040dfb6row1_col15\" class=\"data row1 col15\" >0.06%</td>\n",
       "                        <td id=\"T_e7e5466c_06a8_11ed_bdbb_96000040dfb6row1_col16\" class=\"data row1 col16\" >0.06%</td>\n",
       "                        <td id=\"T_e7e5466c_06a8_11ed_bdbb_96000040dfb6row1_col17\" class=\"data row1 col17\" >0.24%</td>\n",
       "                        <td id=\"T_e7e5466c_06a8_11ed_bdbb_96000040dfb6row1_col18\" class=\"data row1 col18\" ></td>\n",
       "            </tr>\n",
       "            <tr>\n",
       "                        <th id=\"T_e7e5466c_06a8_11ed_bdbb_96000040dfb6level0_row2\" class=\"row_heading level0 row2\" >2017-03</th>\n",
       "                        <td id=\"T_e7e5466c_06a8_11ed_bdbb_96000040dfb6row2_col0\" class=\"data row2 col0\" >100.00%</td>\n",
       "                        <td id=\"T_e7e5466c_06a8_11ed_bdbb_96000040dfb6row2_col1\" class=\"data row2 col1\" >0.50%</td>\n",
       "                        <td id=\"T_e7e5466c_06a8_11ed_bdbb_96000040dfb6row2_col2\" class=\"data row2 col2\" >0.35%</td>\n",
       "                        <td id=\"T_e7e5466c_06a8_11ed_bdbb_96000040dfb6row2_col3\" class=\"data row2 col3\" >0.35%</td>\n",
       "                        <td id=\"T_e7e5466c_06a8_11ed_bdbb_96000040dfb6row2_col4\" class=\"data row2 col4\" >0.35%</td>\n",
       "                        <td id=\"T_e7e5466c_06a8_11ed_bdbb_96000040dfb6row2_col5\" class=\"data row2 col5\" >0.16%</td>\n",
       "                        <td id=\"T_e7e5466c_06a8_11ed_bdbb_96000040dfb6row2_col6\" class=\"data row2 col6\" >0.16%</td>\n",
       "                        <td id=\"T_e7e5466c_06a8_11ed_bdbb_96000040dfb6row2_col7\" class=\"data row2 col7\" >0.31%</td>\n",
       "                        <td id=\"T_e7e5466c_06a8_11ed_bdbb_96000040dfb6row2_col8\" class=\"data row2 col8\" >0.31%</td>\n",
       "                        <td id=\"T_e7e5466c_06a8_11ed_bdbb_96000040dfb6row2_col9\" class=\"data row2 col9\" >0.12%</td>\n",
       "                        <td id=\"T_e7e5466c_06a8_11ed_bdbb_96000040dfb6row2_col10\" class=\"data row2 col10\" >0.35%</td>\n",
       "                        <td id=\"T_e7e5466c_06a8_11ed_bdbb_96000040dfb6row2_col11\" class=\"data row2 col11\" >0.12%</td>\n",
       "                        <td id=\"T_e7e5466c_06a8_11ed_bdbb_96000040dfb6row2_col12\" class=\"data row2 col12\" >0.23%</td>\n",
       "                        <td id=\"T_e7e5466c_06a8_11ed_bdbb_96000040dfb6row2_col13\" class=\"data row2 col13\" >0.12%</td>\n",
       "                        <td id=\"T_e7e5466c_06a8_11ed_bdbb_96000040dfb6row2_col14\" class=\"data row2 col14\" >0.16%</td>\n",
       "                        <td id=\"T_e7e5466c_06a8_11ed_bdbb_96000040dfb6row2_col15\" class=\"data row2 col15\" >0.23%</td>\n",
       "                        <td id=\"T_e7e5466c_06a8_11ed_bdbb_96000040dfb6row2_col16\" class=\"data row2 col16\" >0.08%</td>\n",
       "                        <td id=\"T_e7e5466c_06a8_11ed_bdbb_96000040dfb6row2_col17\" class=\"data row2 col17\" >0.16%</td>\n",
       "                        <td id=\"T_e7e5466c_06a8_11ed_bdbb_96000040dfb6row2_col18\" class=\"data row2 col18\" ></td>\n",
       "            </tr>\n",
       "            <tr>\n",
       "                        <th id=\"T_e7e5466c_06a8_11ed_bdbb_96000040dfb6level0_row3\" class=\"row_heading level0 row3\" >2017-04</th>\n",
       "                        <td id=\"T_e7e5466c_06a8_11ed_bdbb_96000040dfb6row3_col0\" class=\"data row3 col0\" >100.00%</td>\n",
       "                        <td id=\"T_e7e5466c_06a8_11ed_bdbb_96000040dfb6row3_col1\" class=\"data row3 col1\" >0.61%</td>\n",
       "                        <td id=\"T_e7e5466c_06a8_11ed_bdbb_96000040dfb6row3_col2\" class=\"data row3 col2\" >0.22%</td>\n",
       "                        <td id=\"T_e7e5466c_06a8_11ed_bdbb_96000040dfb6row3_col3\" class=\"data row3 col3\" >0.17%</td>\n",
       "                        <td id=\"T_e7e5466c_06a8_11ed_bdbb_96000040dfb6row3_col4\" class=\"data row3 col4\" >0.26%</td>\n",
       "                        <td id=\"T_e7e5466c_06a8_11ed_bdbb_96000040dfb6row3_col5\" class=\"data row3 col5\" >0.26%</td>\n",
       "                        <td id=\"T_e7e5466c_06a8_11ed_bdbb_96000040dfb6row3_col6\" class=\"data row3 col6\" >0.35%</td>\n",
       "                        <td id=\"T_e7e5466c_06a8_11ed_bdbb_96000040dfb6row3_col7\" class=\"data row3 col7\" >0.26%</td>\n",
       "                        <td id=\"T_e7e5466c_06a8_11ed_bdbb_96000040dfb6row3_col8\" class=\"data row3 col8\" >0.35%</td>\n",
       "                        <td id=\"T_e7e5466c_06a8_11ed_bdbb_96000040dfb6row3_col9\" class=\"data row3 col9\" >0.17%</td>\n",
       "                        <td id=\"T_e7e5466c_06a8_11ed_bdbb_96000040dfb6row3_col10\" class=\"data row3 col10\" >0.22%</td>\n",
       "                        <td id=\"T_e7e5466c_06a8_11ed_bdbb_96000040dfb6row3_col11\" class=\"data row3 col11\" >0.09%</td>\n",
       "                        <td id=\"T_e7e5466c_06a8_11ed_bdbb_96000040dfb6row3_col12\" class=\"data row3 col12\" >0.04%</td>\n",
       "                        <td id=\"T_e7e5466c_06a8_11ed_bdbb_96000040dfb6row3_col13\" class=\"data row3 col13\" >0.04%</td>\n",
       "                        <td id=\"T_e7e5466c_06a8_11ed_bdbb_96000040dfb6row3_col14\" class=\"data row3 col14\" >0.09%</td>\n",
       "                        <td id=\"T_e7e5466c_06a8_11ed_bdbb_96000040dfb6row3_col15\" class=\"data row3 col15\" >0.09%</td>\n",
       "                        <td id=\"T_e7e5466c_06a8_11ed_bdbb_96000040dfb6row3_col16\" class=\"data row3 col16\" >0.13%</td>\n",
       "                        <td id=\"T_e7e5466c_06a8_11ed_bdbb_96000040dfb6row3_col17\" class=\"data row3 col17\" ></td>\n",
       "                        <td id=\"T_e7e5466c_06a8_11ed_bdbb_96000040dfb6row3_col18\" class=\"data row3 col18\" ></td>\n",
       "            </tr>\n",
       "            <tr>\n",
       "                        <th id=\"T_e7e5466c_06a8_11ed_bdbb_96000040dfb6level0_row4\" class=\"row_heading level0 row4\" >2017-05</th>\n",
       "                        <td id=\"T_e7e5466c_06a8_11ed_bdbb_96000040dfb6row4_col0\" class=\"data row4 col0\" >100.00%</td>\n",
       "                        <td id=\"T_e7e5466c_06a8_11ed_bdbb_96000040dfb6row4_col1\" class=\"data row4 col1\" >0.54%</td>\n",
       "                        <td id=\"T_e7e5466c_06a8_11ed_bdbb_96000040dfb6row4_col2\" class=\"data row4 col2\" >0.48%</td>\n",
       "                        <td id=\"T_e7e5466c_06a8_11ed_bdbb_96000040dfb6row4_col3\" class=\"data row4 col3\" >0.40%</td>\n",
       "                        <td id=\"T_e7e5466c_06a8_11ed_bdbb_96000040dfb6row4_col4\" class=\"data row4 col4\" >0.31%</td>\n",
       "                        <td id=\"T_e7e5466c_06a8_11ed_bdbb_96000040dfb6row4_col5\" class=\"data row4 col5\" >0.34%</td>\n",
       "                        <td id=\"T_e7e5466c_06a8_11ed_bdbb_96000040dfb6row4_col6\" class=\"data row4 col6\" >0.43%</td>\n",
       "                        <td id=\"T_e7e5466c_06a8_11ed_bdbb_96000040dfb6row4_col7\" class=\"data row4 col7\" >0.14%</td>\n",
       "                        <td id=\"T_e7e5466c_06a8_11ed_bdbb_96000040dfb6row4_col8\" class=\"data row4 col8\" >0.26%</td>\n",
       "                        <td id=\"T_e7e5466c_06a8_11ed_bdbb_96000040dfb6row4_col9\" class=\"data row4 col9\" >0.26%</td>\n",
       "                        <td id=\"T_e7e5466c_06a8_11ed_bdbb_96000040dfb6row4_col10\" class=\"data row4 col10\" >0.28%</td>\n",
       "                        <td id=\"T_e7e5466c_06a8_11ed_bdbb_96000040dfb6row4_col11\" class=\"data row4 col11\" >0.34%</td>\n",
       "                        <td id=\"T_e7e5466c_06a8_11ed_bdbb_96000040dfb6row4_col12\" class=\"data row4 col12\" >0.20%</td>\n",
       "                        <td id=\"T_e7e5466c_06a8_11ed_bdbb_96000040dfb6row4_col13\" class=\"data row4 col13\" >0.06%</td>\n",
       "                        <td id=\"T_e7e5466c_06a8_11ed_bdbb_96000040dfb6row4_col14\" class=\"data row4 col14\" >0.20%</td>\n",
       "                        <td id=\"T_e7e5466c_06a8_11ed_bdbb_96000040dfb6row4_col15\" class=\"data row4 col15\" >0.23%</td>\n",
       "                        <td id=\"T_e7e5466c_06a8_11ed_bdbb_96000040dfb6row4_col16\" class=\"data row4 col16\" ></td>\n",
       "                        <td id=\"T_e7e5466c_06a8_11ed_bdbb_96000040dfb6row4_col17\" class=\"data row4 col17\" ></td>\n",
       "                        <td id=\"T_e7e5466c_06a8_11ed_bdbb_96000040dfb6row4_col18\" class=\"data row4 col18\" ></td>\n",
       "            </tr>\n",
       "            <tr>\n",
       "                        <th id=\"T_e7e5466c_06a8_11ed_bdbb_96000040dfb6level0_row5\" class=\"row_heading level0 row5\" >2017-06</th>\n",
       "                        <td id=\"T_e7e5466c_06a8_11ed_bdbb_96000040dfb6row5_col0\" class=\"data row5 col0\" >100.00%</td>\n",
       "                        <td id=\"T_e7e5466c_06a8_11ed_bdbb_96000040dfb6row5_col1\" class=\"data row5 col1\" >0.45%</td>\n",
       "                        <td id=\"T_e7e5466c_06a8_11ed_bdbb_96000040dfb6row5_col2\" class=\"data row5 col2\" >0.35%</td>\n",
       "                        <td id=\"T_e7e5466c_06a8_11ed_bdbb_96000040dfb6row5_col3\" class=\"data row5 col3\" >0.39%</td>\n",
       "                        <td id=\"T_e7e5466c_06a8_11ed_bdbb_96000040dfb6row5_col4\" class=\"data row5 col4\" >0.26%</td>\n",
       "                        <td id=\"T_e7e5466c_06a8_11ed_bdbb_96000040dfb6row5_col5\" class=\"data row5 col5\" >0.32%</td>\n",
       "                        <td id=\"T_e7e5466c_06a8_11ed_bdbb_96000040dfb6row5_col6\" class=\"data row5 col6\" >0.35%</td>\n",
       "                        <td id=\"T_e7e5466c_06a8_11ed_bdbb_96000040dfb6row5_col7\" class=\"data row5 col7\" >0.23%</td>\n",
       "                        <td id=\"T_e7e5466c_06a8_11ed_bdbb_96000040dfb6row5_col8\" class=\"data row5 col8\" >0.13%</td>\n",
       "                        <td id=\"T_e7e5466c_06a8_11ed_bdbb_96000040dfb6row5_col9\" class=\"data row5 col9\" >0.23%</td>\n",
       "                        <td id=\"T_e7e5466c_06a8_11ed_bdbb_96000040dfb6row5_col10\" class=\"data row5 col10\" >0.32%</td>\n",
       "                        <td id=\"T_e7e5466c_06a8_11ed_bdbb_96000040dfb6row5_col11\" class=\"data row5 col11\" >0.35%</td>\n",
       "                        <td id=\"T_e7e5466c_06a8_11ed_bdbb_96000040dfb6row5_col12\" class=\"data row5 col12\" >0.16%</td>\n",
       "                        <td id=\"T_e7e5466c_06a8_11ed_bdbb_96000040dfb6row5_col13\" class=\"data row5 col13\" >0.13%</td>\n",
       "                        <td id=\"T_e7e5466c_06a8_11ed_bdbb_96000040dfb6row5_col14\" class=\"data row5 col14\" >0.19%</td>\n",
       "                        <td id=\"T_e7e5466c_06a8_11ed_bdbb_96000040dfb6row5_col15\" class=\"data row5 col15\" ></td>\n",
       "                        <td id=\"T_e7e5466c_06a8_11ed_bdbb_96000040dfb6row5_col16\" class=\"data row5 col16\" ></td>\n",
       "                        <td id=\"T_e7e5466c_06a8_11ed_bdbb_96000040dfb6row5_col17\" class=\"data row5 col17\" ></td>\n",
       "                        <td id=\"T_e7e5466c_06a8_11ed_bdbb_96000040dfb6row5_col18\" class=\"data row5 col18\" ></td>\n",
       "            </tr>\n",
       "            <tr>\n",
       "                        <th id=\"T_e7e5466c_06a8_11ed_bdbb_96000040dfb6level0_row6\" class=\"row_heading level0 row6\" >2017-07</th>\n",
       "                        <td id=\"T_e7e5466c_06a8_11ed_bdbb_96000040dfb6row6_col0\" class=\"data row6 col0\" >100.00%</td>\n",
       "                        <td id=\"T_e7e5466c_06a8_11ed_bdbb_96000040dfb6row6_col1\" class=\"data row6 col1\" >0.53%</td>\n",
       "                        <td id=\"T_e7e5466c_06a8_11ed_bdbb_96000040dfb6row6_col2\" class=\"data row6 col2\" >0.32%</td>\n",
       "                        <td id=\"T_e7e5466c_06a8_11ed_bdbb_96000040dfb6row6_col3\" class=\"data row6 col3\" >0.19%</td>\n",
       "                        <td id=\"T_e7e5466c_06a8_11ed_bdbb_96000040dfb6row6_col4\" class=\"data row6 col4\" >0.34%</td>\n",
       "                        <td id=\"T_e7e5466c_06a8_11ed_bdbb_96000040dfb6row6_col5\" class=\"data row6 col5\" >0.19%</td>\n",
       "                        <td id=\"T_e7e5466c_06a8_11ed_bdbb_96000040dfb6row6_col6\" class=\"data row6 col6\" >0.32%</td>\n",
       "                        <td id=\"T_e7e5466c_06a8_11ed_bdbb_96000040dfb6row6_col7\" class=\"data row6 col7\" >0.11%</td>\n",
       "                        <td id=\"T_e7e5466c_06a8_11ed_bdbb_96000040dfb6row6_col8\" class=\"data row6 col8\" >0.19%</td>\n",
       "                        <td id=\"T_e7e5466c_06a8_11ed_bdbb_96000040dfb6row6_col9\" class=\"data row6 col9\" >0.24%</td>\n",
       "                        <td id=\"T_e7e5466c_06a8_11ed_bdbb_96000040dfb6row6_col10\" class=\"data row6 col10\" >0.21%</td>\n",
       "                        <td id=\"T_e7e5466c_06a8_11ed_bdbb_96000040dfb6row6_col11\" class=\"data row6 col11\" >0.29%</td>\n",
       "                        <td id=\"T_e7e5466c_06a8_11ed_bdbb_96000040dfb6row6_col12\" class=\"data row6 col12\" >0.13%</td>\n",
       "                        <td id=\"T_e7e5466c_06a8_11ed_bdbb_96000040dfb6row6_col13\" class=\"data row6 col13\" >0.27%</td>\n",
       "                        <td id=\"T_e7e5466c_06a8_11ed_bdbb_96000040dfb6row6_col14\" class=\"data row6 col14\" ></td>\n",
       "                        <td id=\"T_e7e5466c_06a8_11ed_bdbb_96000040dfb6row6_col15\" class=\"data row6 col15\" ></td>\n",
       "                        <td id=\"T_e7e5466c_06a8_11ed_bdbb_96000040dfb6row6_col16\" class=\"data row6 col16\" ></td>\n",
       "                        <td id=\"T_e7e5466c_06a8_11ed_bdbb_96000040dfb6row6_col17\" class=\"data row6 col17\" ></td>\n",
       "                        <td id=\"T_e7e5466c_06a8_11ed_bdbb_96000040dfb6row6_col18\" class=\"data row6 col18\" ></td>\n",
       "            </tr>\n",
       "            <tr>\n",
       "                        <th id=\"T_e7e5466c_06a8_11ed_bdbb_96000040dfb6level0_row7\" class=\"row_heading level0 row7\" >2017-08</th>\n",
       "                        <td id=\"T_e7e5466c_06a8_11ed_bdbb_96000040dfb6row7_col0\" class=\"data row7 col0\" >100.00%</td>\n",
       "                        <td id=\"T_e7e5466c_06a8_11ed_bdbb_96000040dfb6row7_col1\" class=\"data row7 col1\" >0.68%</td>\n",
       "                        <td id=\"T_e7e5466c_06a8_11ed_bdbb_96000040dfb6row7_col2\" class=\"data row7 col2\" >0.36%</td>\n",
       "                        <td id=\"T_e7e5466c_06a8_11ed_bdbb_96000040dfb6row7_col3\" class=\"data row7 col3\" >0.27%</td>\n",
       "                        <td id=\"T_e7e5466c_06a8_11ed_bdbb_96000040dfb6row7_col4\" class=\"data row7 col4\" >0.39%</td>\n",
       "                        <td id=\"T_e7e5466c_06a8_11ed_bdbb_96000040dfb6row7_col5\" class=\"data row7 col5\" >0.53%</td>\n",
       "                        <td id=\"T_e7e5466c_06a8_11ed_bdbb_96000040dfb6row7_col6\" class=\"data row7 col6\" >0.27%</td>\n",
       "                        <td id=\"T_e7e5466c_06a8_11ed_bdbb_96000040dfb6row7_col7\" class=\"data row7 col7\" >0.27%</td>\n",
       "                        <td id=\"T_e7e5466c_06a8_11ed_bdbb_96000040dfb6row7_col8\" class=\"data row7 col8\" >0.12%</td>\n",
       "                        <td id=\"T_e7e5466c_06a8_11ed_bdbb_96000040dfb6row7_col9\" class=\"data row7 col9\" >0.17%</td>\n",
       "                        <td id=\"T_e7e5466c_06a8_11ed_bdbb_96000040dfb6row7_col10\" class=\"data row7 col10\" >0.24%</td>\n",
       "                        <td id=\"T_e7e5466c_06a8_11ed_bdbb_96000040dfb6row7_col11\" class=\"data row7 col11\" >0.17%</td>\n",
       "                        <td id=\"T_e7e5466c_06a8_11ed_bdbb_96000040dfb6row7_col12\" class=\"data row7 col12\" >0.15%</td>\n",
       "                        <td id=\"T_e7e5466c_06a8_11ed_bdbb_96000040dfb6row7_col13\" class=\"data row7 col13\" ></td>\n",
       "                        <td id=\"T_e7e5466c_06a8_11ed_bdbb_96000040dfb6row7_col14\" class=\"data row7 col14\" ></td>\n",
       "                        <td id=\"T_e7e5466c_06a8_11ed_bdbb_96000040dfb6row7_col15\" class=\"data row7 col15\" ></td>\n",
       "                        <td id=\"T_e7e5466c_06a8_11ed_bdbb_96000040dfb6row7_col16\" class=\"data row7 col16\" ></td>\n",
       "                        <td id=\"T_e7e5466c_06a8_11ed_bdbb_96000040dfb6row7_col17\" class=\"data row7 col17\" ></td>\n",
       "                        <td id=\"T_e7e5466c_06a8_11ed_bdbb_96000040dfb6row7_col18\" class=\"data row7 col18\" ></td>\n",
       "            </tr>\n",
       "            <tr>\n",
       "                        <th id=\"T_e7e5466c_06a8_11ed_bdbb_96000040dfb6level0_row8\" class=\"row_heading level0 row8\" >2017-09</th>\n",
       "                        <td id=\"T_e7e5466c_06a8_11ed_bdbb_96000040dfb6row8_col0\" class=\"data row8 col0\" >100.00%</td>\n",
       "                        <td id=\"T_e7e5466c_06a8_11ed_bdbb_96000040dfb6row8_col1\" class=\"data row8 col1\" >0.66%</td>\n",
       "                        <td id=\"T_e7e5466c_06a8_11ed_bdbb_96000040dfb6row8_col2\" class=\"data row8 col2\" >0.49%</td>\n",
       "                        <td id=\"T_e7e5466c_06a8_11ed_bdbb_96000040dfb6row8_col3\" class=\"data row8 col3\" >0.34%</td>\n",
       "                        <td id=\"T_e7e5466c_06a8_11ed_bdbb_96000040dfb6row8_col4\" class=\"data row8 col4\" >0.42%</td>\n",
       "                        <td id=\"T_e7e5466c_06a8_11ed_bdbb_96000040dfb6row8_col5\" class=\"data row8 col5\" >0.27%</td>\n",
       "                        <td id=\"T_e7e5466c_06a8_11ed_bdbb_96000040dfb6row8_col6\" class=\"data row8 col6\" >0.22%</td>\n",
       "                        <td id=\"T_e7e5466c_06a8_11ed_bdbb_96000040dfb6row8_col7\" class=\"data row8 col7\" >0.22%</td>\n",
       "                        <td id=\"T_e7e5466c_06a8_11ed_bdbb_96000040dfb6row8_col8\" class=\"data row8 col8\" >0.32%</td>\n",
       "                        <td id=\"T_e7e5466c_06a8_11ed_bdbb_96000040dfb6row8_col9\" class=\"data row8 col9\" >0.17%</td>\n",
       "                        <td id=\"T_e7e5466c_06a8_11ed_bdbb_96000040dfb6row8_col10\" class=\"data row8 col10\" >0.27%</td>\n",
       "                        <td id=\"T_e7e5466c_06a8_11ed_bdbb_96000040dfb6row8_col11\" class=\"data row8 col11\" >0.07%</td>\n",
       "                        <td id=\"T_e7e5466c_06a8_11ed_bdbb_96000040dfb6row8_col12\" class=\"data row8 col12\" ></td>\n",
       "                        <td id=\"T_e7e5466c_06a8_11ed_bdbb_96000040dfb6row8_col13\" class=\"data row8 col13\" ></td>\n",
       "                        <td id=\"T_e7e5466c_06a8_11ed_bdbb_96000040dfb6row8_col14\" class=\"data row8 col14\" ></td>\n",
       "                        <td id=\"T_e7e5466c_06a8_11ed_bdbb_96000040dfb6row8_col15\" class=\"data row8 col15\" ></td>\n",
       "                        <td id=\"T_e7e5466c_06a8_11ed_bdbb_96000040dfb6row8_col16\" class=\"data row8 col16\" ></td>\n",
       "                        <td id=\"T_e7e5466c_06a8_11ed_bdbb_96000040dfb6row8_col17\" class=\"data row8 col17\" ></td>\n",
       "                        <td id=\"T_e7e5466c_06a8_11ed_bdbb_96000040dfb6row8_col18\" class=\"data row8 col18\" ></td>\n",
       "            </tr>\n",
       "            <tr>\n",
       "                        <th id=\"T_e7e5466c_06a8_11ed_bdbb_96000040dfb6level0_row9\" class=\"row_heading level0 row9\" >2017-10</th>\n",
       "                        <td id=\"T_e7e5466c_06a8_11ed_bdbb_96000040dfb6row9_col0\" class=\"data row9 col0\" >100.00%</td>\n",
       "                        <td id=\"T_e7e5466c_06a8_11ed_bdbb_96000040dfb6row9_col1\" class=\"data row9 col1\" >0.69%</td>\n",
       "                        <td id=\"T_e7e5466c_06a8_11ed_bdbb_96000040dfb6row9_col2\" class=\"data row9 col2\" >0.30%</td>\n",
       "                        <td id=\"T_e7e5466c_06a8_11ed_bdbb_96000040dfb6row9_col3\" class=\"data row9 col3\" >0.09%</td>\n",
       "                        <td id=\"T_e7e5466c_06a8_11ed_bdbb_96000040dfb6row9_col4\" class=\"data row9 col4\" >0.23%</td>\n",
       "                        <td id=\"T_e7e5466c_06a8_11ed_bdbb_96000040dfb6row9_col5\" class=\"data row9 col5\" >0.18%</td>\n",
       "                        <td id=\"T_e7e5466c_06a8_11ed_bdbb_96000040dfb6row9_col6\" class=\"data row9 col6\" >0.25%</td>\n",
       "                        <td id=\"T_e7e5466c_06a8_11ed_bdbb_96000040dfb6row9_col7\" class=\"data row9 col7\" >0.37%</td>\n",
       "                        <td id=\"T_e7e5466c_06a8_11ed_bdbb_96000040dfb6row9_col8\" class=\"data row9 col8\" >0.28%</td>\n",
       "                        <td id=\"T_e7e5466c_06a8_11ed_bdbb_96000040dfb6row9_col9\" class=\"data row9 col9\" >0.21%</td>\n",
       "                        <td id=\"T_e7e5466c_06a8_11ed_bdbb_96000040dfb6row9_col10\" class=\"data row9 col10\" >0.21%</td>\n",
       "                        <td id=\"T_e7e5466c_06a8_11ed_bdbb_96000040dfb6row9_col11\" class=\"data row9 col11\" ></td>\n",
       "                        <td id=\"T_e7e5466c_06a8_11ed_bdbb_96000040dfb6row9_col12\" class=\"data row9 col12\" ></td>\n",
       "                        <td id=\"T_e7e5466c_06a8_11ed_bdbb_96000040dfb6row9_col13\" class=\"data row9 col13\" ></td>\n",
       "                        <td id=\"T_e7e5466c_06a8_11ed_bdbb_96000040dfb6row9_col14\" class=\"data row9 col14\" ></td>\n",
       "                        <td id=\"T_e7e5466c_06a8_11ed_bdbb_96000040dfb6row9_col15\" class=\"data row9 col15\" ></td>\n",
       "                        <td id=\"T_e7e5466c_06a8_11ed_bdbb_96000040dfb6row9_col16\" class=\"data row9 col16\" ></td>\n",
       "                        <td id=\"T_e7e5466c_06a8_11ed_bdbb_96000040dfb6row9_col17\" class=\"data row9 col17\" ></td>\n",
       "                        <td id=\"T_e7e5466c_06a8_11ed_bdbb_96000040dfb6row9_col18\" class=\"data row9 col18\" ></td>\n",
       "            </tr>\n",
       "            <tr>\n",
       "                        <th id=\"T_e7e5466c_06a8_11ed_bdbb_96000040dfb6level0_row10\" class=\"row_heading level0 row10\" >2017-11</th>\n",
       "                        <td id=\"T_e7e5466c_06a8_11ed_bdbb_96000040dfb6row10_col0\" class=\"data row10 col0\" >100.00%</td>\n",
       "                        <td id=\"T_e7e5466c_06a8_11ed_bdbb_96000040dfb6row10_col1\" class=\"data row10 col1\" >0.56%</td>\n",
       "                        <td id=\"T_e7e5466c_06a8_11ed_bdbb_96000040dfb6row10_col2\" class=\"data row10 col2\" >0.38%</td>\n",
       "                        <td id=\"T_e7e5466c_06a8_11ed_bdbb_96000040dfb6row10_col3\" class=\"data row10 col3\" >0.16%</td>\n",
       "                        <td id=\"T_e7e5466c_06a8_11ed_bdbb_96000040dfb6row10_col4\" class=\"data row10 col4\" >0.20%</td>\n",
       "                        <td id=\"T_e7e5466c_06a8_11ed_bdbb_96000040dfb6row10_col5\" class=\"data row10 col5\" >0.16%</td>\n",
       "                        <td id=\"T_e7e5466c_06a8_11ed_bdbb_96000040dfb6row10_col6\" class=\"data row10 col6\" >0.13%</td>\n",
       "                        <td id=\"T_e7e5466c_06a8_11ed_bdbb_96000040dfb6row10_col7\" class=\"data row10 col7\" >0.20%</td>\n",
       "                        <td id=\"T_e7e5466c_06a8_11ed_bdbb_96000040dfb6row10_col8\" class=\"data row10 col8\" >0.11%</td>\n",
       "                        <td id=\"T_e7e5466c_06a8_11ed_bdbb_96000040dfb6row10_col9\" class=\"data row10 col9\" >0.07%</td>\n",
       "                        <td id=\"T_e7e5466c_06a8_11ed_bdbb_96000040dfb6row10_col10\" class=\"data row10 col10\" ></td>\n",
       "                        <td id=\"T_e7e5466c_06a8_11ed_bdbb_96000040dfb6row10_col11\" class=\"data row10 col11\" ></td>\n",
       "                        <td id=\"T_e7e5466c_06a8_11ed_bdbb_96000040dfb6row10_col12\" class=\"data row10 col12\" ></td>\n",
       "                        <td id=\"T_e7e5466c_06a8_11ed_bdbb_96000040dfb6row10_col13\" class=\"data row10 col13\" ></td>\n",
       "                        <td id=\"T_e7e5466c_06a8_11ed_bdbb_96000040dfb6row10_col14\" class=\"data row10 col14\" ></td>\n",
       "                        <td id=\"T_e7e5466c_06a8_11ed_bdbb_96000040dfb6row10_col15\" class=\"data row10 col15\" ></td>\n",
       "                        <td id=\"T_e7e5466c_06a8_11ed_bdbb_96000040dfb6row10_col16\" class=\"data row10 col16\" ></td>\n",
       "                        <td id=\"T_e7e5466c_06a8_11ed_bdbb_96000040dfb6row10_col17\" class=\"data row10 col17\" ></td>\n",
       "                        <td id=\"T_e7e5466c_06a8_11ed_bdbb_96000040dfb6row10_col18\" class=\"data row10 col18\" ></td>\n",
       "            </tr>\n",
       "            <tr>\n",
       "                        <th id=\"T_e7e5466c_06a8_11ed_bdbb_96000040dfb6level0_row11\" class=\"row_heading level0 row11\" >2017-12</th>\n",
       "                        <td id=\"T_e7e5466c_06a8_11ed_bdbb_96000040dfb6row11_col0\" class=\"data row11 col0\" >100.00%</td>\n",
       "                        <td id=\"T_e7e5466c_06a8_11ed_bdbb_96000040dfb6row11_col1\" class=\"data row11 col1\" >0.23%</td>\n",
       "                        <td id=\"T_e7e5466c_06a8_11ed_bdbb_96000040dfb6row11_col2\" class=\"data row11 col2\" >0.27%</td>\n",
       "                        <td id=\"T_e7e5466c_06a8_11ed_bdbb_96000040dfb6row11_col3\" class=\"data row11 col3\" >0.30%</td>\n",
       "                        <td id=\"T_e7e5466c_06a8_11ed_bdbb_96000040dfb6row11_col4\" class=\"data row11 col4\" >0.23%</td>\n",
       "                        <td id=\"T_e7e5466c_06a8_11ed_bdbb_96000040dfb6row11_col5\" class=\"data row11 col5\" >0.20%</td>\n",
       "                        <td id=\"T_e7e5466c_06a8_11ed_bdbb_96000040dfb6row11_col6\" class=\"data row11 col6\" >0.16%</td>\n",
       "                        <td id=\"T_e7e5466c_06a8_11ed_bdbb_96000040dfb6row11_col7\" class=\"data row11 col7\" >0.02%</td>\n",
       "                        <td id=\"T_e7e5466c_06a8_11ed_bdbb_96000040dfb6row11_col8\" class=\"data row11 col8\" >0.20%</td>\n",
       "                        <td id=\"T_e7e5466c_06a8_11ed_bdbb_96000040dfb6row11_col9\" class=\"data row11 col9\" ></td>\n",
       "                        <td id=\"T_e7e5466c_06a8_11ed_bdbb_96000040dfb6row11_col10\" class=\"data row11 col10\" ></td>\n",
       "                        <td id=\"T_e7e5466c_06a8_11ed_bdbb_96000040dfb6row11_col11\" class=\"data row11 col11\" ></td>\n",
       "                        <td id=\"T_e7e5466c_06a8_11ed_bdbb_96000040dfb6row11_col12\" class=\"data row11 col12\" ></td>\n",
       "                        <td id=\"T_e7e5466c_06a8_11ed_bdbb_96000040dfb6row11_col13\" class=\"data row11 col13\" ></td>\n",
       "                        <td id=\"T_e7e5466c_06a8_11ed_bdbb_96000040dfb6row11_col14\" class=\"data row11 col14\" ></td>\n",
       "                        <td id=\"T_e7e5466c_06a8_11ed_bdbb_96000040dfb6row11_col15\" class=\"data row11 col15\" ></td>\n",
       "                        <td id=\"T_e7e5466c_06a8_11ed_bdbb_96000040dfb6row11_col16\" class=\"data row11 col16\" ></td>\n",
       "                        <td id=\"T_e7e5466c_06a8_11ed_bdbb_96000040dfb6row11_col17\" class=\"data row11 col17\" ></td>\n",
       "                        <td id=\"T_e7e5466c_06a8_11ed_bdbb_96000040dfb6row11_col18\" class=\"data row11 col18\" ></td>\n",
       "            </tr>\n",
       "    </tbody></table>"
      ],
      "text/plain": [
       "<pandas.io.formats.style.Styler at 0x7f497b99b8d0>"
      ]
     },
     "execution_count": 94,
     "metadata": {},
     "output_type": "execute_result"
    }
   ],
   "source": [
    "retention_style = (retention\n",
    "            .style\n",
    "            .set_caption('User retention by cohort')\n",
    "            .background_gradient(cmap='viridis')\n",
    "            .highlight_null('white') \n",
    "            .format(\"{:.2%}\", na_rep=\"\")) \n",
    "retention_style"
   ]
  },
  {
   "cell_type": "code",
   "execution_count": 95,
   "metadata": {},
   "outputs": [
    {
     "data": {
      "text/plain": [
       "PeriodIndex(['2017-05'], dtype='period[M]', name='cohort', freq='M')"
      ]
     },
     "execution_count": 95,
     "metadata": {},
     "output_type": "execute_result"
    }
   ],
   "source": [
    "retention[retention[3] == retention[3].max()].index"
   ]
  },
  {
   "cell_type": "markdown",
   "metadata": {},
   "source": [
    "Нашли когорту с максимальным значением retention на третий месяц: \"2017-05\"!"
   ]
  },
  {
   "cell_type": "markdown",
   "metadata": {},
   "source": [
    "6. Часто для качественного анализа аудитории использую подходы, основанные на сегментации. Используя python, построй RFM-сегментацию пользователей, чтобы качественно оценить свою аудиторию. В кластеризации можешь выбрать следующие метрики: R - время от последней покупки пользователя до текущей даты, F - суммарное количество покупок у пользователя за всё время, M - сумма покупок за всё время. Подробно опиши, как ты создавал кластеры. Для каждого RFM-сегмента построй границы метрик recency, frequency и monetary для интерпретации этих кластеров. Пример такого описания: RFM-сегмент 132 (recency=1, frequency=3, monetary=2) имеет границы метрик recency от 130 до 500 дней, frequency от 2 до 5 заказов в неделю, monetary от 1780 до 3560 рублей в неделю."
   ]
  },
  {
   "cell_type": "code",
   "execution_count": 96,
   "metadata": {},
   "outputs": [],
   "source": [
    "rfm_df = goods \\\n",
    "    .merge(orders) \\\n",
    "    .query('order_status == [\"processing\", \"shipped\", \"delivered\"] or order_delivered_customer_date!=\"\"')\n",
    "#создаём датафрейм для когорт"
   ]
  },
  {
   "cell_type": "markdown",
   "metadata": {},
   "source": [
    "Предположим, что отчёт был выгружен вчера(т.к. даты достаточно давние, то считать на сегодняшний момент не очень осмысленно), поэтому находим \"вчерашнюю\" дату:"
   ]
  },
  {
   "cell_type": "code",
   "execution_count": 97,
   "metadata": {},
   "outputs": [],
   "source": [
    "last_day = rfm_df.order_approved_at.max()"
   ]
  },
  {
   "cell_type": "markdown",
   "metadata": {},
   "source": [
    "Таким образом, можно найти дату \"сегодняшнюю\":"
   ]
  },
  {
   "cell_type": "code",
   "execution_count": 98,
   "metadata": {},
   "outputs": [],
   "source": [
    "today = last_day + timedelta(days=1)"
   ]
  },
  {
   "cell_type": "markdown",
   "metadata": {},
   "source": [
    "Создаём таблицу RFM\n",
    "\n",
    "R - время от последней покупки пользователя до текущей даты \n",
    "F - суммарное количество покупок у пользователя за всё время \n",
    "M - стоимость покупок за всё время"
   ]
  },
  {
   "cell_type": "code",
   "execution_count": 99,
   "metadata": {},
   "outputs": [],
   "source": [
    "rfm_df = rfm_df \\\n",
    "    .groupby('customer_unique_id', as_index=False) \\\n",
    "    .agg({'order_approved_at':\n",
    "          lambda x: (today - x.max()).days, \n",
    "          #находим разницу между \"вчера\" и \"сегодня\"\n",
    "          'product_id': \n",
    "          lambda x: len(x), \n",
    "          #находим суммарное количество покупок у пользователя за всё время\n",
    "          'price': \n",
    "          lambda x: x.sum()}) \n",
    "          #находим стоимость покупок за всё время"
   ]
  },
  {
   "cell_type": "code",
   "execution_count": 100,
   "metadata": {},
   "outputs": [],
   "source": [
    "rfm_df = rfm_df \\\n",
    "    .rename(columns={'order_approved_at': 'r', \n",
    "                     'product_id': 'f', \n",
    "                     'price': 'm'})\n",
    "#переименовываем колонки"
   ]
  },
  {
   "cell_type": "code",
   "execution_count": 101,
   "metadata": {},
   "outputs": [
    {
     "data": {
      "text/plain": [
       "count    94678.000000\n",
       "mean       243.306227\n",
       "std        152.826553\n",
       "min          1.000000\n",
       "25%        119.000000\n",
       "50%        224.000000\n",
       "75%        352.000000\n",
       "max        719.000000\n",
       "Name: r, dtype: float64"
      ]
     },
     "execution_count": 101,
     "metadata": {},
     "output_type": "execute_result"
    }
   ],
   "source": [
    "rfm_df.r.describe()"
   ]
  },
  {
   "cell_type": "markdown",
   "metadata": {},
   "source": [
    "Сегментируем r-score: 1 - если заказывал меньше чем 30 дней назад, 2 - в интервале от 30-90 дней, 3 - позже, чем 90 дней назад"
   ]
  },
  {
   "cell_type": "code",
   "execution_count": 102,
   "metadata": {
    "scrolled": true
   },
   "outputs": [
    {
     "data": {
      "text/html": [
       "<div>\n",
       "<style scoped>\n",
       "    .dataframe tbody tr th:only-of-type {\n",
       "        vertical-align: middle;\n",
       "    }\n",
       "\n",
       "    .dataframe tbody tr th {\n",
       "        vertical-align: top;\n",
       "    }\n",
       "\n",
       "    .dataframe thead th {\n",
       "        text-align: right;\n",
       "    }\n",
       "</style>\n",
       "<table border=\"1\" class=\"dataframe\">\n",
       "  <thead>\n",
       "    <tr style=\"text-align: right;\">\n",
       "      <th></th>\n",
       "      <th>customer_unique_id</th>\n",
       "      <th>r</th>\n",
       "      <th>f</th>\n",
       "      <th>m</th>\n",
       "      <th>r_score</th>\n",
       "    </tr>\n",
       "  </thead>\n",
       "  <tbody>\n",
       "    <tr>\n",
       "      <th>0</th>\n",
       "      <td>0000366f3b9a7992bf8c76cfdf3221e2</td>\n",
       "      <td>117.0</td>\n",
       "      <td>1</td>\n",
       "      <td>129.90</td>\n",
       "      <td>3</td>\n",
       "    </tr>\n",
       "    <tr>\n",
       "      <th>1</th>\n",
       "      <td>0000b849f77a49e4a4ce2b2a4ca5be3f</td>\n",
       "      <td>119.0</td>\n",
       "      <td>1</td>\n",
       "      <td>18.90</td>\n",
       "      <td>1</td>\n",
       "    </tr>\n",
       "    <tr>\n",
       "      <th>2</th>\n",
       "      <td>0000f46a3911fa3c0805444483337064</td>\n",
       "      <td>542.0</td>\n",
       "      <td>1</td>\n",
       "      <td>69.00</td>\n",
       "      <td>2</td>\n",
       "    </tr>\n",
       "    <tr>\n",
       "      <th>3</th>\n",
       "      <td>0000f6ccb0745a6a4b88665a16c9f078</td>\n",
       "      <td>326.0</td>\n",
       "      <td>1</td>\n",
       "      <td>25.99</td>\n",
       "      <td>1</td>\n",
       "    </tr>\n",
       "    <tr>\n",
       "      <th>4</th>\n",
       "      <td>0004aac84e0df4da2b147fca70cf8255</td>\n",
       "      <td>293.0</td>\n",
       "      <td>1</td>\n",
       "      <td>180.00</td>\n",
       "      <td>3</td>\n",
       "    </tr>\n",
       "  </tbody>\n",
       "</table>\n",
       "</div>"
      ],
      "text/plain": [
       "                 customer_unique_id      r  f       m  r_score\n",
       "0  0000366f3b9a7992bf8c76cfdf3221e2  117.0  1  129.90        3\n",
       "1  0000b849f77a49e4a4ce2b2a4ca5be3f  119.0  1   18.90        1\n",
       "2  0000f46a3911fa3c0805444483337064  542.0  1   69.00        2\n",
       "3  0000f6ccb0745a6a4b88665a16c9f078  326.0  1   25.99        1\n",
       "4  0004aac84e0df4da2b147fca70cf8255  293.0  1  180.00        3"
      ]
     },
     "execution_count": 102,
     "metadata": {},
     "output_type": "execute_result"
    }
   ],
   "source": [
    "rfm_df['r_score'] = rfm_df.m \\\n",
    "    .apply(lambda x: \n",
    "               3 if x > 92 \n",
    "           else 2 if 92 > x \n",
    "               and x > 30 \n",
    "           else 1)\n",
    "rfm_df.head()"
   ]
  },
  {
   "cell_type": "code",
   "execution_count": 103,
   "metadata": {},
   "outputs": [
    {
     "data": {
      "text/plain": [
       "count    94691.000000\n",
       "mean         1.180112\n",
       "std          0.620173\n",
       "min          1.000000\n",
       "25%          1.000000\n",
       "50%          1.000000\n",
       "75%          1.000000\n",
       "max         24.000000\n",
       "Name: f, dtype: float64"
      ]
     },
     "execution_count": 103,
     "metadata": {},
     "output_type": "execute_result"
    }
   ],
   "source": [
    "rfm_df.f.describe()"
   ]
  },
  {
   "cell_type": "markdown",
   "metadata": {},
   "source": [
    "Cегментируем f-score: 1 - меньше 2 заказов, 2 - 2 заказа, 3 - более 2 заказов:"
   ]
  },
  {
   "cell_type": "code",
   "execution_count": 104,
   "metadata": {
    "scrolled": false
   },
   "outputs": [
    {
     "data": {
      "text/html": [
       "<div>\n",
       "<style scoped>\n",
       "    .dataframe tbody tr th:only-of-type {\n",
       "        vertical-align: middle;\n",
       "    }\n",
       "\n",
       "    .dataframe tbody tr th {\n",
       "        vertical-align: top;\n",
       "    }\n",
       "\n",
       "    .dataframe thead th {\n",
       "        text-align: right;\n",
       "    }\n",
       "</style>\n",
       "<table border=\"1\" class=\"dataframe\">\n",
       "  <thead>\n",
       "    <tr style=\"text-align: right;\">\n",
       "      <th></th>\n",
       "      <th>customer_unique_id</th>\n",
       "      <th>r</th>\n",
       "      <th>f</th>\n",
       "      <th>m</th>\n",
       "      <th>r_score</th>\n",
       "      <th>f_score</th>\n",
       "    </tr>\n",
       "  </thead>\n",
       "  <tbody>\n",
       "    <tr>\n",
       "      <th>0</th>\n",
       "      <td>0000366f3b9a7992bf8c76cfdf3221e2</td>\n",
       "      <td>117.0</td>\n",
       "      <td>1</td>\n",
       "      <td>129.90</td>\n",
       "      <td>3</td>\n",
       "      <td>1</td>\n",
       "    </tr>\n",
       "    <tr>\n",
       "      <th>1</th>\n",
       "      <td>0000b849f77a49e4a4ce2b2a4ca5be3f</td>\n",
       "      <td>119.0</td>\n",
       "      <td>1</td>\n",
       "      <td>18.90</td>\n",
       "      <td>1</td>\n",
       "      <td>1</td>\n",
       "    </tr>\n",
       "    <tr>\n",
       "      <th>2</th>\n",
       "      <td>0000f46a3911fa3c0805444483337064</td>\n",
       "      <td>542.0</td>\n",
       "      <td>1</td>\n",
       "      <td>69.00</td>\n",
       "      <td>2</td>\n",
       "      <td>1</td>\n",
       "    </tr>\n",
       "    <tr>\n",
       "      <th>3</th>\n",
       "      <td>0000f6ccb0745a6a4b88665a16c9f078</td>\n",
       "      <td>326.0</td>\n",
       "      <td>1</td>\n",
       "      <td>25.99</td>\n",
       "      <td>1</td>\n",
       "      <td>1</td>\n",
       "    </tr>\n",
       "    <tr>\n",
       "      <th>4</th>\n",
       "      <td>0004aac84e0df4da2b147fca70cf8255</td>\n",
       "      <td>293.0</td>\n",
       "      <td>1</td>\n",
       "      <td>180.00</td>\n",
       "      <td>3</td>\n",
       "      <td>1</td>\n",
       "    </tr>\n",
       "  </tbody>\n",
       "</table>\n",
       "</div>"
      ],
      "text/plain": [
       "                 customer_unique_id      r  f       m  r_score  f_score\n",
       "0  0000366f3b9a7992bf8c76cfdf3221e2  117.0  1  129.90        3        1\n",
       "1  0000b849f77a49e4a4ce2b2a4ca5be3f  119.0  1   18.90        1        1\n",
       "2  0000f46a3911fa3c0805444483337064  542.0  1   69.00        2        1\n",
       "3  0000f6ccb0745a6a4b88665a16c9f078  326.0  1   25.99        1        1\n",
       "4  0004aac84e0df4da2b147fca70cf8255  293.0  1  180.00        3        1"
      ]
     },
     "execution_count": 104,
     "metadata": {},
     "output_type": "execute_result"
    }
   ],
   "source": [
    "rfm_df['f_score'] = rfm_df.f \\\n",
    "    .apply(lambda x: \n",
    "               3 if x > 2 \n",
    "           else x)\n",
    "rfm_df.head()"
   ]
  },
  {
   "cell_type": "code",
   "execution_count": 105,
   "metadata": {},
   "outputs": [
    {
     "data": {
      "text/plain": [
       "count    94691.000000\n",
       "mean       141.864707\n",
       "std        215.707794\n",
       "min          0.850000\n",
       "25%         47.800000\n",
       "50%         89.800000\n",
       "75%        154.910000\n",
       "max      13440.000000\n",
       "Name: m, dtype: float64"
      ]
     },
     "execution_count": 105,
     "metadata": {},
     "output_type": "execute_result"
    }
   ],
   "source": [
    "rfm_df.m.describe()"
   ]
  },
  {
   "cell_type": "markdown",
   "metadata": {},
   "source": [
    "Cегментируем m-score: 1 - сумма меньше 89.8, 2 - сумма в границах 89.8 - 154.91, 3 - сумма больше 154.91"
   ]
  },
  {
   "cell_type": "code",
   "execution_count": 106,
   "metadata": {
    "scrolled": true
   },
   "outputs": [
    {
     "data": {
      "text/plain": [
       "customer_unique_id     object\n",
       "r                     float64\n",
       "f                       int64\n",
       "m                     float64\n",
       "r_score                 int64\n",
       "f_score                 int64\n",
       "m_score                 int64\n",
       "dtype: object"
      ]
     },
     "execution_count": 106,
     "metadata": {},
     "output_type": "execute_result"
    }
   ],
   "source": [
    "rfm_df['m_score'] = rfm_df.m \\\n",
    "    .apply(lambda x: \n",
    "               3 if x > 154.91 \n",
    "           else 2 if 154.91 > x \n",
    "               and x > 89.8 \n",
    "           else 1)\n",
    "rfm_df.dtypes"
   ]
  },
  {
   "cell_type": "markdown",
   "metadata": {},
   "source": [
    "И, наконец, склеиваем в единый RFM-score:"
   ]
  },
  {
   "cell_type": "code",
   "execution_count": 107,
   "metadata": {},
   "outputs": [
    {
     "data": {
      "text/html": [
       "<div>\n",
       "<style scoped>\n",
       "    .dataframe tbody tr th:only-of-type {\n",
       "        vertical-align: middle;\n",
       "    }\n",
       "\n",
       "    .dataframe tbody tr th {\n",
       "        vertical-align: top;\n",
       "    }\n",
       "\n",
       "    .dataframe thead th {\n",
       "        text-align: right;\n",
       "    }\n",
       "</style>\n",
       "<table border=\"1\" class=\"dataframe\">\n",
       "  <thead>\n",
       "    <tr style=\"text-align: right;\">\n",
       "      <th></th>\n",
       "      <th>customer_unique_id</th>\n",
       "      <th>r</th>\n",
       "      <th>f</th>\n",
       "      <th>m</th>\n",
       "      <th>r_score</th>\n",
       "      <th>f_score</th>\n",
       "      <th>m_score</th>\n",
       "      <th>rfm_seg</th>\n",
       "    </tr>\n",
       "  </thead>\n",
       "  <tbody>\n",
       "    <tr>\n",
       "      <th>0</th>\n",
       "      <td>0000366f3b9a7992bf8c76cfdf3221e2</td>\n",
       "      <td>117.0</td>\n",
       "      <td>1</td>\n",
       "      <td>129.90</td>\n",
       "      <td>3</td>\n",
       "      <td>1</td>\n",
       "      <td>2</td>\n",
       "      <td>312</td>\n",
       "    </tr>\n",
       "    <tr>\n",
       "      <th>1</th>\n",
       "      <td>0000b849f77a49e4a4ce2b2a4ca5be3f</td>\n",
       "      <td>119.0</td>\n",
       "      <td>1</td>\n",
       "      <td>18.90</td>\n",
       "      <td>1</td>\n",
       "      <td>1</td>\n",
       "      <td>1</td>\n",
       "      <td>111</td>\n",
       "    </tr>\n",
       "    <tr>\n",
       "      <th>2</th>\n",
       "      <td>0000f46a3911fa3c0805444483337064</td>\n",
       "      <td>542.0</td>\n",
       "      <td>1</td>\n",
       "      <td>69.00</td>\n",
       "      <td>2</td>\n",
       "      <td>1</td>\n",
       "      <td>1</td>\n",
       "      <td>211</td>\n",
       "    </tr>\n",
       "    <tr>\n",
       "      <th>3</th>\n",
       "      <td>0000f6ccb0745a6a4b88665a16c9f078</td>\n",
       "      <td>326.0</td>\n",
       "      <td>1</td>\n",
       "      <td>25.99</td>\n",
       "      <td>1</td>\n",
       "      <td>1</td>\n",
       "      <td>1</td>\n",
       "      <td>111</td>\n",
       "    </tr>\n",
       "    <tr>\n",
       "      <th>4</th>\n",
       "      <td>0004aac84e0df4da2b147fca70cf8255</td>\n",
       "      <td>293.0</td>\n",
       "      <td>1</td>\n",
       "      <td>180.00</td>\n",
       "      <td>3</td>\n",
       "      <td>1</td>\n",
       "      <td>3</td>\n",
       "      <td>313</td>\n",
       "    </tr>\n",
       "  </tbody>\n",
       "</table>\n",
       "</div>"
      ],
      "text/plain": [
       "                 customer_unique_id      r  f       m  r_score  f_score  \\\n",
       "0  0000366f3b9a7992bf8c76cfdf3221e2  117.0  1  129.90        3        1   \n",
       "1  0000b849f77a49e4a4ce2b2a4ca5be3f  119.0  1   18.90        1        1   \n",
       "2  0000f46a3911fa3c0805444483337064  542.0  1   69.00        2        1   \n",
       "3  0000f6ccb0745a6a4b88665a16c9f078  326.0  1   25.99        1        1   \n",
       "4  0004aac84e0df4da2b147fca70cf8255  293.0  1  180.00        3        1   \n",
       "\n",
       "   m_score rfm_seg  \n",
       "0        2     312  \n",
       "1        1     111  \n",
       "2        1     211  \n",
       "3        1     111  \n",
       "4        3     313  "
      ]
     },
     "execution_count": 107,
     "metadata": {},
     "output_type": "execute_result"
    }
   ],
   "source": [
    "rfm_df['rfm_seg'] = (\n",
    "                     rfm_df.r_score.map(str) \n",
    "                     + rfm_df.f_score.map(str) \n",
    "                     + rfm_df.m_score.map(str)\n",
    "                    )\n",
    "rfm_df.head()"
   ]
  },
  {
   "cell_type": "markdown",
   "metadata": {},
   "source": [
    "Немного информации о значения RFM.\n",
    "Аббревиатура RFM расшифровывается, как:\n",
    "- Recency — давность (как давно ваши пользователи что-то у вас покупали);\n",
    "- Frequency — частота (как часто они у вас покупают);\n",
    "- Monetary — деньги (общая сумма покупок).\n",
    "По давности заказа (recency):\n",
    "1 — давние клиенты;\n",
    "2 — относительно недавние клиенты;\n",
    "3 — недавние клиенты.\n",
    "По частоте покупок (frequency):\n",
    "1 — покупает очень редко (единичные заказы);\n",
    "2 — покупает нечасто;\n",
    "3 — покупает часто.\n",
    "По сумме покупок (monetary):\n",
    "1 — маленькая сумма;\n",
    "2 — средняя сумма;\n",
    "3 — большая сумма.\n",
    "Например, пользователь «111» покупал давно, один раз и на маленькую сумму. Или пользователь «333»: покупает часто, на большую сумму и последняя покупка была недавно."
   ]
  },
  {
   "cell_type": "markdown",
   "metadata": {},
   "source": [
    "Визуализируем:"
   ]
  },
  {
   "cell_type": "code",
   "execution_count": 108,
   "metadata": {
    "scrolled": false
   },
   "outputs": [
    {
     "data": {
      "text/plain": [
       "<matplotlib.axes._subplots.AxesSubplot at 0x7f497ba74cc0>"
      ]
     },
     "execution_count": 108,
     "metadata": {},
     "output_type": "execute_result"
    },
    {
     "data": {
      "image/png": "[encoded data removed]",
      "text/plain": [
       "<Figure size 1296x1008 with 1 Axes>"
      ]
     },
     "metadata": {
      "needs_background": "light"
     },
     "output_type": "display_data"
    }
   ],
   "source": [
    "rfm_df_plt = rfm_df.groupby('rfm_seg', as_index=False) \\\n",
    "    .agg({'customer_unique_id':\n",
    "          'count'}) \\\n",
    "    .rename(columns={'customer_unique_id':\n",
    "                     'num_unique'}) \\\n",
    "    .sort_values('num_unique', \n",
    "                 ascending=False)\n",
    "plt.figure(figsize=(18,14))\n",
    "plt.title('RFM')\n",
    "sns.barplot(data=rfm_df_plt, \n",
    "            x='rfm_seg', \n",
    "            y='num_unique')"
   ]
  },
  {
   "cell_type": "markdown",
   "metadata": {},
   "source": [
    "Можем посчитать частоту встречаемости:"
   ]
  },
  {
   "cell_type": "code",
   "execution_count": 109,
   "metadata": {
    "scrolled": false
   },
   "outputs": [
    {
     "data": {
      "text/plain": [
       "<matplotlib.axes._subplots.AxesSubplot at 0x7f494c815cc0>"
      ]
     },
     "execution_count": 109,
     "metadata": {},
     "output_type": "execute_result"
    },
    {
     "data": {
      "image/png": "[encoded data removed]",
      "text/plain": [
       "<Figure size 1296x1008 with 1 Axes>"
      ]
     },
     "metadata": {
      "needs_background": "light"
     },
     "output_type": "display_data"
    }
   ],
   "source": [
    "rfm_df_plt['percent'] = round((rfm_df_plt['num_unique'] * 100) \n",
    "                              / rfm_df_plt['num_unique'].sum(),2)\n",
    "plt.figure(figsize=(18,14))\n",
    "plt.title('RFM Frequency')\n",
    "sns.barplot(data=rfm_df_plt, x='rfm_seg', y='percent')"
   ]
  },
  {
   "cell_type": "markdown",
   "metadata": {},
   "source": [
    "Основная доля клиентов состоит в группе RFM 211 (последняя покупка в пределах 3-х месяцев, кол-во покупок = 1, суммарный объем покупки менее 89.8). Это почти 32% наших клиентов. Клиенты RFM 333 составляет около 1.9 процента."
   ]
  }
 ],
 "metadata": {
  "kernelspec": {
   "display_name": "Python 3",
   "language": "python",
   "name": "python3"
  },
  "language_info": {
   "codemirror_mode": {
    "name": "ipython",
    "version": 3
   },
   "file_extension": ".py",
   "mimetype": "text/x-python",
   "name": "python",
   "nbconvert_exporter": "python",
   "pygments_lexer": "ipython3",
   "version": "3.7.3"
  }
 },
 "nbformat": 4,
 "nbformat_minor": 4
}
